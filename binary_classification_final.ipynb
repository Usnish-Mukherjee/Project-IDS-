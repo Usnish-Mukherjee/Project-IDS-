{
  "nbformat": 4,
  "nbformat_minor": 0,
  "metadata": {
    "colab": {
      "name": "binary_classification_final.ipynb",
      "provenance": [],
      "collapsed_sections": [],
      "machine_shape": "hm",
      "include_colab_link": true
    },
    "kernelspec": {
      "name": "python3",
      "display_name": "Python 3"
    },
    "accelerator": "TPU"
  },
  "cells": [
    {
      "cell_type": "markdown",
      "metadata": {
        "id": "view-in-github",
        "colab_type": "text"
      },
      "source": [
        "<a href=\"https://colab.research.google.com/github/Usnish-Mukherjee/Project-IDS-/blob/main/binary_classification_final.ipynb\" target=\"_parent\"><img src=\"https://colab.research.google.com/assets/colab-badge.svg\" alt=\"Open In Colab\"/></a>"
      ]
    },
    {
      "cell_type": "code",
      "metadata": {
        "id": "ZktFCN7CEpNF"
      },
      "source": [
        "import numpy as np\n",
        "from glob import glob\n",
        "import pandas as pd\n",
        "from sklearn.preprocessing import LabelEncoder, OneHotEncoder, MinMaxScaler"
      ],
      "execution_count": 8,
      "outputs": []
    },
    {
      "cell_type": "code",
      "metadata": {
        "id": "mLld9820PJfN",
        "colab": {
          "base_uri": "https://localhost:8080/"
        },
        "outputId": "46a75df2-f199-434b-d13d-77cca0a56153"
      },
      "source": [
        "from google.colab import drive\r\n",
        "drive.mount('/content/drive')"
      ],
      "execution_count": 4,
      "outputs": [
        {
          "output_type": "stream",
          "text": [
            "Mounted at /content/drive\n"
          ],
          "name": "stdout"
        }
      ]
    },
    {
      "cell_type": "code",
      "metadata": {
        "id": "yho4a8i2FZ5k",
        "colab": {
          "base_uri": "https://localhost:8080/"
        },
        "outputId": "5233eec5-0fdf-435f-f6f4-2a7aee5674e6"
      },
      "source": [
        "nd1 = np.zeros((0,79),dtype=object)\n",
        "for x in glob('/content/drive/My Drive/Dataset/Data/*.csv'):\n",
        "    print(x)\n",
        "    nd1=np.vstack((nd1,pd.read_csv(x)))"
      ],
      "execution_count": 7,
      "outputs": [
        {
          "output_type": "stream",
          "text": [
            "/content/drive/My Drive/Dataset/Data/Wednesday-28-02-2018_TrafficForML_CICFlowMeter.csv\n",
            "/content/drive/My Drive/Dataset/Data/Wednesday-21-02-2018_TrafficForML_CICFlowMeter.csv\n",
            "/content/drive/My Drive/Dataset/Data/Friday-02-03-2018_TrafficForML_CICFlowMeter.csv\n",
            "/content/drive/My Drive/Dataset/Data/Friday-16-02-2018_TrafficForML_CICFlowMeter.csv\n",
            "/content/drive/My Drive/Dataset/Data/Friday-23-02-2018_TrafficForML_CICFlowMeter.csv\n",
            "/content/drive/My Drive/Dataset/Data/Thursday-01-03-2018_TrafficForML_CICFlowMeter.csv\n",
            "/content/drive/My Drive/Dataset/Data/Thursday-15-02-2018_TrafficForML_CICFlowMeter.csv\n",
            "/content/drive/My Drive/Dataset/Data/Thursday-22-02-2018_TrafficForML_CICFlowMeter.csv\n",
            "/content/drive/My Drive/Dataset/Data/Wednesday-14-02-2018_TrafficForML_CICFlowMeter.csv\n"
          ],
          "name": "stdout"
        }
      ]
    },
    {
      "cell_type": "code",
      "metadata": {
        "id": "cDYg1uOHQYwM",
        "colab": {
          "base_uri": "https://localhost:8080/"
        },
        "outputId": "7346cf08-e4bd-4cb5-b531-bed6c8856026"
      },
      "source": [
        "from google.colab import drive\n",
        "drive.mount('/content/drive')"
      ],
      "execution_count": 8,
      "outputs": [
        {
          "output_type": "stream",
          "text": [
            "Drive already mounted at /content/drive; to attempt to forcibly remount, call drive.mount(\"/content/drive\", force_remount=True).\n"
          ],
          "name": "stdout"
        }
      ]
    },
    {
      "cell_type": "code",
      "metadata": {
        "id": "Q-bSbGJoFz7s",
        "colab": {
          "base_uri": "https://localhost:8080/"
        },
        "outputId": "b0fc1a51-c33d-4ef1-fc25-0603e2df9505"
      },
      "source": [
        "nd1.shape"
      ],
      "execution_count": 9,
      "outputs": [
        {
          "output_type": "execute_result",
          "data": {
            "text/plain": [
              "(8284195, 79)"
            ]
          },
          "metadata": {
            "tags": []
          },
          "execution_count": 9
        }
      ]
    },
    {
      "cell_type": "code",
      "metadata": {
        "id": "6Y1gHCZgHLpm"
      },
      "source": [
        "Dt1=nd1[:,:-1].astype(float)"
      ],
      "execution_count": 10,
      "outputs": []
    },
    {
      "cell_type": "code",
      "metadata": {
        "id": "WI1a91ivGdzh"
      },
      "source": [
        "LNMV1=nd1[~np.isnan(Dt1).any(axis=1),-1]\n",
        "DtNMV1=Dt1[~np.isnan(Dt1).any(axis=1)]\n",
        "LNMIV1=LNMV1[~np.isinf(DtNMV1).any(axis=1)]\n",
        "DtNMIV1=DtNMV1[~np.isinf(DtNMV1).any(axis=1)]"
      ],
      "execution_count": 11,
      "outputs": []
    },
    {
      "cell_type": "code",
      "metadata": {
        "id": "8UBdlMm4HSQH"
      },
      "source": [
        "del(DtNMV1)"
      ],
      "execution_count": 12,
      "outputs": []
    },
    {
      "cell_type": "code",
      "metadata": {
        "id": "IYIU3D0hHTK7"
      },
      "source": [
        "np.save('/content/drive/My Drive/Result/NBx1', MinMaxScaler().fit_transform(DtNMIV1))\n",
        "np.save('/content/drive/My Drive/Result/NBy1', (LNMIV1=='Benign').astype(int))"
      ],
      "execution_count": 13,
      "outputs": []
    },
    {
      "cell_type": "code",
      "metadata": {
        "id": "7Da2eCufHhTS",
        "colab": {
          "base_uri": "https://localhost:8080/"
        },
        "outputId": "5ca8b3fa-ec0c-4041-e8ed-b386294fb6aa"
      },
      "source": [
        "DtNMIV1.shape"
      ],
      "execution_count": 14,
      "outputs": [
        {
          "output_type": "execute_result",
          "data": {
            "text/plain": [
              "(8247888, 78)"
            ]
          },
          "metadata": {
            "tags": []
          },
          "execution_count": 14
        }
      ]
    },
    {
      "cell_type": "code",
      "metadata": {
        "id": "ASSHUPMuHmLF"
      },
      "source": [
        "MCDt1=DtNMIV1[LNMIV1 !='Benign',:]"
      ],
      "execution_count": 15,
      "outputs": []
    },
    {
      "cell_type": "code",
      "metadata": {
        "id": "HOqeEaYCHpT_",
        "colab": {
          "base_uri": "https://localhost:8080/"
        },
        "outputId": "6ea364b3-575e-42af-9e29-33a96a73a816"
      },
      "source": [
        "MCDt1.shape"
      ],
      "execution_count": 16,
      "outputs": [
        {
          "output_type": "execute_result",
          "data": {
            "text/plain": [
              "(2170743, 78)"
            ]
          },
          "metadata": {
            "tags": []
          },
          "execution_count": 16
        }
      ]
    },
    {
      "cell_type": "code",
      "metadata": {
        "id": "PydDhs08uTxk"
      },
      "source": [
        "nd2 = np.zeros((0,79),dtype=object)\r\n",
        "nd2=np.vstack((nd2,pd.read_csv('/content/drive/My Drive/Dataset/Thuesday-20-02-2018_TrafficForML_CICFlowMeter.csv')))"
      ],
      "execution_count": 9,
      "outputs": []
    },
    {
      "cell_type": "code",
      "metadata": {
        "id": "IONXjBb7uYKm"
      },
      "source": [
        "Dt2=nd2[:,:-1].astype(float)"
      ],
      "execution_count": 10,
      "outputs": []
    },
    {
      "cell_type": "code",
      "metadata": {
        "id": "mmfWxCnNudYd"
      },
      "source": [
        "LNMV2=nd2[~np.isnan(Dt2).any(axis=1),-1]\r\n",
        "DtNMV2=Dt2[~np.isnan(Dt2).any(axis=1)]\r\n",
        "LNMIV2=LNMV2[~np.isinf(DtNMV2).any(axis=1)]\r\n",
        "DtNMIV2=DtNMV2[~np.isinf(DtNMV2).any(axis=1)]"
      ],
      "execution_count": 11,
      "outputs": []
    },
    {
      "cell_type": "code",
      "metadata": {
        "id": "VMIQ1cjZugWw"
      },
      "source": [
        "del(DtNMV2)"
      ],
      "execution_count": 12,
      "outputs": []
    },
    {
      "cell_type": "code",
      "metadata": {
        "id": "5QXWw6zOuhP1"
      },
      "source": [
        "np.save('/content/drive/My Drive/Result/NBx2', MinMaxScaler().fit_transform(DtNMIV2))\r\n",
        "np.save('/content/drive/My Drive/Result/NBy2', (LNMIV2=='Benign').astype(int))"
      ],
      "execution_count": 13,
      "outputs": []
    },
    {
      "cell_type": "code",
      "metadata": {
        "id": "7S7hMpiSujiu",
        "colab": {
          "base_uri": "https://localhost:8080/"
        },
        "outputId": "adb83110-a0ae-4f3b-e6a1-2f33ac3be420"
      },
      "source": [
        "DtNMIV2.shape"
      ],
      "execution_count": 14,
      "outputs": [
        {
          "output_type": "execute_result",
          "data": {
            "text/plain": [
              "(7889295, 78)"
            ]
          },
          "metadata": {
            "tags": []
          },
          "execution_count": 14
        }
      ]
    },
    {
      "cell_type": "code",
      "metadata": {
        "id": "Use6ABvQul_g"
      },
      "source": [
        "MCDt2=DtNMIV2[LNMIV2 !='Benign',:]"
      ],
      "execution_count": 15,
      "outputs": []
    },
    {
      "cell_type": "code",
      "metadata": {
        "id": "rL2pcifzuoPn",
        "colab": {
          "base_uri": "https://localhost:8080/"
        },
        "outputId": "b12a5026-c6c9-4e61-909c-c9925a54938b"
      },
      "source": [
        "MCDt2.shape"
      ],
      "execution_count": 16,
      "outputs": [
        {
          "output_type": "execute_result",
          "data": {
            "text/plain": [
              "(576191, 78)"
            ]
          },
          "metadata": {
            "tags": []
          },
          "execution_count": 16
        }
      ]
    },
    {
      "cell_type": "code",
      "metadata": {
        "id": "xXAKnzLqIImi"
      },
      "source": [
        "import numpy as np\n",
        "import os\n",
        "import tensorflow as tf\n",
        "import keras\n",
        "from keras import models\n",
        "from keras import layers"
      ],
      "execution_count": 2,
      "outputs": []
    },
    {
      "cell_type": "code",
      "metadata": {
        "id": "17vzZjDQIPJc"
      },
      "source": [
        "x1=np.load('/content/drive/My Drive/Result/NBx1.npy')\n",
        "y1=np.load('/content/drive/My Drive/Result/NBy1.npy')\n",
        "x2=np.load('/content/drive/My Drive/Result/NBx2.npy')\n",
        "y2=np.load('/content/drive/My Drive/Result/NBy2.npy')\n",
        "x=np.concatenate((x1,x2), axis=0)\n",
        "y=np.concatenate((y1,y2), axis=0)\n",
        "x=x.astype(np.float32)"
      ],
      "execution_count": 3,
      "outputs": []
    },
    {
      "cell_type": "code",
      "metadata": {
        "id": "TS05KKf5IaRZ"
      },
      "source": [
        "x=np.delete(x,0,1)"
      ],
      "execution_count": 4,
      "outputs": []
    },
    {
      "cell_type": "code",
      "metadata": {
        "id": "2VYdzcsqIdyd",
        "colab": {
          "base_uri": "https://localhost:8080/"
        },
        "outputId": "6b099a8e-e151-4cba-e2da-69dad1d8c5d2"
      },
      "source": [
        "(unique, counts) = np.unique(y, return_counts=True)\n",
        "frequencies = np.asarray((unique, counts)).T\n",
        "\n",
        "print(frequencies)"
      ],
      "execution_count": 5,
      "outputs": [
        {
          "output_type": "stream",
          "text": [
            "[[       0  2746934]\n",
            " [       1 13390249]]\n"
          ],
          "name": "stdout"
        }
      ]
    },
    {
      "cell_type": "code",
      "metadata": {
        "id": "vwDuO_c2Ieys",
        "colab": {
          "base_uri": "https://localhost:8080/"
        },
        "outputId": "1610586f-4a73-4a28-a8dd-b17e3d7f7d36"
      },
      "source": [
        "x.shape"
      ],
      "execution_count": 7,
      "outputs": [
        {
          "output_type": "execute_result",
          "data": {
            "text/plain": [
              "(16137183, 77)"
            ]
          },
          "metadata": {
            "tags": []
          },
          "execution_count": 7
        }
      ]
    },
    {
      "cell_type": "code",
      "metadata": {
        "id": "TU4H5gc5ItdB"
      },
      "source": [
        "from sklearn.model_selection import train_test_split\n",
        "xtrain, xtest, ytrain, ytest = train_test_split(x, y, test_size=0.2, random_state=123)"
      ],
      "execution_count": 8,
      "outputs": []
    },
    {
      "cell_type": "code",
      "metadata": {
        "id": "Zk60ohdTIzYj",
        "colab": {
          "base_uri": "https://localhost:8080/"
        },
        "outputId": "c7882619-c6ce-44f4-81d3-613b4e81dea6"
      },
      "source": [
        "def create_model():\n",
        "  model = models.Sequential()\n",
        "  model.add(layers.Dense(256,input_dim=x.shape[1],activation='relu',use_bias=True))\n",
        "  model.add(layers.Dropout(0.1))\n",
        "  model.add(layers.Dense(128,activation='relu',use_bias=True))\n",
        "  model.add(layers.Dropout(0.1))\n",
        "  model.add(layers.Dense(64,activation='relu',use_bias=True))\n",
        "  model.add(layers.Dropout(0.1))\n",
        "  model.add(layers.Dense(32,activation='relu',use_bias=True))\n",
        "  model.add(layers.Dropout(0.5))\n",
        "  model.add(layers.Dense(1,activation='sigmoid',use_bias=True)) \n",
        "  return model\n",
        " \n",
        "model = create_model()\n",
        "model.compile(loss=\"binary_crossentropy\", optimizer=\"adam\", metrics=['accuracy'])\n",
        "model.summary()\n",
        "history=model.fit(xtrain , ytrain ,batch_size=1024 , epochs=20 ,verbose=1 ,shuffle=True)\n",
        "result = model.evaluate(xtest,ytest)\n",
        "dict(zip(model.metrics_names, result))"
      ],
      "execution_count": 9,
      "outputs": [
        {
          "output_type": "stream",
          "text": [
            "Model: \"sequential\"\n",
            "_________________________________________________________________\n",
            "Layer (type)                 Output Shape              Param #   \n",
            "=================================================================\n",
            "dense (Dense)                (None, 256)               19968     \n",
            "_________________________________________________________________\n",
            "dropout (Dropout)            (None, 256)               0         \n",
            "_________________________________________________________________\n",
            "dense_1 (Dense)              (None, 128)               32896     \n",
            "_________________________________________________________________\n",
            "dropout_1 (Dropout)          (None, 128)               0         \n",
            "_________________________________________________________________\n",
            "dense_2 (Dense)              (None, 64)                8256      \n",
            "_________________________________________________________________\n",
            "dropout_2 (Dropout)          (None, 64)                0         \n",
            "_________________________________________________________________\n",
            "dense_3 (Dense)              (None, 32)                2080      \n",
            "_________________________________________________________________\n",
            "dropout_3 (Dropout)          (None, 32)                0         \n",
            "_________________________________________________________________\n",
            "dense_4 (Dense)              (None, 1)                 33        \n",
            "=================================================================\n",
            "Total params: 63,233\n",
            "Trainable params: 63,233\n",
            "Non-trainable params: 0\n",
            "_________________________________________________________________\n",
            "Epoch 1/20\n",
            "12608/12608 [==============================] - 129s 10ms/step - loss: 0.0777 - accuracy: 0.9776\n",
            "Epoch 2/20\n",
            "12608/12608 [==============================] - 165s 13ms/step - loss: 0.0509 - accuracy: 0.9864\n",
            "Epoch 3/20\n",
            "12608/12608 [==============================] - 164s 13ms/step - loss: 0.0494 - accuracy: 0.9865\n",
            "Epoch 4/20\n",
            "12608/12608 [==============================] - 113s 9ms/step - loss: 0.0491 - accuracy: 0.9865\n",
            "Epoch 5/20\n",
            "12608/12608 [==============================] - 101s 8ms/step - loss: 0.0487 - accuracy: 0.9867\n",
            "Epoch 6/20\n",
            "12608/12608 [==============================] - 98s 8ms/step - loss: 0.0483 - accuracy: 0.9868\n",
            "Epoch 7/20\n",
            "12608/12608 [==============================] - 96s 8ms/step - loss: 0.0483 - accuracy: 0.9867\n",
            "Epoch 8/20\n",
            "12608/12608 [==============================] - 97s 8ms/step - loss: 0.0485 - accuracy: 0.9869\n",
            "Epoch 9/20\n",
            "12608/12608 [==============================] - 96s 8ms/step - loss: 0.0478 - accuracy: 0.9871\n",
            "Epoch 10/20\n",
            "12608/12608 [==============================] - 95s 8ms/step - loss: 0.0471 - accuracy: 0.9871\n",
            "Epoch 11/20\n",
            "12608/12608 [==============================] - 97s 8ms/step - loss: 0.0461 - accuracy: 0.9874\n",
            "Epoch 12/20\n",
            "12608/12608 [==============================] - 99s 8ms/step - loss: 0.0458 - accuracy: 0.9873\n",
            "Epoch 13/20\n",
            "12608/12608 [==============================] - 100s 8ms/step - loss: 0.0462 - accuracy: 0.9871\n",
            "Epoch 14/20\n",
            "12608/12608 [==============================] - 97s 8ms/step - loss: 0.0460 - accuracy: 0.9872\n",
            "Epoch 15/20\n",
            "12608/12608 [==============================] - 97s 8ms/step - loss: 0.0458 - accuracy: 0.9871\n",
            "Epoch 16/20\n",
            "12608/12608 [==============================] - 97s 8ms/step - loss: 0.0455 - accuracy: 0.9872\n",
            "Epoch 17/20\n",
            "12608/12608 [==============================] - 96s 8ms/step - loss: 0.0452 - accuracy: 0.9874\n",
            "Epoch 18/20\n",
            "12608/12608 [==============================] - 99s 8ms/step - loss: 0.0456 - accuracy: 0.9872\n",
            "Epoch 19/20\n",
            "12608/12608 [==============================] - 98s 8ms/step - loss: 0.0453 - accuracy: 0.9872\n",
            "Epoch 20/20\n",
            "12608/12608 [==============================] - 99s 8ms/step - loss: 0.0451 - accuracy: 0.9875\n",
            "100858/100858 [==============================] - 82s 809us/step - loss: 0.0417 - accuracy: 0.9884\n"
          ],
          "name": "stdout"
        },
        {
          "output_type": "execute_result",
          "data": {
            "text/plain": [
              "{'accuracy': 0.988387405872345, 'loss': 0.041733622550964355}"
            ]
          },
          "metadata": {
            "tags": []
          },
          "execution_count": 9
        }
      ]
    },
    {
      "cell_type": "code",
      "metadata": {
        "id": "N8xriabXJBWI"
      },
      "source": [
        "y_pred=model.predict(xtest)"
      ],
      "execution_count": 10,
      "outputs": []
    },
    {
      "cell_type": "code",
      "metadata": {
        "id": "HjhuTGksJE7B",
        "colab": {
          "base_uri": "https://localhost:8080/"
        },
        "outputId": "637c62a7-a8b9-4eac-ae53-7b2323213563"
      },
      "source": [
        "from sklearn import metrics\n",
        "print(\"The accuracy score is\",metrics.accuracy_score(ytest, y_pred.round()))\n",
        "print(\"The precision score is\",metrics.precision_score(ytest, y_pred.round(),average='weighted'))\n",
        "print(\"The recall score is\",metrics.recall_score(ytest, y_pred.round(),average='weighted'))\n",
        "print(\"The f1-score is\",metrics.f1_score(ytest, y_pred.round(),average='weighted'))\n",
        "print('\\n')\n",
        "print(metrics.confusion_matrix(ytest, y_pred.round()))\n",
        "print('\\n')\n",
        "print(\"=== Classification Report ===\")\n",
        "print(metrics.classification_report(ytest, y_pred.round()))\n",
        "print('\\n')"
      ],
      "execution_count": 11,
      "outputs": [
        {
          "output_type": "stream",
          "text": [
            "The accuracy score is 0.9883873798311168\n",
            "The precision score is 0.9884103967528366\n",
            "The recall score is 0.9883873798311168\n",
            "The f1-score is 0.9882668316053108\n",
            "\n",
            "\n",
            "[[ 516190   32599]\n",
            " [   4880 2673768]]\n",
            "\n",
            "\n",
            "=== Classification Report ===\n",
            "              precision    recall  f1-score   support\n",
            "\n",
            "           0       0.99      0.94      0.96    548789\n",
            "           1       0.99      1.00      0.99   2678648\n",
            "\n",
            "    accuracy                           0.99   3227437\n",
            "   macro avg       0.99      0.97      0.98   3227437\n",
            "weighted avg       0.99      0.99      0.99   3227437\n",
            "\n",
            "\n",
            "\n"
          ],
          "name": "stdout"
        }
      ]
    },
    {
      "cell_type": "code",
      "metadata": {
        "id": "03sVB4oFJKhA"
      },
      "source": [
        "from sklearn.ensemble import RandomForestClassifier\n",
        "rfc = RandomForestClassifier()\n",
        "rfc_history=rfc.fit(xtrain,ytrain)\n",
        "rfc_predict = rfc.predict(xtest)"
      ],
      "execution_count": null,
      "outputs": []
    },
    {
      "cell_type": "code",
      "metadata": {
        "id": "M7_Q4fCpJOkQ"
      },
      "source": [
        "from sklearn import metrics\n",
        "print(\"The accuracy score is\",metrics.accuracy_score(ytest, rfc_predict))\n",
        "print(\"The precision score is\",metrics.precision_score(ytest, rfc_predict,average='weighted'))\n",
        "print(\"The recall score is\",metrics.recall_score(ytest, rfc_predict,average='weighted'))\n",
        "print(\"The f1-score is\",metrics.f1_score(ytest, rfc_predict,average='weighted'))\n",
        "print('\\n')\n",
        "print(metrics.confusion_matrix(ytest, rfc_predict))\n",
        "print('\\n')\n",
        "print(\"=== Classification Report ===\")\n",
        "print(metrics.classification_report(ytest, rfc_predict))\n",
        "print('\\n')"
      ],
      "execution_count": null,
      "outputs": []
    },
    {
      "cell_type": "code",
      "metadata": {
        "id": "pafL7Li0jyXW"
      },
      "source": [
        ""
      ],
      "execution_count": null,
      "outputs": []
    }
  ]
}