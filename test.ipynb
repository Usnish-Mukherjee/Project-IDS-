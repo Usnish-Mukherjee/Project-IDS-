{
  "nbformat": 4,
  "nbformat_minor": 0,
  "metadata": {
    "colab": {
      "name": "test.ipynb",
      "provenance": [],
      "authorship_tag": "ABX9TyOvVnDUbNHkl4r5N19lS0e2",
      "include_colab_link": true
    },
    "kernelspec": {
      "name": "python3",
      "display_name": "Python 3"
    }
  },
  "cells": [
    {
      "cell_type": "markdown",
      "metadata": {
        "id": "view-in-github",
        "colab_type": "text"
      },
      "source": [
        "<a href=\"https://colab.research.google.com/github/Usnish-Mukherjee/Intrusion_Detection/blob/master/test.ipynb\" target=\"_parent\"><img src=\"https://colab.research.google.com/assets/colab-badge.svg\" alt=\"Open In Colab\"/></a>"
      ]
    },
    {
      "cell_type": "code",
      "metadata": {
        "id": "ZktFCN7CEpNF"
      },
      "source": [
        "import numpy as np\n",
        "from glob import glob\n",
        "import pandas as pd\n",
        "from sklearn.preprocessing import LabelEncoder, OneHotEncoder, MinMaxScaler"
      ],
      "execution_count": 33,
      "outputs": []
    },
    {
      "cell_type": "code",
      "metadata": {
        "id": "yho4a8i2FZ5k"
      },
      "source": [
        "nd1 = np.zeros((0,79),dtype=object)\n",
        "data_set=pd.read_csv('Thursday-01-03-2018_TrafficForML_CICFlowMeter.csv')\n",
        "nd1=np.vstack((nd1,data_set))"
      ],
      "execution_count": 34,
      "outputs": []
    },
    {
      "cell_type": "code",
      "metadata": {
        "id": "Q-bSbGJoFz7s",
        "outputId": "4bcd059c-628b-4689-b1b2-c0053e21f684",
        "colab": {
          "base_uri": "https://localhost:8080/"
        }
      },
      "source": [
        "nd1.shape"
      ],
      "execution_count": 35,
      "outputs": [
        {
          "output_type": "execute_result",
          "data": {
            "text/plain": [
              "(331100, 79)"
            ]
          },
          "metadata": {
            "tags": []
          },
          "execution_count": 35
        }
      ]
    },
    {
      "cell_type": "code",
      "metadata": {
        "id": "6Y1gHCZgHLpm"
      },
      "source": [
        "Dt1=nd1[:,:-1].astype(float)"
      ],
      "execution_count": 36,
      "outputs": []
    },
    {
      "cell_type": "code",
      "metadata": {
        "id": "WI1a91ivGdzh"
      },
      "source": [
        "LNMV1=nd1[~np.isnan(Dt1).any(axis=1),-1]\n",
        "DtNMV1=Dt1[~np.isnan(Dt1).any(axis=1)]\n",
        "LNMIV1=LNMV1[~np.isinf(DtNMV1).any(axis=1)]\n",
        "DtNMIV1=DtNMV1[~np.isinf(DtNMV1).any(axis=1)]"
      ],
      "execution_count": 37,
      "outputs": []
    },
    {
      "cell_type": "code",
      "metadata": {
        "id": "8UBdlMm4HSQH"
      },
      "source": [
        "del(DtNMV1)"
      ],
      "execution_count": 38,
      "outputs": []
    },
    {
      "cell_type": "code",
      "metadata": {
        "id": "IYIU3D0hHTK7"
      },
      "source": [
        "np.save('NBx1', MinMaxScaler().fit_transform(DtNMIV1))\n",
        "np.save('NBy1', (LNMIV1=='Benign').astype(int))"
      ],
      "execution_count": 39,
      "outputs": []
    },
    {
      "cell_type": "code",
      "metadata": {
        "id": "7Da2eCufHhTS",
        "outputId": "51180258-cc97-409a-e8e5-735303e0cda3",
        "colab": {
          "base_uri": "https://localhost:8080/"
        }
      },
      "source": [
        "DtNMIV1.shape"
      ],
      "execution_count": 40,
      "outputs": [
        {
          "output_type": "execute_result",
          "data": {
            "text/plain": [
              "(328181, 78)"
            ]
          },
          "metadata": {
            "tags": []
          },
          "execution_count": 40
        }
      ]
    },
    {
      "cell_type": "code",
      "metadata": {
        "id": "ASSHUPMuHmLF"
      },
      "source": [
        "MCDt1=DtNMIV1[LNMIV1 !='Benign',:]"
      ],
      "execution_count": 41,
      "outputs": []
    },
    {
      "cell_type": "code",
      "metadata": {
        "id": "HOqeEaYCHpT_",
        "outputId": "6653acd0-f716-4eb9-9e9b-cd2972333a7c",
        "colab": {
          "base_uri": "https://localhost:8080/"
        }
      },
      "source": [
        "MCDt1.shape"
      ],
      "execution_count": 42,
      "outputs": [
        {
          "output_type": "execute_result",
          "data": {
            "text/plain": [
              "(92403, 78)"
            ]
          },
          "metadata": {
            "tags": []
          },
          "execution_count": 42
        }
      ]
    },
    {
      "cell_type": "code",
      "metadata": {
        "id": "xXAKnzLqIImi"
      },
      "source": [
        "import numpy as np\n",
        "import os\n",
        "import tensorflow as tf\n",
        "import keras\n",
        "from keras import models\n",
        "from keras import layers"
      ],
      "execution_count": 43,
      "outputs": []
    },
    {
      "cell_type": "code",
      "metadata": {
        "id": "17vzZjDQIPJc"
      },
      "source": [
        "x=np.load('NBx1.npy')\n",
        "y=np.load('NBy1.npy')\n",
        "\n",
        "\n",
        "x=x.astype(np.float32)"
      ],
      "execution_count": 44,
      "outputs": []
    },
    {
      "cell_type": "code",
      "metadata": {
        "id": "TS05KKf5IaRZ"
      },
      "source": [
        "x=np.delete(x,0,1)"
      ],
      "execution_count": 45,
      "outputs": []
    },
    {
      "cell_type": "code",
      "metadata": {
        "id": "2VYdzcsqIdyd",
        "outputId": "1204deb1-b2e6-4178-aaec-669d6228f31c",
        "colab": {
          "base_uri": "https://localhost:8080/"
        }
      },
      "source": [
        "(unique, counts) = np.unique(y, return_counts=True)\n",
        "frequencies = np.asarray((unique, counts)).T\n",
        "\n",
        "print(frequencies)"
      ],
      "execution_count": 46,
      "outputs": [
        {
          "output_type": "stream",
          "text": [
            "[[     0  92403]\n",
            " [     1 235778]]\n"
          ],
          "name": "stdout"
        }
      ]
    },
    {
      "cell_type": "code",
      "metadata": {
        "id": "vwDuO_c2Ieys",
        "outputId": "3545a3e0-8eec-452d-ead1-ba594efcab01",
        "colab": {
          "base_uri": "https://localhost:8080/"
        }
      },
      "source": [
        "x.shape"
      ],
      "execution_count": 47,
      "outputs": [
        {
          "output_type": "execute_result",
          "data": {
            "text/plain": [
              "(328181, 77)"
            ]
          },
          "metadata": {
            "tags": []
          },
          "execution_count": 47
        }
      ]
    },
    {
      "cell_type": "code",
      "metadata": {
        "id": "TU4H5gc5ItdB"
      },
      "source": [
        "from sklearn.model_selection import train_test_split\n",
        "xtrain, xtest, ytrain, ytest = train_test_split(x, y, test_size=0.2, random_state=123)"
      ],
      "execution_count": 48,
      "outputs": []
    },
    {
      "cell_type": "code",
      "metadata": {
        "id": "Zk60ohdTIzYj",
        "outputId": "48158d28-f218-43fb-e797-212b299c7322",
        "colab": {
          "base_uri": "https://localhost:8080/"
        }
      },
      "source": [
        "def create_model():\n",
        "  model = models.Sequential()\n",
        "  model.add(layers.Dense(256,input_dim=x.shape[1],activation='relu',use_bias=True))\n",
        "  model.add(layers.Dropout(0.1))\n",
        "  model.add(layers.Dense(128,activation='relu',use_bias=True))\n",
        "  model.add(layers.Dropout(0.1))\n",
        "  model.add(layers.Dense(64,activation='relu',use_bias=True))\n",
        "  model.add(layers.Dropout(0.1))\n",
        "  model.add(layers.Dense(32,activation='relu',use_bias=True))\n",
        "  model.add(layers.Dropout(0.5))\n",
        "  model.add(layers.Dense(1,activation='sigmoid',use_bias=True)) \n",
        "  return model\n",
        " \n",
        "model = create_model()\n",
        "model.compile(loss=\"binary_crossentropy\", optimizer=\"adam\", metrics=['accuracy'])\n",
        "model.summary()\n",
        "history=model.fit(xtrain , ytrain ,batch_size=1024 , epochs=20 ,verbose=1 ,shuffle=True)\n",
        "result = model.evaluate(xtest,ytest)\n",
        "dict(zip(model.metrics_names, result))"
      ],
      "execution_count": 49,
      "outputs": [
        {
          "output_type": "stream",
          "text": [
            "Model: \"sequential_1\"\n",
            "_________________________________________________________________\n",
            "Layer (type)                 Output Shape              Param #   \n",
            "=================================================================\n",
            "dense_5 (Dense)              (None, 256)               19968     \n",
            "_________________________________________________________________\n",
            "dropout_4 (Dropout)          (None, 256)               0         \n",
            "_________________________________________________________________\n",
            "dense_6 (Dense)              (None, 128)               32896     \n",
            "_________________________________________________________________\n",
            "dropout_5 (Dropout)          (None, 128)               0         \n",
            "_________________________________________________________________\n",
            "dense_7 (Dense)              (None, 64)                8256      \n",
            "_________________________________________________________________\n",
            "dropout_6 (Dropout)          (None, 64)                0         \n",
            "_________________________________________________________________\n",
            "dense_8 (Dense)              (None, 32)                2080      \n",
            "_________________________________________________________________\n",
            "dropout_7 (Dropout)          (None, 32)                0         \n",
            "_________________________________________________________________\n",
            "dense_9 (Dense)              (None, 1)                 33        \n",
            "=================================================================\n",
            "Total params: 63,233\n",
            "Trainable params: 63,233\n",
            "Non-trainable params: 0\n",
            "_________________________________________________________________\n",
            "Epoch 1/20\n",
            "257/257 [==============================] - 5s 18ms/step - loss: 0.5595 - accuracy: 0.7500\n",
            "Epoch 2/20\n",
            "257/257 [==============================] - 5s 18ms/step - loss: 0.5303 - accuracy: 0.7709\n",
            "Epoch 3/20\n",
            "257/257 [==============================] - 5s 18ms/step - loss: 0.5245 - accuracy: 0.7738\n",
            "Epoch 4/20\n",
            "257/257 [==============================] - 5s 18ms/step - loss: 0.5197 - accuracy: 0.7763\n",
            "Epoch 5/20\n",
            "257/257 [==============================] - 5s 18ms/step - loss: 0.5174 - accuracy: 0.7765\n",
            "Epoch 6/20\n",
            "257/257 [==============================] - 5s 18ms/step - loss: 0.5148 - accuracy: 0.7773\n",
            "Epoch 7/20\n",
            "257/257 [==============================] - 5s 18ms/step - loss: 0.5124 - accuracy: 0.7792\n",
            "Epoch 8/20\n",
            "257/257 [==============================] - 5s 18ms/step - loss: 0.5114 - accuracy: 0.7799\n",
            "Epoch 9/20\n",
            "257/257 [==============================] - 5s 18ms/step - loss: 0.5105 - accuracy: 0.7799\n",
            "Epoch 10/20\n",
            "257/257 [==============================] - 5s 18ms/step - loss: 0.5101 - accuracy: 0.7799\n",
            "Epoch 11/20\n",
            "257/257 [==============================] - 5s 18ms/step - loss: 0.5098 - accuracy: 0.7802\n",
            "Epoch 12/20\n",
            "257/257 [==============================] - 5s 18ms/step - loss: 0.5095 - accuracy: 0.7801\n",
            "Epoch 13/20\n",
            "257/257 [==============================] - 5s 18ms/step - loss: 0.5093 - accuracy: 0.7804\n",
            "Epoch 14/20\n",
            "257/257 [==============================] - 5s 18ms/step - loss: 0.5088 - accuracy: 0.7802\n",
            "Epoch 15/20\n",
            "257/257 [==============================] - 5s 19ms/step - loss: 0.5088 - accuracy: 0.7803\n",
            "Epoch 16/20\n",
            "257/257 [==============================] - 5s 18ms/step - loss: 0.5087 - accuracy: 0.7803\n",
            "Epoch 17/20\n",
            "257/257 [==============================] - 5s 18ms/step - loss: 0.5085 - accuracy: 0.7802\n",
            "Epoch 18/20\n",
            "257/257 [==============================] - 5s 18ms/step - loss: 0.5084 - accuracy: 0.7803\n",
            "Epoch 19/20\n",
            "257/257 [==============================] - 5s 18ms/step - loss: 0.5082 - accuracy: 0.7802\n",
            "Epoch 20/20\n",
            "257/257 [==============================] - 5s 18ms/step - loss: 0.5082 - accuracy: 0.7805\n",
            "2052/2052 [==============================] - 2s 1ms/step - loss: 0.5054 - accuracy: 0.7795\n"
          ],
          "name": "stdout"
        },
        {
          "output_type": "execute_result",
          "data": {
            "text/plain": [
              "{'accuracy': 0.7794536352157593, 'loss': 0.5053901076316833}"
            ]
          },
          "metadata": {
            "tags": []
          },
          "execution_count": 49
        }
      ]
    },
    {
      "cell_type": "code",
      "metadata": {
        "id": "N8xriabXJBWI"
      },
      "source": [
        "y_pred=model.predict(xtest)"
      ],
      "execution_count": 50,
      "outputs": []
    },
    {
      "cell_type": "code",
      "metadata": {
        "id": "HjhuTGksJE7B",
        "outputId": "956d0676-d24c-4084-82b2-c4a4ee02333e",
        "colab": {
          "base_uri": "https://localhost:8080/"
        }
      },
      "source": [
        "from sklearn import metrics\n",
        "print(\"The accuracy score is\",metrics.accuracy_score(ytest, y_pred.round()))\n",
        "print(\"The precision score is\",metrics.precision_score(ytest, y_pred.round(),average='weighted'))\n",
        "print(\"The recall score is\",metrics.recall_score(ytest, y_pred.round(),average='weighted'))\n",
        "print(\"The f1-score is\",metrics.f1_score(ytest, y_pred.round(),average='weighted'))\n",
        "print('\\n')\n",
        "print(metrics.confusion_matrix(ytest, y_pred.round()))\n",
        "print('\\n')\n",
        "print(\"=== Classification Report ===\")\n",
        "print(metrics.classification_report(ytest, y_pred.round()))\n",
        "print('\\n')"
      ],
      "execution_count": 51,
      "outputs": [
        {
          "output_type": "stream",
          "text": [
            "The accuracy score is 0.779453661806603\n",
            "The precision score is 0.8106854998356411\n",
            "The recall score is 0.779453661806603\n",
            "The f1-score is 0.7291406682306085\n",
            "\n",
            "\n",
            "[[ 4489 14076]\n",
            " [  400 46672]]\n",
            "\n",
            "\n",
            "=== Classification Report ===\n",
            "              precision    recall  f1-score   support\n",
            "\n",
            "           0       0.92      0.24      0.38     18565\n",
            "           1       0.77      0.99      0.87     47072\n",
            "\n",
            "    accuracy                           0.78     65637\n",
            "   macro avg       0.84      0.62      0.62     65637\n",
            "weighted avg       0.81      0.78      0.73     65637\n",
            "\n",
            "\n",
            "\n"
          ],
          "name": "stdout"
        }
      ]
    },
    {
      "cell_type": "code",
      "metadata": {
        "id": "03sVB4oFJKhA"
      },
      "source": [
        "from sklearn.ensemble import RandomForestClassifier\n",
        "rfc = RandomForestClassifier()\n",
        "rfc_history=rfc.fit(xtrain,ytrain)\n",
        "rfc_predict = rfc.predict(xtest)"
      ],
      "execution_count": 53,
      "outputs": []
    },
    {
      "cell_type": "code",
      "metadata": {
        "id": "M7_Q4fCpJOkQ",
        "outputId": "1095935c-83c1-4277-9808-d3bacea382f0",
        "colab": {
          "base_uri": "https://localhost:8080/"
        }
      },
      "source": [
        "from sklearn import metrics\n",
        "print(\"The accuracy score is\",metrics.accuracy_score(ytest, rfc_predict))\n",
        "print(\"The precision score is\",metrics.precision_score(ytest, rfc_predict,average='weighted'))\n",
        "print(\"The recall score is\",metrics.recall_score(ytest, rfc_predict,average='weighted'))\n",
        "print(\"The f1-score is\",metrics.f1_score(ytest, rfc_predict,average='weighted'))\n",
        "print('\\n')\n",
        "print(metrics.confusion_matrix(ytest, rfc_predict))\n",
        "print('\\n')\n",
        "print(\"=== Classification Report ===\")\n",
        "print(metrics.classification_report(ytest, rfc_predict))\n",
        "print('\\n')"
      ],
      "execution_count": 54,
      "outputs": [
        {
          "output_type": "stream",
          "text": [
            "The accuracy score is 0.7652543534896477\n",
            "The precision score is 0.7509663686790712\n",
            "The recall score is 0.7652543534896477\n",
            "The f1-score is 0.7334572070148475\n",
            "\n",
            "\n",
            "[[ 5881 12684]\n",
            " [ 2724 44348]]\n",
            "\n",
            "\n",
            "=== Classification Report ===\n",
            "              precision    recall  f1-score   support\n",
            "\n",
            "           0       0.68      0.32      0.43     18565\n",
            "           1       0.78      0.94      0.85     47072\n",
            "\n",
            "    accuracy                           0.77     65637\n",
            "   macro avg       0.73      0.63      0.64     65637\n",
            "weighted avg       0.75      0.77      0.73     65637\n",
            "\n",
            "\n",
            "\n"
          ],
          "name": "stdout"
        }
      ]
    }
  ]
}
