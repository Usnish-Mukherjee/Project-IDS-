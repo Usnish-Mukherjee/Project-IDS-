{
  "nbformat": 4,
  "nbformat_minor": 0,
  "metadata": {
    "colab": {
      "name": "Copy of multiclass_classification_final.ipynb",
      "provenance": [],
      "collapsed_sections": [],
      "machine_shape": "hm",
      "include_colab_link": true
    },
    "kernelspec": {
      "name": "python3",
      "display_name": "Python 3"
    },
    "accelerator": "TPU"
  },
  "cells": [
    {
      "cell_type": "markdown",
      "metadata": {
        "id": "view-in-github",
        "colab_type": "text"
      },
      "source": [
        "<a href=\"https://colab.research.google.com/github/Usnish-Mukherjee/Project-Intrusion-Detection-System/blob/main/Copy_of_multiclass_classification_final.ipynb\" target=\"_parent\"><img src=\"https://colab.research.google.com/assets/colab-badge.svg\" alt=\"Open In Colab\"/></a>"
      ]
    },
    {
      "cell_type": "code",
      "metadata": {
        "id": "ZktFCN7CEpNF"
      },
      "source": [
        "import numpy as np\n",
        "from glob import glob\n",
        "import pandas as pd\n",
        "from sklearn.preprocessing import LabelEncoder, OneHotEncoder, MinMaxScaler"
      ],
      "execution_count": 1,
      "outputs": []
    },
    {
      "cell_type": "code",
      "metadata": {
        "id": "mLld9820PJfN",
        "colab": {
          "base_uri": "https://localhost:8080/"
        },
        "outputId": "4012f94b-1cdc-440c-c005-51184021119e"
      },
      "source": [
        "from google.colab import drive\r\n",
        "drive.mount('/content/drive')"
      ],
      "execution_count": 2,
      "outputs": [
        {
          "output_type": "stream",
          "text": [
            "Mounted at /content/drive\n"
          ],
          "name": "stdout"
        }
      ]
    },
    {
      "cell_type": "code",
      "metadata": {
        "id": "yho4a8i2FZ5k",
        "colab": {
          "base_uri": "https://localhost:8080/"
        },
        "outputId": "5f498d89-3133-4349-8a1e-426344033fab"
      },
      "source": [
        "nd1 = np.zeros((0,79),dtype=object)\n",
        "for x in glob('/content/drive/My Drive/Dataset/Data 1/*.csv'):\n",
        "    print(x)\n",
        "    nd1=np.vstack((nd1,pd.read_csv(x)))"
      ],
      "execution_count": null,
      "outputs": [
        {
          "output_type": "stream",
          "text": [
            "/content/drive/My Drive/Dataset/Data 1/Wednesday-28-02-2018_TrafficForML_CICFlowMeter.csv\n",
            "/content/drive/My Drive/Dataset/Data 1/Wednesday-21-02-2018_TrafficForML_CICFlowMeter.csv\n",
            "/content/drive/My Drive/Dataset/Data 1/Friday-02-03-2018_TrafficForML_CICFlowMeter.csv\n",
            "/content/drive/My Drive/Dataset/Data 1/Friday-16-02-2018_TrafficForML_CICFlowMeter.csv\n",
            "/content/drive/My Drive/Dataset/Data 1/Friday-23-02-2018_TrafficForML_CICFlowMeter.csv\n",
            "/content/drive/My Drive/Dataset/Data 1/Thursday-01-03-2018_TrafficForML_CICFlowMeter.csv\n",
            "/content/drive/My Drive/Dataset/Data 1/Thursday-15-02-2018_TrafficForML_CICFlowMeter.csv\n",
            "/content/drive/My Drive/Dataset/Data 1/Thursday-22-02-2018_TrafficForML_CICFlowMeter.csv\n",
            "/content/drive/My Drive/Dataset/Data 1/Wednesday-14-02-2018_TrafficForML_CICFlowMeter.csv\n"
          ],
          "name": "stdout"
        }
      ]
    },
    {
      "cell_type": "code",
      "metadata": {
        "id": "Q-bSbGJoFz7s",
        "colab": {
          "base_uri": "https://localhost:8080/"
        },
        "outputId": "c7ee9645-e5aa-4354-f750-fc80edb46881"
      },
      "source": [
        "nd1.shape"
      ],
      "execution_count": null,
      "outputs": [
        {
          "output_type": "execute_result",
          "data": {
            "text/plain": [
              "(8284195, 79)"
            ]
          },
          "metadata": {
            "tags": []
          },
          "execution_count": 4
        }
      ]
    },
    {
      "cell_type": "code",
      "metadata": {
        "id": "6Y1gHCZgHLpm"
      },
      "source": [
        "Dt1=nd1[:,:-1].astype(float)"
      ],
      "execution_count": null,
      "outputs": []
    },
    {
      "cell_type": "code",
      "metadata": {
        "id": "WI1a91ivGdzh"
      },
      "source": [
        "LNMV1=nd1[~np.isnan(Dt1).any(axis=1),-1]\n",
        "DtNMV1=Dt1[~np.isnan(Dt1).any(axis=1)]\n",
        "LNMIV1=LNMV1[~np.isinf(DtNMV1).any(axis=1)]\n",
        "DtNMIV1=DtNMV1[~np.isinf(DtNMV1).any(axis=1)]"
      ],
      "execution_count": null,
      "outputs": []
    },
    {
      "cell_type": "code",
      "metadata": {
        "id": "8UBdlMm4HSQH"
      },
      "source": [
        "del(DtNMV1)"
      ],
      "execution_count": null,
      "outputs": []
    },
    {
      "cell_type": "code",
      "metadata": {
        "id": "7SzXy5-mR80E"
      },
      "source": [
        "MCDt1=DtNMIV1[LNMIV1 !='Benign',:]"
      ],
      "execution_count": null,
      "outputs": []
    },
    {
      "cell_type": "code",
      "metadata": {
        "id": "EWh-rgRDR_H8",
        "colab": {
          "base_uri": "https://localhost:8080/"
        },
        "outputId": "d1005d97-0920-4018-eaf3-fda49e01233c"
      },
      "source": [
        "MCDt1.shape"
      ],
      "execution_count": null,
      "outputs": [
        {
          "output_type": "execute_result",
          "data": {
            "text/plain": [
              "(2170743, 78)"
            ]
          },
          "metadata": {
            "tags": []
          },
          "execution_count": 10
        }
      ]
    },
    {
      "cell_type": "code",
      "metadata": {
        "id": "NQFAW7XcSDWe"
      },
      "source": [
        "MCL1=LNMIV1[LNMIV1!='Benign']"
      ],
      "execution_count": null,
      "outputs": []
    },
    {
      "cell_type": "code",
      "metadata": {
        "id": "vbCLaE9JSJP6",
        "colab": {
          "base_uri": "https://localhost:8080/"
        },
        "outputId": "a1b38bdd-d99b-4178-ac23-4ce7ea207f32"
      },
      "source": [
        "LNMIV1.shape,MCL1.shape"
      ],
      "execution_count": null,
      "outputs": [
        {
          "output_type": "execute_result",
          "data": {
            "text/plain": [
              "((8247888,), (2170743,))"
            ]
          },
          "metadata": {
            "tags": []
          },
          "execution_count": 12
        }
      ]
    },
    {
      "cell_type": "code",
      "metadata": {
        "id": "IYIU3D0hHTK7"
      },
      "source": [
        "np.save('/content/drive/My Drive/Result/NMCx1', MinMaxScaler().fit_transform(MCDt1))\n",
        "np.save('/content/drive/My Drive/Result/NMCy1', LabelEncoder().fit_transform(MCL1))"
      ],
      "execution_count": null,
      "outputs": []
    },
    {
      "cell_type": "code",
      "metadata": {
        "id": "PydDhs08uTxk"
      },
      "source": [
        "nd2 = np.zeros((0,79),dtype=object)\r\n",
        "nd2=np.vstack((nd2,pd.read_csv('/content/drive/My Drive/Dataset/Data 2/Thuesday-20-02-2018_TrafficForML_CICFlowMeter.csv')))"
      ],
      "execution_count": null,
      "outputs": []
    },
    {
      "cell_type": "code",
      "metadata": {
        "id": "IONXjBb7uYKm"
      },
      "source": [
        "Dt2=nd2[:,:-1].astype(float)"
      ],
      "execution_count": null,
      "outputs": []
    },
    {
      "cell_type": "code",
      "metadata": {
        "id": "mmfWxCnNudYd"
      },
      "source": [
        "LNMV2=nd2[~np.isnan(Dt2).any(axis=1),-1]\r\n",
        "DtNMV2=Dt2[~np.isnan(Dt2).any(axis=1)]\r\n",
        "LNMIV2=LNMV2[~np.isinf(DtNMV2).any(axis=1)]\r\n",
        "DtNMIV2=DtNMV2[~np.isinf(DtNMV2).any(axis=1)]"
      ],
      "execution_count": null,
      "outputs": []
    },
    {
      "cell_type": "code",
      "metadata": {
        "id": "VMIQ1cjZugWw"
      },
      "source": [
        "del(DtNMV2)"
      ],
      "execution_count": null,
      "outputs": []
    },
    {
      "cell_type": "code",
      "metadata": {
        "id": "7S7hMpiSujiu",
        "colab": {
          "base_uri": "https://localhost:8080/"
        },
        "outputId": "5846ad07-00e3-41be-ae88-74df9c165db0"
      },
      "source": [
        "DtNMIV2.shape"
      ],
      "execution_count": null,
      "outputs": [
        {
          "output_type": "execute_result",
          "data": {
            "text/plain": [
              "(7889295, 78)"
            ]
          },
          "metadata": {
            "tags": []
          },
          "execution_count": 6
        }
      ]
    },
    {
      "cell_type": "code",
      "metadata": {
        "id": "Use6ABvQul_g"
      },
      "source": [
        "MCDt2=DtNMIV2[LNMIV2 !='Benign',:]"
      ],
      "execution_count": null,
      "outputs": []
    },
    {
      "cell_type": "code",
      "metadata": {
        "id": "rL2pcifzuoPn",
        "colab": {
          "base_uri": "https://localhost:8080/"
        },
        "outputId": "79893ba5-d34f-4656-88a2-2e46cd3a9219"
      },
      "source": [
        "MCDt2.shape"
      ],
      "execution_count": null,
      "outputs": [
        {
          "output_type": "execute_result",
          "data": {
            "text/plain": [
              "(576191, 78)"
            ]
          },
          "metadata": {
            "tags": []
          },
          "execution_count": 8
        }
      ]
    },
    {
      "cell_type": "code",
      "metadata": {
        "id": "WmGJ_iTMQj6G"
      },
      "source": [
        "MCL2=LNMIV2[LNMIV2!='Benign']"
      ],
      "execution_count": null,
      "outputs": []
    },
    {
      "cell_type": "code",
      "metadata": {
        "id": "XOzc4v8QQtjA",
        "colab": {
          "base_uri": "https://localhost:8080/"
        },
        "outputId": "7ea573e8-ce5c-4428-bd51-329004d00f53"
      },
      "source": [
        "LNMIV2.shape,MCL2.shape"
      ],
      "execution_count": null,
      "outputs": [
        {
          "output_type": "execute_result",
          "data": {
            "text/plain": [
              "((7889295,), (576191,))"
            ]
          },
          "metadata": {
            "tags": []
          },
          "execution_count": 10
        }
      ]
    },
    {
      "cell_type": "code",
      "metadata": {
        "id": "3b0W4YO6QzU9"
      },
      "source": [
        "np.save('/content/drive/My Drive/Result/NMCx2', MinMaxScaler().fit_transform(MCDt2))\r\n",
        "np.save('/content/drive/My Drive/Result/NMCy2', LabelEncoder().fit_transform(MCL2))"
      ],
      "execution_count": null,
      "outputs": []
    },
    {
      "cell_type": "code",
      "metadata": {
        "id": "xXAKnzLqIImi"
      },
      "source": [
        "import numpy as np\n",
        "import os\n",
        "import tensorflow as tf\n",
        "import keras\n",
        "from keras import models\n",
        "from keras import layers"
      ],
      "execution_count": 3,
      "outputs": []
    },
    {
      "cell_type": "code",
      "metadata": {
        "id": "17vzZjDQIPJc"
      },
      "source": [
        "x1=np.load('/content/drive/My Drive/Result/NMCx1.npy')\n",
        "y1=np.load('/content/drive/My Drive/Result/NMCy1.npy')\n",
        "x2=np.load('/content/drive/My Drive/Result/NMCx2.npy')\n",
        "y2=np.load('/content/drive/My Drive/Result/NMCy2.npy')\n",
        "x=np.concatenate((x1,x2), axis=0)\n",
        "y=np.concatenate((y1,y2), axis=0)\n",
        "x=x.astype(np.float32)"
      ],
      "execution_count": 4,
      "outputs": []
    },
    {
      "cell_type": "code",
      "metadata": {
        "id": "TS05KKf5IaRZ"
      },
      "source": [
        "x=np.delete(x,0,1)"
      ],
      "execution_count": 5,
      "outputs": []
    },
    {
      "cell_type": "code",
      "metadata": {
        "id": "2VYdzcsqIdyd",
        "colab": {
          "base_uri": "https://localhost:8080/"
        },
        "outputId": "e36d3d8c-63f3-4cef-f58b-aec5c1035630"
      },
      "source": [
        "(unique, counts) = np.unique(y, return_counts=True)\n",
        "frequencies = np.asarray((unique, counts)).T\n",
        "\n",
        "print(frequencies)"
      ],
      "execution_count": 6,
      "outputs": [
        {
          "output_type": "stream",
          "text": [
            "[[     0 862382]\n",
            " [     1    611]\n",
            " [     2    230]\n",
            " [     3 686012]\n",
            " [     4   1730]\n",
            " [     5  41508]\n",
            " [     6 461912]\n",
            " [     7 139890]\n",
            " [     8  10990]\n",
            " [     9 193354]\n",
            " [    10 160639]\n",
            " [    11     87]\n",
            " [    12 187589]]\n"
          ],
          "name": "stdout"
        }
      ]
    },
    {
      "cell_type": "code",
      "metadata": {
        "id": "vwDuO_c2Ieys",
        "colab": {
          "base_uri": "https://localhost:8080/"
        },
        "outputId": "a1f9f1ac-94d8-4916-d6a6-4ed6e1479637"
      },
      "source": [
        "x.shape"
      ],
      "execution_count": 7,
      "outputs": [
        {
          "output_type": "execute_result",
          "data": {
            "text/plain": [
              "(2746934, 77)"
            ]
          },
          "metadata": {
            "tags": []
          },
          "execution_count": 7
        }
      ]
    },
    {
      "cell_type": "code",
      "metadata": {
        "id": "TU4H5gc5ItdB"
      },
      "source": [
        "from sklearn.model_selection import train_test_split\n",
        "xtrain, xtest, ytrain, ytest = train_test_split(x, y, test_size=0.2, random_state=123)"
      ],
      "execution_count": 8,
      "outputs": []
    },
    {
      "cell_type": "code",
      "metadata": {
        "id": "6cp-xIOWS1VV"
      },
      "source": [
        "from keras.utils import to_categorical\r\n",
        "ztrain = to_categorical(ytrain, num_classes=None)\r\n",
        "ztest = to_categorical(ytest, num_classes=None)"
      ],
      "execution_count": 9,
      "outputs": []
    },
    {
      "cell_type": "code",
      "metadata": {
        "id": "JHtcDKGrS4aY",
        "colab": {
          "base_uri": "https://localhost:8080/"
        },
        "outputId": "f6662b73-4f0c-4e5e-d89b-e906684455d2"
      },
      "source": [
        "ztrain.shape"
      ],
      "execution_count": 10,
      "outputs": [
        {
          "output_type": "execute_result",
          "data": {
            "text/plain": [
              "(2197547, 13)"
            ]
          },
          "metadata": {
            "tags": []
          },
          "execution_count": 10
        }
      ]
    },
    {
      "cell_type": "markdown",
      "metadata": {
        "id": "PEzcBjbq0ngN"
      },
      "source": [
        "**ANN with 5 hidden layer but different number of nodes**"
      ]
    },
    {
      "cell_type": "code",
      "metadata": {
        "colab": {
          "base_uri": "https://localhost:8080/"
        },
        "id": "ZneR77Nq0nHl",
        "outputId": "b8ead4ff-192f-4a6e-c82f-1ff43b5a809f"
      },
      "source": [
        "def create_model():\r\n",
        "  model = models.Sequential()\r\n",
        "  model.add(layers.Dense(256,input_dim=x.shape[1],activation='relu',use_bias=True))\r\n",
        "  model.add(layers.Dropout(0.1))\r\n",
        "  model.add(layers.Dense(128,activation='relu',use_bias=True))\r\n",
        "  model.add(layers.Dropout(0.1))\r\n",
        "  model.add(layers.Dense(64,activation='relu',use_bias=True))\r\n",
        "  model.add(layers.Dropout(0.1))\r\n",
        "  model.add(layers.Dense(32,activation='relu',use_bias=True))\r\n",
        "  model.add(layers.Dropout(0.1))\r\n",
        "  model.add(layers.Dense(16,activation='relu',use_bias=True))\r\n",
        "  model.add(layers.Dropout(0.5))\r\n",
        "  model.add(layers.Dense(np.unique(y).shape[0],activation='softmax',use_bias=True)) \r\n",
        "  return model\r\n",
        "\r\n",
        "from keras.optimizers import * \r\n",
        "model = create_model()\r\n",
        "opt = Adam(learning_rate=1e-4)\r\n",
        "model.compile(loss=\"categorical_crossentropy\", optimizer=opt, metrics=['categorical_accuracy'])\r\n",
        "model.summary()\r\n",
        "history=model.fit(xtrain , ztrain ,batch_size=256 , epochs=75 ,verbose=1 ,shuffle=True)\r\n",
        "result = model.evaluate(xtest,ztest)\r\n",
        "dict(zip(model.metrics_names, result))"
      ],
      "execution_count": 11,
      "outputs": [
        {
          "output_type": "stream",
          "text": [
            "Model: \"sequential\"\n",
            "_________________________________________________________________\n",
            "Layer (type)                 Output Shape              Param #   \n",
            "=================================================================\n",
            "dense (Dense)                (None, 256)               19968     \n",
            "_________________________________________________________________\n",
            "dropout (Dropout)            (None, 256)               0         \n",
            "_________________________________________________________________\n",
            "dense_1 (Dense)              (None, 128)               32896     \n",
            "_________________________________________________________________\n",
            "dropout_1 (Dropout)          (None, 128)               0         \n",
            "_________________________________________________________________\n",
            "dense_2 (Dense)              (None, 64)                8256      \n",
            "_________________________________________________________________\n",
            "dropout_2 (Dropout)          (None, 64)                0         \n",
            "_________________________________________________________________\n",
            "dense_3 (Dense)              (None, 32)                2080      \n",
            "_________________________________________________________________\n",
            "dropout_3 (Dropout)          (None, 32)                0         \n",
            "_________________________________________________________________\n",
            "dense_4 (Dense)              (None, 16)                528       \n",
            "_________________________________________________________________\n",
            "dropout_4 (Dropout)          (None, 16)                0         \n",
            "_________________________________________________________________\n",
            "dense_5 (Dense)              (None, 13)                221       \n",
            "=================================================================\n",
            "Total params: 63,949\n",
            "Trainable params: 63,949\n",
            "Non-trainable params: 0\n",
            "_________________________________________________________________\n",
            "Epoch 1/75\n",
            "8585/8585 [==============================] - 60s 7ms/step - loss: 0.9355 - categorical_accuracy: 0.6784\n",
            "Epoch 2/75\n",
            "8585/8585 [==============================] - 59s 7ms/step - loss: 0.2569 - categorical_accuracy: 0.8814\n",
            "Epoch 3/75\n",
            "8585/8585 [==============================] - 60s 7ms/step - loss: 0.1938 - categorical_accuracy: 0.9054\n",
            "Epoch 4/75\n",
            "8585/8585 [==============================] - 60s 7ms/step - loss: 0.1763 - categorical_accuracy: 0.9140\n",
            "Epoch 5/75\n",
            "8585/8585 [==============================] - 59s 7ms/step - loss: 0.1679 - categorical_accuracy: 0.9182\n",
            "Epoch 6/75\n",
            "8585/8585 [==============================] - 60s 7ms/step - loss: 0.1622 - categorical_accuracy: 0.9211\n",
            "Epoch 7/75\n",
            "8585/8585 [==============================] - 60s 7ms/step - loss: 0.1584 - categorical_accuracy: 0.9225\n",
            "Epoch 8/75\n",
            "8585/8585 [==============================] - 61s 7ms/step - loss: 0.1542 - categorical_accuracy: 0.9246\n",
            "Epoch 9/75\n",
            "8585/8585 [==============================] - 60s 7ms/step - loss: 0.1527 - categorical_accuracy: 0.9261\n",
            "Epoch 10/75\n",
            "8585/8585 [==============================] - 61s 7ms/step - loss: 0.1508 - categorical_accuracy: 0.9267\n",
            "Epoch 11/75\n",
            "8585/8585 [==============================] - 60s 7ms/step - loss: 0.1493 - categorical_accuracy: 0.9285\n",
            "Epoch 12/75\n",
            "8585/8585 [==============================] - 60s 7ms/step - loss: 0.1476 - categorical_accuracy: 0.9293\n",
            "Epoch 13/75\n",
            "8585/8585 [==============================] - 61s 7ms/step - loss: 0.1459 - categorical_accuracy: 0.9301\n",
            "Epoch 14/75\n",
            "8585/8585 [==============================] - 61s 7ms/step - loss: 0.1449 - categorical_accuracy: 0.9308\n",
            "Epoch 15/75\n",
            "8585/8585 [==============================] - 61s 7ms/step - loss: 0.1432 - categorical_accuracy: 0.9323\n",
            "Epoch 16/75\n",
            "8585/8585 [==============================] - 61s 7ms/step - loss: 0.1424 - categorical_accuracy: 0.9330\n",
            "Epoch 17/75\n",
            "8585/8585 [==============================] - 60s 7ms/step - loss: 0.1429 - categorical_accuracy: 0.9334\n",
            "Epoch 18/75\n",
            "8585/8585 [==============================] - 61s 7ms/step - loss: 0.1404 - categorical_accuracy: 0.9343\n",
            "Epoch 19/75\n",
            "8585/8585 [==============================] - 60s 7ms/step - loss: 0.1386 - categorical_accuracy: 0.9347\n",
            "Epoch 20/75\n",
            "8585/8585 [==============================] - 61s 7ms/step - loss: 0.1386 - categorical_accuracy: 0.9343\n",
            "Epoch 21/75\n",
            "8585/8585 [==============================] - 61s 7ms/step - loss: 0.1377 - categorical_accuracy: 0.9346\n",
            "Epoch 22/75\n",
            "8585/8585 [==============================] - 60s 7ms/step - loss: 0.1384 - categorical_accuracy: 0.9357\n",
            "Epoch 23/75\n",
            "8585/8585 [==============================] - 61s 7ms/step - loss: 0.1367 - categorical_accuracy: 0.9355\n",
            "Epoch 24/75\n",
            "8585/8585 [==============================] - 60s 7ms/step - loss: 0.1343 - categorical_accuracy: 0.9358\n",
            "Epoch 25/75\n",
            "8585/8585 [==============================] - 60s 7ms/step - loss: 0.1380 - categorical_accuracy: 0.9355\n",
            "Epoch 26/75\n",
            "8585/8585 [==============================] - 60s 7ms/step - loss: 0.1346 - categorical_accuracy: 0.9358\n",
            "Epoch 27/75\n",
            "8585/8585 [==============================] - 60s 7ms/step - loss: 0.1362 - categorical_accuracy: 0.9363\n",
            "Epoch 28/75\n",
            "8585/8585 [==============================] - 60s 7ms/step - loss: 0.1345 - categorical_accuracy: 0.9365\n",
            "Epoch 29/75\n",
            "8585/8585 [==============================] - 60s 7ms/step - loss: 0.1353 - categorical_accuracy: 0.9366\n",
            "Epoch 30/75\n",
            "8585/8585 [==============================] - 61s 7ms/step - loss: 0.1338 - categorical_accuracy: 0.9365\n",
            "Epoch 31/75\n",
            "8585/8585 [==============================] - 60s 7ms/step - loss: 0.1367 - categorical_accuracy: 0.9363\n",
            "Epoch 32/75\n",
            "8585/8585 [==============================] - 60s 7ms/step - loss: 0.1330 - categorical_accuracy: 0.9367\n",
            "Epoch 33/75\n",
            "8585/8585 [==============================] - 60s 7ms/step - loss: 0.1333 - categorical_accuracy: 0.9359\n",
            "Epoch 34/75\n",
            "8585/8585 [==============================] - 61s 7ms/step - loss: 0.1332 - categorical_accuracy: 0.9341\n",
            "Epoch 35/75\n",
            "8585/8585 [==============================] - 60s 7ms/step - loss: 0.1323 - categorical_accuracy: 0.9325\n",
            "Epoch 36/75\n",
            "8585/8585 [==============================] - 61s 7ms/step - loss: 0.1321 - categorical_accuracy: 0.9320\n",
            "Epoch 37/75\n",
            "8585/8585 [==============================] - 60s 7ms/step - loss: 0.1311 - categorical_accuracy: 0.9321\n",
            "Epoch 38/75\n",
            "8585/8585 [==============================] - 61s 7ms/step - loss: 0.1319 - categorical_accuracy: 0.9317\n",
            "Epoch 39/75\n",
            "8585/8585 [==============================] - 62s 7ms/step - loss: 0.1294 - categorical_accuracy: 0.9318\n",
            "Epoch 40/75\n",
            "8585/8585 [==============================] - 61s 7ms/step - loss: 0.1321 - categorical_accuracy: 0.9319\n",
            "Epoch 41/75\n",
            "8585/8585 [==============================] - 62s 7ms/step - loss: 0.1310 - categorical_accuracy: 0.9316\n",
            "Epoch 42/75\n",
            "8585/8585 [==============================] - 61s 7ms/step - loss: 0.1307 - categorical_accuracy: 0.9315\n",
            "Epoch 43/75\n",
            "8585/8585 [==============================] - 61s 7ms/step - loss: 0.1310 - categorical_accuracy: 0.9310\n",
            "Epoch 44/75\n",
            "8585/8585 [==============================] - 62s 7ms/step - loss: 0.1290 - categorical_accuracy: 0.9317\n",
            "Epoch 45/75\n",
            "8585/8585 [==============================] - 61s 7ms/step - loss: 0.1286 - categorical_accuracy: 0.9316\n",
            "Epoch 46/75\n",
            "8585/8585 [==============================] - 62s 7ms/step - loss: 0.1302 - categorical_accuracy: 0.9309\n",
            "Epoch 47/75\n",
            "8585/8585 [==============================] - 61s 7ms/step - loss: 0.1280 - categorical_accuracy: 0.9311\n",
            "Epoch 48/75\n",
            "8585/8585 [==============================] - 61s 7ms/step - loss: 0.1282 - categorical_accuracy: 0.9311\n",
            "Epoch 49/75\n",
            "8585/8585 [==============================] - 61s 7ms/step - loss: 0.1297 - categorical_accuracy: 0.9307\n",
            "Epoch 50/75\n",
            "8585/8585 [==============================] - 60s 7ms/step - loss: 0.1272 - categorical_accuracy: 0.9315\n",
            "Epoch 51/75\n",
            "8585/8585 [==============================] - 61s 7ms/step - loss: 0.1286 - categorical_accuracy: 0.9304\n",
            "Epoch 52/75\n",
            "8585/8585 [==============================] - 60s 7ms/step - loss: 0.1289 - categorical_accuracy: 0.9310\n",
            "Epoch 53/75\n",
            "8585/8585 [==============================] - 59s 7ms/step - loss: 0.1285 - categorical_accuracy: 0.9307\n",
            "Epoch 54/75\n",
            "8585/8585 [==============================] - 61s 7ms/step - loss: 0.1287 - categorical_accuracy: 0.9308\n",
            "Epoch 55/75\n",
            "8585/8585 [==============================] - 60s 7ms/step - loss: 0.1270 - categorical_accuracy: 0.9311\n",
            "Epoch 56/75\n",
            "8585/8585 [==============================] - 61s 7ms/step - loss: 0.1289 - categorical_accuracy: 0.9308\n",
            "Epoch 57/75\n",
            "8585/8585 [==============================] - 60s 7ms/step - loss: 0.1272 - categorical_accuracy: 0.9309\n",
            "Epoch 58/75\n",
            "8585/8585 [==============================] - 60s 7ms/step - loss: 0.1264 - categorical_accuracy: 0.9309\n",
            "Epoch 59/75\n",
            "8585/8585 [==============================] - 61s 7ms/step - loss: 0.1275 - categorical_accuracy: 0.9317\n",
            "Epoch 60/75\n",
            "8585/8585 [==============================] - 60s 7ms/step - loss: 0.1287 - categorical_accuracy: 0.9310\n",
            "Epoch 61/75\n",
            "8585/8585 [==============================] - 61s 7ms/step - loss: 0.1281 - categorical_accuracy: 0.9313\n",
            "Epoch 62/75\n",
            "8585/8585 [==============================] - 60s 7ms/step - loss: 0.1283 - categorical_accuracy: 0.9315\n",
            "Epoch 63/75\n",
            "8585/8585 [==============================] - 60s 7ms/step - loss: 0.1275 - categorical_accuracy: 0.9317\n",
            "Epoch 64/75\n",
            "8585/8585 [==============================] - 61s 7ms/step - loss: 0.1256 - categorical_accuracy: 0.9319\n",
            "Epoch 65/75\n",
            "8585/8585 [==============================] - 60s 7ms/step - loss: 0.1253 - categorical_accuracy: 0.9322\n",
            "Epoch 66/75\n",
            "8585/8585 [==============================] - 61s 7ms/step - loss: 0.1252 - categorical_accuracy: 0.9323\n",
            "Epoch 67/75\n",
            "8585/8585 [==============================] - 61s 7ms/step - loss: 0.1258 - categorical_accuracy: 0.9329\n",
            "Epoch 68/75\n",
            "8585/8585 [==============================] - 60s 7ms/step - loss: 0.1263 - categorical_accuracy: 0.9326\n",
            "Epoch 69/75\n",
            "8585/8585 [==============================] - 61s 7ms/step - loss: 0.1253 - categorical_accuracy: 0.9332\n",
            "Epoch 70/75\n",
            "8585/8585 [==============================] - 60s 7ms/step - loss: 0.1258 - categorical_accuracy: 0.9331\n",
            "Epoch 71/75\n",
            "8585/8585 [==============================] - 61s 7ms/step - loss: 0.1280 - categorical_accuracy: 0.9322\n",
            "Epoch 72/75\n",
            "8585/8585 [==============================] - 62s 7ms/step - loss: 0.1261 - categorical_accuracy: 0.9331\n",
            "Epoch 73/75\n",
            "8585/8585 [==============================] - 60s 7ms/step - loss: 0.1266 - categorical_accuracy: 0.9327\n",
            "Epoch 74/75\n",
            "8585/8585 [==============================] - 60s 7ms/step - loss: 0.1247 - categorical_accuracy: 0.9334\n",
            "Epoch 75/75\n",
            "8585/8585 [==============================] - 60s 7ms/step - loss: 0.1245 - categorical_accuracy: 0.9338\n",
            "17169/17169 [==============================] - 22s 1ms/step - loss: 0.1009 - categorical_accuracy: 0.9659\n"
          ],
          "name": "stdout"
        },
        {
          "output_type": "execute_result",
          "data": {
            "text/plain": [
              "{'categorical_accuracy': 0.9659183621406555, 'loss': 0.10087301582098007}"
            ]
          },
          "metadata": {
            "tags": []
          },
          "execution_count": 11
        }
      ]
    },
    {
      "cell_type": "code",
      "metadata": {
        "id": "8qaRkzhx0-R0"
      },
      "source": [
        "pred=model.predict(xtest)\r\n",
        "y_pred = np.argmax(pred, axis=-1)"
      ],
      "execution_count": 12,
      "outputs": []
    },
    {
      "cell_type": "code",
      "metadata": {
        "colab": {
          "base_uri": "https://localhost:8080/"
        },
        "id": "QsR3a8KZ0_p0",
        "outputId": "7b60cb07-2da6-47e0-86dd-a9f873ceb6d7"
      },
      "source": [
        "from sklearn import metrics\r\n",
        "print(\"The accuracy score is\",metrics.accuracy_score(ytest, y_pred))\r\n",
        "print(\"The precision score is\",metrics.precision_score(ytest, y_pred,average='weighted'))\r\n",
        "print(\"The recall score is\",metrics.recall_score(ytest, y_pred,average='weighted'))\r\n",
        "print(\"The f1-score is\",metrics.f1_score(ytest, y_pred,average='weighted'))\r\n",
        "print('\\n')\r\n",
        "print(metrics.confusion_matrix(ytest, y_pred))\r\n",
        "print('\\n')\r\n",
        "print(\"=== Classification Report ===\")\r\n",
        "print(metrics.classification_report(ytest, y_pred))\r\n",
        "print('\\n')"
      ],
      "execution_count": 13,
      "outputs": [
        {
          "output_type": "stream",
          "text": [
            "The accuracy score is 0.9659183781196133\n"
          ],
          "name": "stdout"
        },
        {
          "output_type": "stream",
          "text": [
            "/usr/local/lib/python3.6/dist-packages/sklearn/metrics/_classification.py:1272: UndefinedMetricWarning: Precision is ill-defined and being set to 0.0 in labels with no predicted samples. Use `zero_division` parameter to control this behavior.\n",
            "  _warn_prf(average, modifier, msg_start, len(result))\n"
          ],
          "name": "stderr"
        },
        {
          "output_type": "stream",
          "text": [
            "The precision score is 0.9662851015975095\n",
            "The recall score is 0.9659183781196133\n",
            "The f1-score is 0.9642811633377022\n",
            "\n",
            "\n",
            "[[172561      0      0      0      0      0      0      0      0      0\n",
            "      13      0      0]\n",
            " [    11      0      0      0      0      0      0      0      0      0\n",
            "     112      0      0]\n",
            " [    11      0      0      0      0      0      0      0      0      0\n",
            "      31      0      0]\n",
            " [     0      0      0 137533      0      0      0      0      0      0\n",
            "       0      0      0]\n",
            " [     0      0      0      0    348      0      0      0      0      0\n",
            "       0      0      0]\n",
            " [     0      0      0      0      0   8361      1      0      1      0\n",
            "       0      0      0]\n",
            " [     0      0      0      0      0      3  92292      0      0      0\n",
            "       0      0      0]\n",
            " [     0      0      0      0      0      0      0  14274      0  13639\n",
            "       0      0      0]\n",
            " [     0      0      0      0      0      0      0      0   2207      0\n",
            "      25      0      0]\n",
            " [     0      0      0      0      0      0      0   4595      0  33921\n",
            "       0      0      0]\n",
            " [   231      0      0      9      0      2      2      1      5      0\n",
            "   31795      0      5]\n",
            " [     1      0      0      0      0      0      0      0      0      0\n",
            "      24      0      0]\n",
            " [     0      0      0      0      0      0      1      0      0      1\n",
            "       0      0  37371]]\n",
            "\n",
            "\n",
            "=== Classification Report ===\n"
          ],
          "name": "stdout"
        },
        {
          "output_type": "stream",
          "text": [
            "/usr/local/lib/python3.6/dist-packages/sklearn/metrics/_classification.py:1272: UndefinedMetricWarning: Precision and F-score are ill-defined and being set to 0.0 in labels with no predicted samples. Use `zero_division` parameter to control this behavior.\n",
            "  _warn_prf(average, modifier, msg_start, len(result))\n"
          ],
          "name": "stderr"
        },
        {
          "output_type": "stream",
          "text": [
            "              precision    recall  f1-score   support\n",
            "\n",
            "           0       1.00      1.00      1.00    172574\n",
            "           1       0.00      0.00      0.00       123\n",
            "           2       0.00      0.00      0.00        42\n",
            "           3       1.00      1.00      1.00    137533\n",
            "           4       1.00      1.00      1.00       348\n",
            "           5       1.00      1.00      1.00      8363\n",
            "           6       1.00      1.00      1.00     92295\n",
            "           7       0.76      0.51      0.61     27913\n",
            "           8       1.00      0.99      0.99      2232\n",
            "           9       0.71      0.88      0.79     38516\n",
            "          10       0.99      0.99      0.99     32050\n",
            "          11       0.00      0.00      0.00        25\n",
            "          12       1.00      1.00      1.00     37373\n",
            "\n",
            "    accuracy                           0.97    549387\n",
            "   macro avg       0.73      0.72      0.72    549387\n",
            "weighted avg       0.97      0.97      0.96    549387\n",
            "\n",
            "\n",
            "\n"
          ],
          "name": "stdout"
        }
      ]
    },
    {
      "cell_type": "markdown",
      "metadata": {
        "id": "dmoGy9Q1E4MQ"
      },
      "source": [
        "**ANN with 3 Hidden layer**"
      ]
    },
    {
      "cell_type": "code",
      "metadata": {
        "colab": {
          "base_uri": "https://localhost:8080/"
        },
        "id": "-R2wXFPPE_LH",
        "outputId": "e5f3d7c1-4308-47a5-ed04-dc47173691cc"
      },
      "source": [
        "def create_model():\r\n",
        "  model = models.Sequential()\r\n",
        "  model.add(layers.Dense(128,input_dim=x.shape[1],activation='relu',use_bias=True))\r\n",
        "  model.add(layers.Dropout(0.1))\r\n",
        "  model.add(layers.Dense(64,activation='relu',use_bias=True))\r\n",
        "  model.add(layers.Dropout(0.1))\r\n",
        "  model.add(layers.Dense(32,activation='relu',use_bias=True))\r\n",
        "  model.add(layers.Dropout(0.5))\r\n",
        "  model.add(layers.Dense(np.unique(y).shape[0],activation='softmax',use_bias=True)) \r\n",
        "  return model\r\n",
        "\r\n",
        "from keras.optimizers import * \r\n",
        "model = create_model()\r\n",
        "opt = Adam(learning_rate=1e-4)\r\n",
        "model.compile(loss=\"categorical_crossentropy\", optimizer=opt, metrics=['categorical_accuracy'])\r\n",
        "model.summary()\r\n",
        "history=model.fit(xtrain , ztrain ,batch_size=256 , epochs=75 ,verbose=1 ,shuffle=True)\r\n",
        "result = model.evaluate(xtest,ztest)\r\n",
        "dict(zip(model.metrics_names, result))"
      ],
      "execution_count": null,
      "outputs": [
        {
          "output_type": "stream",
          "text": [
            "Model: \"sequential\"\n",
            "_________________________________________________________________\n",
            "Layer (type)                 Output Shape              Param #   \n",
            "=================================================================\n",
            "dense (Dense)                (None, 128)               9984      \n",
            "_________________________________________________________________\n",
            "dropout (Dropout)            (None, 128)               0         \n",
            "_________________________________________________________________\n",
            "dense_1 (Dense)              (None, 64)                8256      \n",
            "_________________________________________________________________\n",
            "dropout_1 (Dropout)          (None, 64)                0         \n",
            "_________________________________________________________________\n",
            "dense_2 (Dense)              (None, 32)                2080      \n",
            "_________________________________________________________________\n",
            "dropout_2 (Dropout)          (None, 32)                0         \n",
            "_________________________________________________________________\n",
            "dense_3 (Dense)              (None, 13)                429       \n",
            "=================================================================\n",
            "Total params: 20,749\n",
            "Trainable params: 20,749\n",
            "Non-trainable params: 0\n",
            "_________________________________________________________________\n",
            "Epoch 1/75\n",
            "8585/8585 [==============================] - 22s 3ms/step - loss: 0.7469 - categorical_accuracy: 0.7599\n",
            "Epoch 2/75\n",
            "8585/8585 [==============================] - 22s 3ms/step - loss: 0.1514 - categorical_accuracy: 0.9353\n",
            "Epoch 3/75\n",
            "8585/8585 [==============================] - 23s 3ms/step - loss: 0.1192 - categorical_accuracy: 0.9442\n",
            "Epoch 4/75\n",
            "8585/8585 [==============================] - 22s 3ms/step - loss: 0.1067 - categorical_accuracy: 0.9477\n",
            "Epoch 5/75\n",
            "8585/8585 [==============================] - 22s 3ms/step - loss: 0.0991 - categorical_accuracy: 0.9504\n",
            "Epoch 6/75\n",
            "8585/8585 [==============================] - 22s 3ms/step - loss: 0.0945 - categorical_accuracy: 0.9519\n",
            "Epoch 7/75\n",
            "8585/8585 [==============================] - 22s 3ms/step - loss: 0.0906 - categorical_accuracy: 0.9537\n",
            "Epoch 8/75\n",
            "8585/8585 [==============================] - 22s 3ms/step - loss: 0.0887 - categorical_accuracy: 0.9546\n",
            "Epoch 9/75\n",
            "8585/8585 [==============================] - 22s 3ms/step - loss: 0.0866 - categorical_accuracy: 0.9554\n",
            "Epoch 10/75\n",
            "8585/8585 [==============================] - 22s 3ms/step - loss: 0.0852 - categorical_accuracy: 0.9563\n",
            "Epoch 11/75\n",
            "8585/8585 [==============================] - 22s 3ms/step - loss: 0.0845 - categorical_accuracy: 0.9565\n",
            "Epoch 12/75\n",
            "8585/8585 [==============================] - 22s 3ms/step - loss: 0.0839 - categorical_accuracy: 0.9568\n",
            "Epoch 13/75\n",
            "8585/8585 [==============================] - 22s 3ms/step - loss: 0.0829 - categorical_accuracy: 0.9572\n",
            "Epoch 14/75\n",
            "8585/8585 [==============================] - 22s 3ms/step - loss: 0.0821 - categorical_accuracy: 0.9579\n",
            "Epoch 15/75\n",
            "8585/8585 [==============================] - 22s 3ms/step - loss: 0.0816 - categorical_accuracy: 0.9583\n",
            "Epoch 16/75\n",
            "8585/8585 [==============================] - 22s 3ms/step - loss: 0.0809 - categorical_accuracy: 0.9582\n",
            "Epoch 17/75\n",
            "8585/8585 [==============================] - 23s 3ms/step - loss: 0.0805 - categorical_accuracy: 0.9587\n",
            "Epoch 18/75\n",
            "8585/8585 [==============================] - 22s 3ms/step - loss: 0.0797 - categorical_accuracy: 0.9591\n",
            "Epoch 19/75\n",
            "8585/8585 [==============================] - 22s 3ms/step - loss: 0.0792 - categorical_accuracy: 0.9598\n",
            "Epoch 20/75\n",
            "8585/8585 [==============================] - 22s 3ms/step - loss: 0.0793 - categorical_accuracy: 0.9594\n",
            "Epoch 21/75\n",
            "8585/8585 [==============================] - 21s 2ms/step - loss: 0.0783 - categorical_accuracy: 0.9601\n",
            "Epoch 22/75\n",
            "8585/8585 [==============================] - 22s 3ms/step - loss: 0.0786 - categorical_accuracy: 0.9601\n",
            "Epoch 23/75\n",
            "8585/8585 [==============================] - 22s 3ms/step - loss: 0.0778 - categorical_accuracy: 0.9604\n",
            "Epoch 24/75\n",
            "8585/8585 [==============================] - 22s 3ms/step - loss: 0.0771 - categorical_accuracy: 0.9607\n",
            "Epoch 25/75\n",
            "8585/8585 [==============================] - 22s 3ms/step - loss: 0.0775 - categorical_accuracy: 0.9604\n",
            "Epoch 26/75\n",
            "8585/8585 [==============================] - 22s 3ms/step - loss: 0.0770 - categorical_accuracy: 0.9610\n",
            "Epoch 27/75\n",
            "8585/8585 [==============================] - 21s 3ms/step - loss: 0.0762 - categorical_accuracy: 0.9611\n",
            "Epoch 28/75\n",
            "8585/8585 [==============================] - 21s 3ms/step - loss: 0.0764 - categorical_accuracy: 0.9611\n",
            "Epoch 29/75\n",
            "8585/8585 [==============================] - 22s 3ms/step - loss: 0.0759 - categorical_accuracy: 0.9613\n",
            "Epoch 30/75\n",
            "8585/8585 [==============================] - 22s 3ms/step - loss: 0.0758 - categorical_accuracy: 0.9615\n",
            "Epoch 31/75\n",
            "8585/8585 [==============================] - 23s 3ms/step - loss: 0.0756 - categorical_accuracy: 0.9612\n",
            "Epoch 32/75\n",
            "8585/8585 [==============================] - 22s 3ms/step - loss: 0.0753 - categorical_accuracy: 0.9616\n",
            "Epoch 33/75\n",
            "8585/8585 [==============================] - 22s 3ms/step - loss: 0.0752 - categorical_accuracy: 0.9617\n",
            "Epoch 34/75\n",
            "8585/8585 [==============================] - 22s 3ms/step - loss: 0.0747 - categorical_accuracy: 0.9619\n",
            "Epoch 35/75\n",
            "8585/8585 [==============================] - 21s 2ms/step - loss: 0.0751 - categorical_accuracy: 0.9619\n",
            "Epoch 36/75\n",
            "8585/8585 [==============================] - 21s 3ms/step - loss: 0.0743 - categorical_accuracy: 0.9617\n",
            "Epoch 37/75\n",
            "8585/8585 [==============================] - 22s 3ms/step - loss: 0.0745 - categorical_accuracy: 0.9619\n",
            "Epoch 38/75\n",
            "8585/8585 [==============================] - 22s 3ms/step - loss: 0.0741 - categorical_accuracy: 0.9620\n",
            "Epoch 39/75\n",
            "8585/8585 [==============================] - 21s 2ms/step - loss: 0.0740 - categorical_accuracy: 0.9617\n",
            "Epoch 40/75\n",
            "8585/8585 [==============================] - 21s 2ms/step - loss: 0.0739 - categorical_accuracy: 0.9622\n",
            "Epoch 41/75\n",
            "8585/8585 [==============================] - 22s 3ms/step - loss: 0.0743 - categorical_accuracy: 0.9619\n",
            "Epoch 42/75\n",
            "8585/8585 [==============================] - 21s 2ms/step - loss: 0.0735 - categorical_accuracy: 0.9621\n",
            "Epoch 43/75\n",
            "8585/8585 [==============================] - 21s 2ms/step - loss: 0.0735 - categorical_accuracy: 0.9622\n",
            "Epoch 44/75\n",
            "8585/8585 [==============================] - 21s 2ms/step - loss: 0.0735 - categorical_accuracy: 0.9622\n",
            "Epoch 45/75\n",
            "8585/8585 [==============================] - 22s 3ms/step - loss: 0.0729 - categorical_accuracy: 0.9625\n",
            "Epoch 46/75\n",
            "8585/8585 [==============================] - 23s 3ms/step - loss: 0.0731 - categorical_accuracy: 0.9623\n",
            "Epoch 47/75\n",
            "8585/8585 [==============================] - 21s 2ms/step - loss: 0.0733 - categorical_accuracy: 0.9624\n",
            "Epoch 48/75\n",
            "8585/8585 [==============================] - 21s 3ms/step - loss: 0.0731 - categorical_accuracy: 0.9622\n",
            "Epoch 49/75\n",
            "8585/8585 [==============================] - 22s 3ms/step - loss: 0.0727 - categorical_accuracy: 0.9623\n",
            "Epoch 50/75\n",
            "8585/8585 [==============================] - 21s 2ms/step - loss: 0.0730 - categorical_accuracy: 0.9624\n",
            "Epoch 51/75\n",
            "8585/8585 [==============================] - 22s 3ms/step - loss: 0.0724 - categorical_accuracy: 0.9625\n",
            "Epoch 52/75\n",
            "8585/8585 [==============================] - 22s 3ms/step - loss: 0.0720 - categorical_accuracy: 0.9626\n",
            "Epoch 53/75\n",
            "8585/8585 [==============================] - 21s 2ms/step - loss: 0.0721 - categorical_accuracy: 0.9624\n",
            "Epoch 54/75\n",
            "8585/8585 [==============================] - 21s 2ms/step - loss: 0.0719 - categorical_accuracy: 0.9627\n",
            "Epoch 55/75\n",
            "8585/8585 [==============================] - 21s 2ms/step - loss: 0.0715 - categorical_accuracy: 0.9628\n",
            "Epoch 56/75\n",
            "8585/8585 [==============================] - 21s 3ms/step - loss: 0.0718 - categorical_accuracy: 0.9626\n",
            "Epoch 57/75\n",
            "8585/8585 [==============================] - 21s 2ms/step - loss: 0.0714 - categorical_accuracy: 0.9628\n",
            "Epoch 58/75\n",
            "8585/8585 [==============================] - 21s 2ms/step - loss: 0.0715 - categorical_accuracy: 0.9628\n",
            "Epoch 59/75\n",
            "8585/8585 [==============================] - 21s 2ms/step - loss: 0.0709 - categorical_accuracy: 0.9629\n",
            "Epoch 60/75\n",
            "8585/8585 [==============================] - 23s 3ms/step - loss: 0.0714 - categorical_accuracy: 0.9627\n",
            "Epoch 61/75\n",
            "8585/8585 [==============================] - 21s 2ms/step - loss: 0.0712 - categorical_accuracy: 0.9628\n",
            "Epoch 62/75\n",
            "8585/8585 [==============================] - 21s 3ms/step - loss: 0.0711 - categorical_accuracy: 0.9626\n",
            "Epoch 63/75\n",
            "8585/8585 [==============================] - 22s 3ms/step - loss: 0.0713 - categorical_accuracy: 0.9628\n",
            "Epoch 64/75\n",
            "8585/8585 [==============================] - 21s 3ms/step - loss: 0.0709 - categorical_accuracy: 0.9629\n",
            "Epoch 65/75\n",
            "8585/8585 [==============================] - 22s 3ms/step - loss: 0.0707 - categorical_accuracy: 0.9627\n",
            "Epoch 66/75\n",
            "8585/8585 [==============================] - 21s 2ms/step - loss: 0.0712 - categorical_accuracy: 0.9629\n",
            "Epoch 67/75\n",
            "8585/8585 [==============================] - 22s 3ms/step - loss: 0.0710 - categorical_accuracy: 0.9625\n",
            "Epoch 68/75\n",
            "8585/8585 [==============================] - 21s 2ms/step - loss: 0.0704 - categorical_accuracy: 0.9630\n",
            "Epoch 69/75\n",
            "8585/8585 [==============================] - 21s 2ms/step - loss: 0.0707 - categorical_accuracy: 0.9627\n",
            "Epoch 70/75\n",
            "8585/8585 [==============================] - 21s 2ms/step - loss: 0.0707 - categorical_accuracy: 0.9628\n",
            "Epoch 71/75\n",
            "8585/8585 [==============================] - 22s 3ms/step - loss: 0.0705 - categorical_accuracy: 0.9632\n",
            "Epoch 72/75\n",
            "8585/8585 [==============================] - 21s 2ms/step - loss: 0.0707 - categorical_accuracy: 0.9632\n",
            "Epoch 73/75\n",
            "8585/8585 [==============================] - 21s 3ms/step - loss: 0.0703 - categorical_accuracy: 0.9633\n",
            "Epoch 74/75\n",
            "8585/8585 [==============================] - 22s 3ms/step - loss: 0.0706 - categorical_accuracy: 0.9628\n",
            "Epoch 75/75\n",
            "8585/8585 [==============================] - 22s 3ms/step - loss: 0.0703 - categorical_accuracy: 0.9631\n",
            "17169/17169 [==============================] - 12s 713us/step - loss: 0.0645 - categorical_accuracy: 0.9659\n"
          ],
          "name": "stdout"
        },
        {
          "output_type": "execute_result",
          "data": {
            "text/plain": [
              "{'categorical_accuracy': 0.9659165740013123, 'loss': 0.06451693177223206}"
            ]
          },
          "metadata": {
            "tags": []
          },
          "execution_count": 15
        }
      ]
    },
    {
      "cell_type": "code",
      "metadata": {
        "id": "T_gf9KZbPw0U"
      },
      "source": [
        "pred=model.predict(xtest)\r\n",
        "y_pred = np.argmax(pred, axis=-1)"
      ],
      "execution_count": null,
      "outputs": []
    },
    {
      "cell_type": "code",
      "metadata": {
        "colab": {
          "base_uri": "https://localhost:8080/"
        },
        "id": "eZiTzPPOP2G0",
        "outputId": "a1d11961-96df-4f50-cef8-f9d84cc2fd00"
      },
      "source": [
        "from sklearn import metrics\r\n",
        "print(\"The accuracy score is\",metrics.accuracy_score(ytest, y_pred))\r\n",
        "print(\"The precision score is\",metrics.precision_score(ytest, y_pred,average='weighted'))\r\n",
        "print(\"The recall score is\",metrics.recall_score(ytest, y_pred,average='weighted'))\r\n",
        "print(\"The f1-score is\",metrics.f1_score(ytest, y_pred,average='weighted'))\r\n",
        "print('\\n')\r\n",
        "print(metrics.confusion_matrix(ytest, y_pred))\r\n",
        "print('\\n')\r\n",
        "print(\"=== Classification Report ===\")\r\n",
        "print(metrics.classification_report(ytest, y_pred))\r\n",
        "print('\\n')"
      ],
      "execution_count": null,
      "outputs": [
        {
          "output_type": "stream",
          "text": [
            "The accuracy score is 0.9659165579090878\n"
          ],
          "name": "stdout"
        },
        {
          "output_type": "stream",
          "text": [
            "/usr/local/lib/python3.6/dist-packages/sklearn/metrics/_classification.py:1272: UndefinedMetricWarning: Precision is ill-defined and being set to 0.0 in labels with no predicted samples. Use `zero_division` parameter to control this behavior.\n",
            "  _warn_prf(average, modifier, msg_start, len(result))\n"
          ],
          "name": "stderr"
        },
        {
          "output_type": "stream",
          "text": [
            "The precision score is 0.9661331547508837\n",
            "The recall score is 0.9659165579090878\n",
            "The f1-score is 0.964604555057474\n",
            "\n",
            "\n",
            "[[172546      0      0      0      0      0      0      0      0      0\n",
            "      28      0      0]\n",
            " [     8     78      0      0      0      0      0      0      0      0\n",
            "      37      0      0]\n",
            " [    10     20      0      0      0      0      0      0      0      0\n",
            "      12      0      0]\n",
            " [     0      0      0 137533      0      0      0      0      0      0\n",
            "       0      0      0]\n",
            " [     0      0      0      0    348      0      0      0      0      0\n",
            "       0      0      0]\n",
            " [     0      0      0      0      0   8353     10      0      0      0\n",
            "       0      0      0]\n",
            " [     0      0      0      0      0      1  92294      0      0      0\n",
            "       0      0      0]\n",
            " [     0      0      0      0      0      0      0  14652      0  13261\n",
            "       0      0      0]\n",
            " [     0      0      0      0      0      0      0      0   2207      0\n",
            "      25      0      0]\n",
            " [     0      0      0      0      0      0      0   5179      0  33337\n",
            "       0      0      0]\n",
            " [    90      1      0      8      0      1      2      0      5      0\n",
            "   31943      0      0]\n",
            " [     0     11      0      0      0      0      0      0      0      0\n",
            "      14      0      0]\n",
            " [     0      0      0      0      0      0      1      0      0      1\n",
            "       0      0  37371]]\n",
            "\n",
            "\n",
            "=== Classification Report ===\n"
          ],
          "name": "stdout"
        },
        {
          "output_type": "stream",
          "text": [
            "/usr/local/lib/python3.6/dist-packages/sklearn/metrics/_classification.py:1272: UndefinedMetricWarning: Precision and F-score are ill-defined and being set to 0.0 in labels with no predicted samples. Use `zero_division` parameter to control this behavior.\n",
            "  _warn_prf(average, modifier, msg_start, len(result))\n"
          ],
          "name": "stderr"
        },
        {
          "output_type": "stream",
          "text": [
            "              precision    recall  f1-score   support\n",
            "\n",
            "           0       1.00      1.00      1.00    172574\n",
            "           1       0.71      0.63      0.67       123\n",
            "           2       0.00      0.00      0.00        42\n",
            "           3       1.00      1.00      1.00    137533\n",
            "           4       1.00      1.00      1.00       348\n",
            "           5       1.00      1.00      1.00      8363\n",
            "           6       1.00      1.00      1.00     92295\n",
            "           7       0.74      0.52      0.61     27913\n",
            "           8       1.00      0.99      0.99      2232\n",
            "           9       0.72      0.87      0.78     38516\n",
            "          10       1.00      1.00      1.00     32050\n",
            "          11       0.00      0.00      0.00        25\n",
            "          12       1.00      1.00      1.00     37373\n",
            "\n",
            "    accuracy                           0.97    549387\n",
            "   macro avg       0.78      0.77      0.77    549387\n",
            "weighted avg       0.97      0.97      0.96    549387\n",
            "\n",
            "\n",
            "\n"
          ],
          "name": "stdout"
        }
      ]
    },
    {
      "cell_type": "markdown",
      "metadata": {
        "id": "lNsn7tGLqhzG"
      },
      "source": [
        "**Ann with 5 hidden layer**  \r\n",
        "\r\n",
        "---\r\n",
        "\r\n",
        "\r\n"
      ]
    },
    {
      "cell_type": "code",
      "metadata": {
        "colab": {
          "base_uri": "https://localhost:8080/"
        },
        "id": "sV31mUT7fc2S",
        "outputId": "db7f536c-c3d6-4878-e6fc-fc6f96dbd584"
      },
      "source": [
        "def create_model():\r\n",
        "  model = models.Sequential()\r\n",
        "  model.add(layers.Dense(256,input_dim=x.shape[1],activation='relu',use_bias=True))\r\n",
        "  model.add(layers.Dropout(0.1))\r\n",
        "  model.add(layers.Dense(128,activation='relu',use_bias=True))\r\n",
        "  model.add(layers.Dropout(0.1))\r\n",
        "  model.add(layers.Dense(64,activation='relu',use_bias=True))\r\n",
        "  model.add(layers.Dropout(0.1))\r\n",
        "  model.add(layers.Dense(32,activation='relu',use_bias=True))\r\n",
        "  model.add(layers.Dropout(0.1))\r\n",
        "  model.add(layers.Dense(32,activation='relu',use_bias=True))\r\n",
        "  model.add(layers.Dropout(0.5))\r\n",
        "  model.add(layers.Dense(np.unique(y).shape[0],activation='softmax',use_bias=True)) \r\n",
        "  return model\r\n",
        "\r\n",
        "from keras.optimizers import * \r\n",
        "model = create_model()\r\n",
        "opt = Adam(learning_rate=1e-4)\r\n",
        "model.compile(loss=\"categorical_crossentropy\", optimizer=opt, metrics=['categorical_accuracy'])\r\n",
        "model.summary()\r\n",
        "history=model.fit(xtrain , ztrain ,batch_size=256 , epochs=75 ,verbose=1 ,shuffle=True)\r\n",
        "result = model.evaluate(xtest,ztest)\r\n",
        "dict(zip(model.metrics_names, result))"
      ],
      "execution_count": null,
      "outputs": [
        {
          "output_type": "stream",
          "text": [
            "Model: \"sequential_2\"\n",
            "_________________________________________________________________\n",
            "Layer (type)                 Output Shape              Param #   \n",
            "=================================================================\n",
            "dense_10 (Dense)             (None, 256)               19968     \n",
            "_________________________________________________________________\n",
            "dropout_8 (Dropout)          (None, 256)               0         \n",
            "_________________________________________________________________\n",
            "dense_11 (Dense)             (None, 128)               32896     \n",
            "_________________________________________________________________\n",
            "dropout_9 (Dropout)          (None, 128)               0         \n",
            "_________________________________________________________________\n",
            "dense_12 (Dense)             (None, 64)                8256      \n",
            "_________________________________________________________________\n",
            "dropout_10 (Dropout)         (None, 64)                0         \n",
            "_________________________________________________________________\n",
            "dense_13 (Dense)             (None, 32)                2080      \n",
            "_________________________________________________________________\n",
            "dropout_11 (Dropout)         (None, 32)                0         \n",
            "_________________________________________________________________\n",
            "dense_14 (Dense)             (None, 32)                1056      \n",
            "_________________________________________________________________\n",
            "dropout_12 (Dropout)         (None, 32)                0         \n",
            "_________________________________________________________________\n",
            "dense_15 (Dense)             (None, 13)                429       \n",
            "=================================================================\n",
            "Total params: 64,685\n",
            "Trainable params: 64,685\n",
            "Non-trainable params: 0\n",
            "_________________________________________________________________\n",
            "Epoch 1/75\n",
            "8585/8585 [==============================] - 38s 4ms/step - loss: 0.6724 - categorical_accuracy: 0.7820\n",
            "Epoch 2/75\n",
            "8585/8585 [==============================] - 38s 4ms/step - loss: 0.1200 - categorical_accuracy: 0.9418\n",
            "Epoch 3/75\n",
            "8585/8585 [==============================] - 38s 4ms/step - loss: 0.1032 - categorical_accuracy: 0.9493\n",
            "Epoch 4/75\n",
            "8585/8585 [==============================] - 38s 4ms/step - loss: 0.0952 - categorical_accuracy: 0.9533\n",
            "Epoch 5/75\n",
            "8585/8585 [==============================] - 39s 5ms/step - loss: 0.0911 - categorical_accuracy: 0.9549\n",
            "Epoch 6/75\n",
            "8585/8585 [==============================] - 38s 4ms/step - loss: 0.0879 - categorical_accuracy: 0.9564\n",
            "Epoch 7/75\n",
            "8585/8585 [==============================] - 38s 4ms/step - loss: 0.0859 - categorical_accuracy: 0.9575\n",
            "Epoch 8/75\n",
            "8585/8585 [==============================] - 38s 4ms/step - loss: 0.0844 - categorical_accuracy: 0.9579\n",
            "Epoch 9/75\n",
            "8585/8585 [==============================] - 38s 4ms/step - loss: 0.0831 - categorical_accuracy: 0.9585\n",
            "Epoch 10/75\n",
            "8585/8585 [==============================] - 38s 4ms/step - loss: 0.0827 - categorical_accuracy: 0.9589\n",
            "Epoch 11/75\n",
            "8585/8585 [==============================] - 38s 4ms/step - loss: 0.0818 - categorical_accuracy: 0.9591\n",
            "Epoch 12/75\n",
            "8585/8585 [==============================] - 37s 4ms/step - loss: 0.0809 - categorical_accuracy: 0.9592\n",
            "Epoch 13/75\n",
            "8585/8585 [==============================] - 39s 5ms/step - loss: 0.0806 - categorical_accuracy: 0.9594\n",
            "Epoch 14/75\n",
            "8585/8585 [==============================] - 38s 4ms/step - loss: 0.0797 - categorical_accuracy: 0.9597\n",
            "Epoch 15/75\n",
            "8585/8585 [==============================] - 38s 4ms/step - loss: 0.0792 - categorical_accuracy: 0.9597\n",
            "Epoch 16/75\n",
            "8585/8585 [==============================] - 38s 4ms/step - loss: 0.0790 - categorical_accuracy: 0.9599\n",
            "Epoch 17/75\n",
            "8585/8585 [==============================] - 38s 4ms/step - loss: 0.0785 - categorical_accuracy: 0.9604\n",
            "Epoch 18/75\n",
            "8585/8585 [==============================] - 38s 4ms/step - loss: 0.0779 - categorical_accuracy: 0.9604\n",
            "Epoch 19/75\n",
            "8585/8585 [==============================] - 37s 4ms/step - loss: 0.0783 - categorical_accuracy: 0.9605\n",
            "Epoch 20/75\n",
            "8585/8585 [==============================] - 37s 4ms/step - loss: 0.0775 - categorical_accuracy: 0.9607\n",
            "Epoch 21/75\n",
            "8585/8585 [==============================] - 39s 5ms/step - loss: 0.0769 - categorical_accuracy: 0.9610\n",
            "Epoch 22/75\n",
            "8585/8585 [==============================] - 37s 4ms/step - loss: 0.0767 - categorical_accuracy: 0.9613\n",
            "Epoch 23/75\n",
            "8585/8585 [==============================] - 37s 4ms/step - loss: 0.0763 - categorical_accuracy: 0.9618\n",
            "Epoch 24/75\n",
            "8585/8585 [==============================] - 38s 4ms/step - loss: 0.0753 - categorical_accuracy: 0.9620\n",
            "Epoch 25/75\n",
            "8585/8585 [==============================] - 37s 4ms/step - loss: 0.0754 - categorical_accuracy: 0.9621\n",
            "Epoch 26/75\n",
            "8585/8585 [==============================] - 37s 4ms/step - loss: 0.0751 - categorical_accuracy: 0.9623\n",
            "Epoch 27/75\n",
            "8585/8585 [==============================] - 37s 4ms/step - loss: 0.0749 - categorical_accuracy: 0.9625\n",
            "Epoch 28/75\n",
            "8585/8585 [==============================] - 37s 4ms/step - loss: 0.0745 - categorical_accuracy: 0.9626\n",
            "Epoch 29/75\n",
            "8585/8585 [==============================] - 38s 4ms/step - loss: 0.0741 - categorical_accuracy: 0.9626\n",
            "Epoch 30/75\n",
            "8585/8585 [==============================] - 38s 4ms/step - loss: 0.0743 - categorical_accuracy: 0.9626\n",
            "Epoch 31/75\n",
            "8585/8585 [==============================] - 38s 4ms/step - loss: 0.0735 - categorical_accuracy: 0.9628\n",
            "Epoch 32/75\n",
            "8585/8585 [==============================] - 38s 4ms/step - loss: 0.0732 - categorical_accuracy: 0.9627\n",
            "Epoch 33/75\n",
            "8585/8585 [==============================] - 37s 4ms/step - loss: 0.0734 - categorical_accuracy: 0.9631\n",
            "Epoch 34/75\n",
            "8585/8585 [==============================] - 37s 4ms/step - loss: 0.0731 - categorical_accuracy: 0.9627\n",
            "Epoch 35/75\n",
            "8585/8585 [==============================] - 38s 4ms/step - loss: 0.0726 - categorical_accuracy: 0.9628\n",
            "Epoch 36/75\n",
            "8585/8585 [==============================] - 38s 4ms/step - loss: 0.0726 - categorical_accuracy: 0.9628\n",
            "Epoch 37/75\n",
            "8585/8585 [==============================] - 38s 4ms/step - loss: 0.0722 - categorical_accuracy: 0.9632\n",
            "Epoch 38/75\n",
            "8585/8585 [==============================] - 39s 5ms/step - loss: 0.0715 - categorical_accuracy: 0.9634\n",
            "Epoch 39/75\n",
            "8585/8585 [==============================] - 37s 4ms/step - loss: 0.0717 - categorical_accuracy: 0.9636\n",
            "Epoch 40/75\n",
            "8585/8585 [==============================] - 38s 4ms/step - loss: 0.0711 - categorical_accuracy: 0.9636\n",
            "Epoch 41/75\n",
            "8585/8585 [==============================] - 37s 4ms/step - loss: 0.0716 - categorical_accuracy: 0.9635\n",
            "Epoch 42/75\n",
            "8585/8585 [==============================] - 37s 4ms/step - loss: 0.0718 - categorical_accuracy: 0.9635\n",
            "Epoch 43/75\n",
            "8585/8585 [==============================] - 37s 4ms/step - loss: 0.0715 - categorical_accuracy: 0.9634\n",
            "Epoch 44/75\n",
            "8585/8585 [==============================] - 37s 4ms/step - loss: 0.0709 - categorical_accuracy: 0.9635\n",
            "Epoch 45/75\n",
            "8585/8585 [==============================] - 37s 4ms/step - loss: 0.0709 - categorical_accuracy: 0.9637\n",
            "Epoch 46/75\n",
            "8585/8585 [==============================] - 39s 5ms/step - loss: 0.0707 - categorical_accuracy: 0.9637\n",
            "Epoch 47/75\n",
            "8585/8585 [==============================] - 37s 4ms/step - loss: 0.0700 - categorical_accuracy: 0.9639\n",
            "Epoch 48/75\n",
            "8585/8585 [==============================] - 39s 4ms/step - loss: 0.0708 - categorical_accuracy: 0.9634\n",
            "Epoch 49/75\n",
            "8585/8585 [==============================] - 37s 4ms/step - loss: 0.0710 - categorical_accuracy: 0.9637\n",
            "Epoch 50/75\n",
            "8585/8585 [==============================] - 38s 4ms/step - loss: 0.0703 - categorical_accuracy: 0.9638\n",
            "Epoch 51/75\n",
            "8585/8585 [==============================] - 38s 4ms/step - loss: 0.0709 - categorical_accuracy: 0.9636\n",
            "Epoch 52/75\n",
            "8585/8585 [==============================] - 38s 4ms/step - loss: 0.0704 - categorical_accuracy: 0.9638\n",
            "Epoch 53/75\n",
            "8585/8585 [==============================] - 37s 4ms/step - loss: 0.0705 - categorical_accuracy: 0.9637\n",
            "Epoch 54/75\n",
            "8585/8585 [==============================] - 39s 5ms/step - loss: 0.0703 - categorical_accuracy: 0.9636\n",
            "Epoch 55/75\n",
            "8585/8585 [==============================] - 38s 4ms/step - loss: 0.0702 - categorical_accuracy: 0.9636\n",
            "Epoch 56/75\n",
            "8585/8585 [==============================] - 38s 4ms/step - loss: 0.0702 - categorical_accuracy: 0.9637\n",
            "Epoch 57/75\n",
            "8585/8585 [==============================] - 38s 4ms/step - loss: 0.0701 - categorical_accuracy: 0.9641\n",
            "Epoch 58/75\n",
            "8585/8585 [==============================] - 38s 4ms/step - loss: 0.0701 - categorical_accuracy: 0.9641\n",
            "Epoch 59/75\n",
            "8585/8585 [==============================] - 38s 4ms/step - loss: 0.0700 - categorical_accuracy: 0.9639\n",
            "Epoch 60/75\n",
            "8585/8585 [==============================] - 37s 4ms/step - loss: 0.0757 - categorical_accuracy: 0.9637\n",
            "Epoch 61/75\n",
            "8585/8585 [==============================] - 38s 4ms/step - loss: 0.0695 - categorical_accuracy: 0.9640\n",
            "Epoch 62/75\n",
            "8585/8585 [==============================] - 39s 5ms/step - loss: 0.0703 - categorical_accuracy: 0.9638\n",
            "Epoch 63/75\n",
            "8585/8585 [==============================] - 38s 4ms/step - loss: 0.0698 - categorical_accuracy: 0.9639\n",
            "Epoch 64/75\n",
            "8585/8585 [==============================] - 38s 4ms/step - loss: 0.0693 - categorical_accuracy: 0.9638\n",
            "Epoch 65/75\n",
            "8585/8585 [==============================] - 38s 4ms/step - loss: 0.0696 - categorical_accuracy: 0.9639\n",
            "Epoch 66/75\n",
            "8585/8585 [==============================] - 38s 4ms/step - loss: 0.0693 - categorical_accuracy: 0.9640\n",
            "Epoch 67/75\n",
            "8585/8585 [==============================] - 38s 4ms/step - loss: 0.0700 - categorical_accuracy: 0.9639\n",
            "Epoch 68/75\n",
            "8585/8585 [==============================] - 38s 4ms/step - loss: 0.0696 - categorical_accuracy: 0.9636\n",
            "Epoch 69/75\n",
            "8585/8585 [==============================] - 38s 4ms/step - loss: 0.0698 - categorical_accuracy: 0.9639\n",
            "Epoch 70/75\n",
            "8585/8585 [==============================] - 37s 4ms/step - loss: 0.0695 - categorical_accuracy: 0.9640\n",
            "Epoch 71/75\n",
            "8585/8585 [==============================] - 40s 5ms/step - loss: 0.0710 - categorical_accuracy: 0.9641\n",
            "Epoch 72/75\n",
            "8585/8585 [==============================] - 38s 4ms/step - loss: 0.0689 - categorical_accuracy: 0.9641\n",
            "Epoch 73/75\n",
            "8585/8585 [==============================] - 38s 4ms/step - loss: 0.0691 - categorical_accuracy: 0.9643\n",
            "Epoch 74/75\n",
            "8585/8585 [==============================] - 38s 4ms/step - loss: 0.0694 - categorical_accuracy: 0.9640\n",
            "Epoch 75/75\n",
            "8585/8585 [==============================] - 38s 4ms/step - loss: 0.0691 - categorical_accuracy: 0.9640\n",
            "17169/17169 [==============================] - 14s 792us/step - loss: 0.0637 - categorical_accuracy: 0.9663\n"
          ],
          "name": "stdout"
        },
        {
          "output_type": "execute_result",
          "data": {
            "text/plain": [
              "{'categorical_accuracy': 0.9662842154502869, 'loss': 0.06366468966007233}"
            ]
          },
          "metadata": {
            "tags": []
          },
          "execution_count": 19
        }
      ]
    },
    {
      "cell_type": "code",
      "metadata": {
        "id": "7EwP-tWqqY4J"
      },
      "source": [
        "pred=model.predict(xtest)\r\n",
        "y_pred = np.argmax(pred, axis=-1)"
      ],
      "execution_count": null,
      "outputs": []
    },
    {
      "cell_type": "code",
      "metadata": {
        "colab": {
          "base_uri": "https://localhost:8080/"
        },
        "id": "zMk0LmA7qgP7",
        "outputId": "a4831125-5432-40ee-fa2d-580cd9e74ef4"
      },
      "source": [
        "from sklearn import metrics\r\n",
        "print(\"The accuracy score is\",metrics.accuracy_score(ytest, y_pred))\r\n",
        "print(\"The precision score is\",metrics.precision_score(ytest, y_pred,average='weighted'))\r\n",
        "print(\"The recall score is\",metrics.recall_score(ytest, y_pred,average='weighted'))\r\n",
        "print(\"The f1-score is\",metrics.f1_score(ytest, y_pred,average='weighted'))\r\n",
        "print('\\n')\r\n",
        "print(metrics.confusion_matrix(ytest, y_pred))\r\n",
        "print('\\n')\r\n",
        "print(\"=== Classification Report ===\")\r\n",
        "print(metrics.classification_report(ytest, y_pred))\r\n",
        "print('\\n')"
      ],
      "execution_count": null,
      "outputs": [
        {
          "output_type": "stream",
          "text": [
            "The accuracy score is 0.9662842404352487\n"
          ],
          "name": "stdout"
        },
        {
          "output_type": "stream",
          "text": [
            "/usr/local/lib/python3.6/dist-packages/sklearn/metrics/_classification.py:1272: UndefinedMetricWarning: Precision is ill-defined and being set to 0.0 in labels with no predicted samples. Use `zero_division` parameter to control this behavior.\n",
            "  _warn_prf(average, modifier, msg_start, len(result))\n"
          ],
          "name": "stderr"
        },
        {
          "output_type": "stream",
          "text": [
            "The precision score is 0.9669039060967618\n",
            "The recall score is 0.9662842404352487\n",
            "The f1-score is 0.964728293060669\n",
            "\n",
            "\n",
            "[[172546      0      0      0      0      0      0      0      0      0\n",
            "      28      0      0]\n",
            " [     7     78      0      0      0      0      0      0      0      0\n",
            "      38      0      0]\n",
            " [    10     20      0      0      0      0      0      0      0      0\n",
            "      12      0      0]\n",
            " [     0      0      0 137533      0      0      0      0      0      0\n",
            "       0      0      0]\n",
            " [     0      0      0      0    348      0      0      0      0      0\n",
            "       0      0      0]\n",
            " [     0      0      0      0      0   8357      4      0      2      0\n",
            "       0      0      0]\n",
            " [     0      0      0      0      0     16  92279      0      0      0\n",
            "       0      0      0]\n",
            " [     0      0      0      0      0      0      0  14214      0  13699\n",
            "       0      0      0]\n",
            " [     0      0      0      0      0      0      0      0   2206      0\n",
            "      26      0      0]\n",
            " [     0      0      0      0      0      0      0   4552      0  33964\n",
            "       0      0      0]\n",
            " [    71      2      0      3      0      1      2      0      3      0\n",
            "   31968      0      0]\n",
            " [     0     12      0      0      0      0      0      0      0      0\n",
            "      13      0      0]\n",
            " [     0      0      0      0      0      0      1      0      0      1\n",
            "       0      0  37371]]\n",
            "\n",
            "\n",
            "=== Classification Report ===\n"
          ],
          "name": "stdout"
        },
        {
          "output_type": "stream",
          "text": [
            "/usr/local/lib/python3.6/dist-packages/sklearn/metrics/_classification.py:1272: UndefinedMetricWarning: Precision and F-score are ill-defined and being set to 0.0 in labels with no predicted samples. Use `zero_division` parameter to control this behavior.\n",
            "  _warn_prf(average, modifier, msg_start, len(result))\n"
          ],
          "name": "stderr"
        },
        {
          "output_type": "stream",
          "text": [
            "              precision    recall  f1-score   support\n",
            "\n",
            "           0       1.00      1.00      1.00    172574\n",
            "           1       0.70      0.63      0.66       123\n",
            "           2       0.00      0.00      0.00        42\n",
            "           3       1.00      1.00      1.00    137533\n",
            "           4       1.00      1.00      1.00       348\n",
            "           5       1.00      1.00      1.00      8363\n",
            "           6       1.00      1.00      1.00     92295\n",
            "           7       0.76      0.51      0.61     27913\n",
            "           8       1.00      0.99      0.99      2232\n",
            "           9       0.71      0.88      0.79     38516\n",
            "          10       1.00      1.00      1.00     32050\n",
            "          11       0.00      0.00      0.00        25\n",
            "          12       1.00      1.00      1.00     37373\n",
            "\n",
            "    accuracy                           0.97    549387\n",
            "   macro avg       0.78      0.77      0.77    549387\n",
            "weighted avg       0.97      0.97      0.96    549387\n",
            "\n",
            "\n",
            "\n"
          ],
          "name": "stdout"
        }
      ]
    },
    {
      "cell_type": "markdown",
      "metadata": {
        "id": "sHyqajO-qzQO"
      },
      "source": [
        "**Ann with 4 hidden Layer**\r\n",
        "\r\n",
        "---\r\n",
        "\r\n",
        "\r\n",
        "\r\n",
        "\r\n"
      ]
    },
    {
      "cell_type": "code",
      "metadata": {
        "id": "Zk60ohdTIzYj",
        "colab": {
          "base_uri": "https://localhost:8080/"
        },
        "outputId": "18ef775a-5fd1-46cb-85e2-d9e446b3fd7d"
      },
      "source": [
        "def create_model():\n",
        "  model = models.Sequential()\n",
        "  model.add(layers.Dense(256,input_dim=x.shape[1],activation='relu',use_bias=True))\n",
        "  model.add(layers.Dropout(0.1))\n",
        "  model.add(layers.Dense(128,activation='relu',use_bias=True))\n",
        "  model.add(layers.Dropout(0.1))\n",
        "  model.add(layers.Dense(64,activation='relu',use_bias=True))\n",
        "  model.add(layers.Dropout(0.1))\n",
        "  model.add(layers.Dense(32,activation='relu',use_bias=True))\n",
        "  model.add(layers.Dropout(0.5))\n",
        "  model.add(layers.Dense(np.unique(y).shape[0],activation='softmax',use_bias=True)) \n",
        "  return model\n",
        "\n",
        "from keras.optimizers import * \n",
        "model = create_model()\n",
        "opt = Adam(learning_rate=1e-4)\n",
        "model.compile(loss=\"categorical_crossentropy\", optimizer=opt, metrics=['categorical_accuracy'])\n",
        "model.summary()\n",
        "history=model.fit(xtrain , ztrain ,batch_size=256 , epochs=100 ,verbose=1 ,shuffle=True)\n",
        "result = model.evaluate(xtest,ztest)\n",
        "dict(zip(model.metrics_names, result))"
      ],
      "execution_count": null,
      "outputs": [
        {
          "output_type": "stream",
          "text": [
            "Model: \"sequential\"\n",
            "_________________________________________________________________\n",
            "Layer (type)                 Output Shape              Param #   \n",
            "=================================================================\n",
            "dense (Dense)                (None, 256)               19968     \n",
            "_________________________________________________________________\n",
            "dropout (Dropout)            (None, 256)               0         \n",
            "_________________________________________________________________\n",
            "dense_1 (Dense)              (None, 128)               32896     \n",
            "_________________________________________________________________\n",
            "dropout_1 (Dropout)          (None, 128)               0         \n",
            "_________________________________________________________________\n",
            "dense_2 (Dense)              (None, 64)                8256      \n",
            "_________________________________________________________________\n",
            "dropout_2 (Dropout)          (None, 64)                0         \n",
            "_________________________________________________________________\n",
            "dense_3 (Dense)              (None, 32)                2080      \n",
            "_________________________________________________________________\n",
            "dropout_3 (Dropout)          (None, 32)                0         \n",
            "_________________________________________________________________\n",
            "dense_4 (Dense)              (None, 13)                429       \n",
            "=================================================================\n",
            "Total params: 63,629\n",
            "Trainable params: 63,629\n",
            "Non-trainable params: 0\n",
            "_________________________________________________________________\n",
            "Epoch 1/100\n",
            "8585/8585 [==============================] - 46s 5ms/step - loss: 0.5767 - categorical_accuracy: 0.8132\n",
            "Epoch 2/100\n",
            "8585/8585 [==============================] - 45s 5ms/step - loss: 0.1139 - categorical_accuracy: 0.9444\n",
            "Epoch 3/100\n",
            "8585/8585 [==============================] - 47s 6ms/step - loss: 0.0977 - categorical_accuracy: 0.9511\n",
            "Epoch 4/100\n",
            "8585/8585 [==============================] - 45s 5ms/step - loss: 0.0921 - categorical_accuracy: 0.9536\n",
            "Epoch 5/100\n",
            "8585/8585 [==============================] - 45s 5ms/step - loss: 0.0885 - categorical_accuracy: 0.9550\n",
            "Epoch 6/100\n",
            "8585/8585 [==============================] - 45s 5ms/step - loss: 0.0866 - categorical_accuracy: 0.9560\n",
            "Epoch 7/100\n",
            "8585/8585 [==============================] - 46s 5ms/step - loss: 0.0855 - categorical_accuracy: 0.9565\n",
            "Epoch 8/100\n",
            "8585/8585 [==============================] - 46s 5ms/step - loss: 0.0840 - categorical_accuracy: 0.9570\n",
            "Epoch 9/100\n",
            "8585/8585 [==============================] - 43s 5ms/step - loss: 0.0827 - categorical_accuracy: 0.9575\n",
            "Epoch 10/100\n",
            "8585/8585 [==============================] - 47s 5ms/step - loss: 0.0818 - categorical_accuracy: 0.9579\n",
            "Epoch 11/100\n",
            "8585/8585 [==============================] - 45s 5ms/step - loss: 0.0812 - categorical_accuracy: 0.9583\n",
            "Epoch 12/100\n",
            "8585/8585 [==============================] - 45s 5ms/step - loss: 0.0803 - categorical_accuracy: 0.9587\n",
            "Epoch 13/100\n",
            "8585/8585 [==============================] - 43s 5ms/step - loss: 0.0802 - categorical_accuracy: 0.9591\n",
            "Epoch 14/100\n",
            "8585/8585 [==============================] - 44s 5ms/step - loss: 0.0794 - categorical_accuracy: 0.9594\n",
            "Epoch 15/100\n",
            "8585/8585 [==============================] - 46s 5ms/step - loss: 0.0794 - categorical_accuracy: 0.9598\n",
            "Epoch 16/100\n",
            "8585/8585 [==============================] - 45s 5ms/step - loss: 0.0786 - categorical_accuracy: 0.9601\n",
            "Epoch 17/100\n",
            "8585/8585 [==============================] - 45s 5ms/step - loss: 0.0787 - categorical_accuracy: 0.9602\n",
            "Epoch 18/100\n",
            "8585/8585 [==============================] - 46s 5ms/step - loss: 0.0778 - categorical_accuracy: 0.9609\n",
            "Epoch 19/100\n",
            "8585/8585 [==============================] - 45s 5ms/step - loss: 0.0770 - categorical_accuracy: 0.9610\n",
            "Epoch 20/100\n",
            "8585/8585 [==============================] - 46s 5ms/step - loss: 0.0765 - categorical_accuracy: 0.9614\n",
            "Epoch 21/100\n",
            "8585/8585 [==============================] - 43s 5ms/step - loss: 0.0763 - categorical_accuracy: 0.9613\n",
            "Epoch 22/100\n",
            "8585/8585 [==============================] - 46s 5ms/step - loss: 0.0761 - categorical_accuracy: 0.9616\n",
            "Epoch 23/100\n",
            "8585/8585 [==============================] - 46s 5ms/step - loss: 0.0757 - categorical_accuracy: 0.9617\n",
            "Epoch 24/100\n",
            "8585/8585 [==============================] - 49s 6ms/step - loss: 0.0752 - categorical_accuracy: 0.9618\n",
            "Epoch 25/100\n",
            "8585/8585 [==============================] - 45s 5ms/step - loss: 0.0753 - categorical_accuracy: 0.9618\n",
            "Epoch 26/100\n",
            "8585/8585 [==============================] - 46s 5ms/step - loss: 0.0751 - categorical_accuracy: 0.9618\n",
            "Epoch 27/100\n",
            "8585/8585 [==============================] - 47s 6ms/step - loss: 0.0747 - categorical_accuracy: 0.9620\n",
            "Epoch 28/100\n",
            "8585/8585 [==============================] - 45s 5ms/step - loss: 0.0745 - categorical_accuracy: 0.9617\n",
            "Epoch 29/100\n",
            "8585/8585 [==============================] - 44s 5ms/step - loss: 0.0747 - categorical_accuracy: 0.9617\n",
            "Epoch 30/100\n",
            "8585/8585 [==============================] - 48s 6ms/step - loss: 0.0737 - categorical_accuracy: 0.9622\n",
            "Epoch 31/100\n",
            "8585/8585 [==============================] - 45s 5ms/step - loss: 0.0738 - categorical_accuracy: 0.9621\n",
            "Epoch 32/100\n",
            "8585/8585 [==============================] - 45s 5ms/step - loss: 0.0733 - categorical_accuracy: 0.9624\n",
            "Epoch 33/100\n",
            "8585/8585 [==============================] - 44s 5ms/step - loss: 0.0737 - categorical_accuracy: 0.9623\n",
            "Epoch 34/100\n",
            "8585/8585 [==============================] - 43s 5ms/step - loss: 0.0731 - categorical_accuracy: 0.9623\n",
            "Epoch 35/100\n",
            "8585/8585 [==============================] - 45s 5ms/step - loss: 0.0729 - categorical_accuracy: 0.9627\n",
            "Epoch 36/100\n",
            "8585/8585 [==============================] - 45s 5ms/step - loss: 0.0728 - categorical_accuracy: 0.9624\n",
            "Epoch 37/100\n",
            "8585/8585 [==============================] - 45s 5ms/step - loss: 0.0728 - categorical_accuracy: 0.9624\n",
            "Epoch 38/100\n",
            "8585/8585 [==============================] - 46s 5ms/step - loss: 0.0725 - categorical_accuracy: 0.9628\n",
            "Epoch 39/100\n",
            "8585/8585 [==============================] - 47s 5ms/step - loss: 0.0725 - categorical_accuracy: 0.9626\n",
            "Epoch 40/100\n",
            "8585/8585 [==============================] - 47s 6ms/step - loss: 0.0719 - categorical_accuracy: 0.9627\n",
            "Epoch 41/100\n",
            "8585/8585 [==============================] - 47s 5ms/step - loss: 0.0721 - categorical_accuracy: 0.9628\n",
            "Epoch 42/100\n",
            "8585/8585 [==============================] - 45s 5ms/step - loss: 0.0720 - categorical_accuracy: 0.9629\n",
            "Epoch 43/100\n",
            "8585/8585 [==============================] - 47s 6ms/step - loss: 0.0720 - categorical_accuracy: 0.9627\n",
            "Epoch 44/100\n",
            "8585/8585 [==============================] - 48s 6ms/step - loss: 0.0715 - categorical_accuracy: 0.9627\n",
            "Epoch 45/100\n",
            "8585/8585 [==============================] - 45s 5ms/step - loss: 0.0719 - categorical_accuracy: 0.9629\n",
            "Epoch 46/100\n",
            "8585/8585 [==============================] - 45s 5ms/step - loss: 0.0716 - categorical_accuracy: 0.9628\n",
            "Epoch 47/100\n",
            "8585/8585 [==============================] - 47s 5ms/step - loss: 0.0718 - categorical_accuracy: 0.9626\n",
            "Epoch 48/100\n",
            "8585/8585 [==============================] - 46s 5ms/step - loss: 0.0713 - categorical_accuracy: 0.9629\n",
            "Epoch 49/100\n",
            "8585/8585 [==============================] - 45s 5ms/step - loss: 0.0714 - categorical_accuracy: 0.9631\n",
            "Epoch 50/100\n",
            "8585/8585 [==============================] - 45s 5ms/step - loss: 0.0716 - categorical_accuracy: 0.9628\n",
            "Epoch 51/100\n",
            "8585/8585 [==============================] - 45s 5ms/step - loss: 0.0711 - categorical_accuracy: 0.9630\n",
            "Epoch 52/100\n",
            "8585/8585 [==============================] - 45s 5ms/step - loss: 0.0713 - categorical_accuracy: 0.9630\n",
            "Epoch 53/100\n",
            "8585/8585 [==============================] - 45s 5ms/step - loss: 0.0709 - categorical_accuracy: 0.9631\n",
            "Epoch 54/100\n",
            "8585/8585 [==============================] - 42s 5ms/step - loss: 0.0712 - categorical_accuracy: 0.9630\n",
            "Epoch 55/100\n",
            "8585/8585 [==============================] - 44s 5ms/step - loss: 0.0714 - categorical_accuracy: 0.9628\n",
            "Epoch 56/100\n",
            "8585/8585 [==============================] - 45s 5ms/step - loss: 0.0709 - categorical_accuracy: 0.9631\n",
            "Epoch 57/100\n",
            "8585/8585 [==============================] - 46s 5ms/step - loss: 0.0710 - categorical_accuracy: 0.9631\n",
            "Epoch 58/100\n",
            "8585/8585 [==============================] - 43s 5ms/step - loss: 0.0710 - categorical_accuracy: 0.9630\n",
            "Epoch 59/100\n",
            "8585/8585 [==============================] - 45s 5ms/step - loss: 0.0713 - categorical_accuracy: 0.9630\n",
            "Epoch 60/100\n",
            "8585/8585 [==============================] - 43s 5ms/step - loss: 0.0708 - categorical_accuracy: 0.9629\n",
            "Epoch 61/100\n",
            "8585/8585 [==============================] - 43s 5ms/step - loss: 0.0703 - categorical_accuracy: 0.9633\n",
            "Epoch 62/100\n",
            "8585/8585 [==============================] - 42s 5ms/step - loss: 0.0708 - categorical_accuracy: 0.9631\n",
            "Epoch 63/100\n",
            "8585/8585 [==============================] - 43s 5ms/step - loss: 0.0707 - categorical_accuracy: 0.9631\n",
            "Epoch 64/100\n",
            "8585/8585 [==============================] - 45s 5ms/step - loss: 0.0706 - categorical_accuracy: 0.9635\n",
            "Epoch 65/100\n",
            "8585/8585 [==============================] - 44s 5ms/step - loss: 0.0705 - categorical_accuracy: 0.9632\n",
            "Epoch 66/100\n",
            "8585/8585 [==============================] - 42s 5ms/step - loss: 0.0707 - categorical_accuracy: 0.9633\n",
            "Epoch 67/100\n",
            "8585/8585 [==============================] - 43s 5ms/step - loss: 0.0706 - categorical_accuracy: 0.9633\n",
            "Epoch 68/100\n",
            "8585/8585 [==============================] - 44s 5ms/step - loss: 0.0712 - categorical_accuracy: 0.9629\n",
            "Epoch 69/100\n",
            "8585/8585 [==============================] - 42s 5ms/step - loss: 0.0706 - categorical_accuracy: 0.9634\n",
            "Epoch 70/100\n",
            "8585/8585 [==============================] - 43s 5ms/step - loss: 0.0703 - categorical_accuracy: 0.9632\n",
            "Epoch 71/100\n",
            "8585/8585 [==============================] - 44s 5ms/step - loss: 0.0698 - categorical_accuracy: 0.9636\n",
            "Epoch 72/100\n",
            "8585/8585 [==============================] - 44s 5ms/step - loss: 0.0700 - categorical_accuracy: 0.9634\n",
            "Epoch 73/100\n",
            "8585/8585 [==============================] - 41s 5ms/step - loss: 0.0705 - categorical_accuracy: 0.9634\n",
            "Epoch 74/100\n",
            "8585/8585 [==============================] - 42s 5ms/step - loss: 0.0702 - categorical_accuracy: 0.9633\n",
            "Epoch 75/100\n",
            "8585/8585 [==============================] - 43s 5ms/step - loss: 0.0701 - categorical_accuracy: 0.9635\n",
            "Epoch 76/100\n",
            "8585/8585 [==============================] - 43s 5ms/step - loss: 0.0703 - categorical_accuracy: 0.9632\n",
            "Epoch 77/100\n",
            "8585/8585 [==============================] - 42s 5ms/step - loss: 0.0703 - categorical_accuracy: 0.9634\n",
            "Epoch 78/100\n",
            "8585/8585 [==============================] - 45s 5ms/step - loss: 0.0702 - categorical_accuracy: 0.9632\n",
            "Epoch 79/100\n",
            "8585/8585 [==============================] - 44s 5ms/step - loss: 0.0699 - categorical_accuracy: 0.9633\n",
            "Epoch 80/100\n",
            "8585/8585 [==============================] - 42s 5ms/step - loss: 0.0694 - categorical_accuracy: 0.9634\n",
            "Epoch 81/100\n",
            "8585/8585 [==============================] - 43s 5ms/step - loss: 0.0700 - categorical_accuracy: 0.9634\n",
            "Epoch 82/100\n",
            "8585/8585 [==============================] - 43s 5ms/step - loss: 0.0696 - categorical_accuracy: 0.9632\n",
            "Epoch 83/100\n",
            "8585/8585 [==============================] - 41s 5ms/step - loss: 0.0698 - categorical_accuracy: 0.9633\n",
            "Epoch 84/100\n",
            "8585/8585 [==============================] - 43s 5ms/step - loss: 0.0702 - categorical_accuracy: 0.9633\n",
            "Epoch 85/100\n",
            "8585/8585 [==============================] - 43s 5ms/step - loss: 0.0699 - categorical_accuracy: 0.9634\n",
            "Epoch 86/100\n",
            "8585/8585 [==============================] - 42s 5ms/step - loss: 0.0701 - categorical_accuracy: 0.9633\n",
            "Epoch 87/100\n",
            "8585/8585 [==============================] - 43s 5ms/step - loss: 0.0695 - categorical_accuracy: 0.9639\n",
            "Epoch 88/100\n",
            "8585/8585 [==============================] - 42s 5ms/step - loss: 0.0697 - categorical_accuracy: 0.9634\n",
            "Epoch 89/100\n",
            "8585/8585 [==============================] - 44s 5ms/step - loss: 0.0695 - categorical_accuracy: 0.9636\n",
            "Epoch 90/100\n",
            "8585/8585 [==============================] - 43s 5ms/step - loss: 0.0697 - categorical_accuracy: 0.9634\n",
            "Epoch 91/100\n",
            "8585/8585 [==============================] - 44s 5ms/step - loss: 0.0693 - categorical_accuracy: 0.9635\n",
            "Epoch 92/100\n",
            "8585/8585 [==============================] - 44s 5ms/step - loss: 0.0698 - categorical_accuracy: 0.9637\n",
            "Epoch 93/100\n",
            "8585/8585 [==============================] - 43s 5ms/step - loss: 0.0700 - categorical_accuracy: 0.9639\n",
            "Epoch 94/100\n",
            "8585/8585 [==============================] - 42s 5ms/step - loss: 0.0691 - categorical_accuracy: 0.9638\n",
            "Epoch 95/100\n",
            "8585/8585 [==============================] - 43s 5ms/step - loss: 0.0692 - categorical_accuracy: 0.9636\n",
            "Epoch 96/100\n",
            "8585/8585 [==============================] - 42s 5ms/step - loss: 0.0697 - categorical_accuracy: 0.9638\n",
            "Epoch 97/100\n",
            "8585/8585 [==============================] - 40s 5ms/step - loss: 0.0692 - categorical_accuracy: 0.9637\n",
            "Epoch 98/100\n",
            "8585/8585 [==============================] - 43s 5ms/step - loss: 0.0693 - categorical_accuracy: 0.9639\n",
            "Epoch 99/100\n",
            "8585/8585 [==============================] - 43s 5ms/step - loss: 0.0700 - categorical_accuracy: 0.9636\n",
            "Epoch 100/100\n",
            "8585/8585 [==============================] - 42s 5ms/step - loss: 0.0696 - categorical_accuracy: 0.9637\n",
            "17169/17169 [==============================] - 17s 975us/step - loss: 0.0634 - categorical_accuracy: 0.9670\n"
          ],
          "name": "stdout"
        },
        {
          "output_type": "execute_result",
          "data": {
            "text/plain": [
              "{'categorical_accuracy': 0.9669540524482727, 'loss': 0.06335224956274033}"
            ]
          },
          "metadata": {
            "tags": []
          },
          "execution_count": 21
        }
      ]
    },
    {
      "cell_type": "code",
      "metadata": {
        "id": "N8xriabXJBWI"
      },
      "source": [
        "pred=model.predict(xtest)\r\n",
        "y_pred = np.argmax(pred, axis=-1)"
      ],
      "execution_count": null,
      "outputs": []
    },
    {
      "cell_type": "code",
      "metadata": {
        "id": "HjhuTGksJE7B",
        "colab": {
          "base_uri": "https://localhost:8080/"
        },
        "outputId": "affa77d9-8248-4286-929f-8f57150404e2"
      },
      "source": [
        "from sklearn import metrics\n",
        "print(\"The accuracy score is\",metrics.accuracy_score(ytest, y_pred))\n",
        "print(\"The precision score is\",metrics.precision_score(ytest, y_pred,average='weighted'))\n",
        "print(\"The recall score is\",metrics.recall_score(ytest, y_pred,average='weighted'))\n",
        "print(\"The f1-score is\",metrics.f1_score(ytest, y_pred,average='weighted'))\n",
        "print('\\n')\n",
        "print(metrics.confusion_matrix(ytest, y_pred))\n",
        "print('\\n')\n",
        "print(\"=== Classification Report ===\")\n",
        "print(metrics.classification_report(ytest, y_pred))\n",
        "print('\\n')"
      ],
      "execution_count": null,
      "outputs": [
        {
          "output_type": "stream",
          "text": [
            "The accuracy score is 0.966954077908651\n"
          ],
          "name": "stdout"
        },
        {
          "output_type": "stream",
          "text": [
            "/usr/local/lib/python3.6/dist-packages/sklearn/metrics/_classification.py:1272: UndefinedMetricWarning: Precision is ill-defined and being set to 0.0 in labels with no predicted samples. Use `zero_division` parameter to control this behavior.\n",
            "  _warn_prf(average, modifier, msg_start, len(result))\n"
          ],
          "name": "stderr"
        },
        {
          "output_type": "stream",
          "text": [
            "The precision score is 0.9677786887141197\n",
            "The recall score is 0.966954077908651\n",
            "The f1-score is 0.965423690585904\n",
            "\n",
            "\n",
            "[[172545      0      0      0      0      0      0      0      0      0\n",
            "      29      0      0]\n",
            " [     7     67      0      0      0      0      0      0      0      0\n",
            "      49      0      0]\n",
            " [    10      2     18      0      0      0      0      0      0      0\n",
            "      12      0      0]\n",
            " [     0      0      0 137533      0      0      0      0      0      0\n",
            "       0      0      0]\n",
            " [     0      0      0      0    348      0      0      0      0      0\n",
            "       0      0      0]\n",
            " [     0      0      0      0      0   8360      3      0      0      0\n",
            "       0      0      0]\n",
            " [     0      0      0      0      0      0  92295      0      0      0\n",
            "       0      0      0]\n",
            " [     0      0      0      0      0      0      0  14345      0  13568\n",
            "       0      0      0]\n",
            " [     0      0      0      0      0      0      0      0   2206      0\n",
            "      26      0      0]\n",
            " [     0      0      0      0      0      0      0   4337      0  34179\n",
            "       0      0      0]\n",
            " [    74      0      0      3      0      1      2      0      5      0\n",
            "   31965      0      0]\n",
            " [     0      0      1      0      0      0      0      0      0      0\n",
            "      24      0      0]\n",
            " [     0      0      0      0      0      0      1      0      0      1\n",
            "       0      0  37371]]\n",
            "\n",
            "\n",
            "=== Classification Report ===\n"
          ],
          "name": "stdout"
        },
        {
          "output_type": "stream",
          "text": [
            "/usr/local/lib/python3.6/dist-packages/sklearn/metrics/_classification.py:1272: UndefinedMetricWarning: Precision and F-score are ill-defined and being set to 0.0 in labels with no predicted samples. Use `zero_division` parameter to control this behavior.\n",
            "  _warn_prf(average, modifier, msg_start, len(result))\n"
          ],
          "name": "stderr"
        },
        {
          "output_type": "stream",
          "text": [
            "              precision    recall  f1-score   support\n",
            "\n",
            "           0       1.00      1.00      1.00    172574\n",
            "           1       0.97      0.54      0.70       123\n",
            "           2       0.95      0.43      0.59        42\n",
            "           3       1.00      1.00      1.00    137533\n",
            "           4       1.00      1.00      1.00       348\n",
            "           5       1.00      1.00      1.00      8363\n",
            "           6       1.00      1.00      1.00     92295\n",
            "           7       0.77      0.51      0.62     27913\n",
            "           8       1.00      0.99      0.99      2232\n",
            "           9       0.72      0.89      0.79     38516\n",
            "          10       1.00      1.00      1.00     32050\n",
            "          11       0.00      0.00      0.00        25\n",
            "          12       1.00      1.00      1.00     37373\n",
            "\n",
            "    accuracy                           0.97    549387\n",
            "   macro avg       0.88      0.80      0.82    549387\n",
            "weighted avg       0.97      0.97      0.97    549387\n",
            "\n",
            "\n",
            "\n"
          ],
          "name": "stdout"
        }
      ]
    },
    {
      "cell_type": "code",
      "metadata": {
        "id": "03sVB4oFJKhA"
      },
      "source": [
        "from sklearn.ensemble import RandomForestClassifier\n",
        "rfc = RandomForestClassifier()\n",
        "rfc_history=rfc.fit(xtrain,ytrain)\n",
        "rfc_predict = rfc.predict(xtest)"
      ],
      "execution_count": null,
      "outputs": []
    },
    {
      "cell_type": "code",
      "metadata": {
        "id": "M7_Q4fCpJOkQ",
        "colab": {
          "base_uri": "https://localhost:8080/"
        },
        "outputId": "065ba4d4-1543-4511-baa1-299b1bc4da00"
      },
      "source": [
        "from sklearn import metrics\n",
        "print(\"The accuracy score is\",metrics.accuracy_score(ytest, rfc_predict.round()))\n",
        "print(\"The precision score is\",metrics.precision_score(ytest, rfc_predict.round(),average='weighted'))\n",
        "print(\"The recall score is\",metrics.recall_score(ytest, rfc_predict.round(),average='weighted'))\n",
        "print(\"The f1-score is\",metrics.f1_score(ytest, rfc_predict.round(),average='weighted'))\n",
        "print('\\n')\n",
        "print(metrics.confusion_matrix(ytest, rfc_predict))\n",
        "print('\\n')\n",
        "print(\"=== Classification Report ===\")\n",
        "print(metrics.classification_report(ytest, rfc_predict))\n",
        "print('\\n')"
      ],
      "execution_count": null,
      "outputs": [
        {
          "output_type": "stream",
          "text": [
            "The accuracy score is 0.966881269487629\n",
            "The precision score is 0.96763677687889\n",
            "The recall score is 0.966881269487629\n",
            "The f1-score is 0.9654394758618212\n",
            "\n",
            "\n",
            "[[172565      0      0      0      0      0      0      0      0      0\n",
            "       9      0      0]\n",
            " [     6     81      0      0      0      0      0      0      0      0\n",
            "      35      1      0]\n",
            " [     7      1     29      0      0      0      0      0      0      0\n",
            "       4      1      0]\n",
            " [     0      0      0 137497      0      0      0      0      0      0\n",
            "      36      0      0]\n",
            " [     0      0      0      0    348      0      0      0      0      0\n",
            "       0      0      0]\n",
            " [     0      0      0      0      0   8362      1      0      0      0\n",
            "       0      0      0]\n",
            " [     0      0      0      0      0      0  92295      0      0      0\n",
            "       0      0      0]\n",
            " [     0      0      0      0      0      0      0  14433      0  13480\n",
            "       0      0      0]\n",
            " [     0      0      0      0      0      0      0      0   2196      0\n",
            "      36      0      0]\n",
            " [     0      0      0      0      0      0      0   4492      0  34024\n",
            "       0      0      0]\n",
            " [    58      0      4     10      0      1      1      0      0      0\n",
            "   31976      0      0]\n",
            " [     1      0      0      0      0      0      0      0      0      0\n",
            "      10     14      0]\n",
            " [     0      0      0      0      0      0      0      0      0      1\n",
            "       0      0  37372]]\n",
            "\n",
            "\n",
            "=== Classification Report ===\n",
            "              precision    recall  f1-score   support\n",
            "\n",
            "           0       1.00      1.00      1.00    172574\n",
            "           1       0.99      0.66      0.79       123\n",
            "           2       0.88      0.69      0.77        42\n",
            "           3       1.00      1.00      1.00    137533\n",
            "           4       1.00      1.00      1.00       348\n",
            "           5       1.00      1.00      1.00      8363\n",
            "           6       1.00      1.00      1.00     92295\n",
            "           7       0.76      0.52      0.62     27913\n",
            "           8       1.00      0.98      0.99      2232\n",
            "           9       0.72      0.88      0.79     38516\n",
            "          10       1.00      1.00      1.00     32050\n",
            "          11       0.88      0.56      0.68        25\n",
            "          12       1.00      1.00      1.00     37373\n",
            "\n",
            "    accuracy                           0.97    549387\n",
            "   macro avg       0.94      0.87      0.90    549387\n",
            "weighted avg       0.97      0.97      0.97    549387\n",
            "\n",
            "\n",
            "\n"
          ],
          "name": "stdout"
        }
      ]
    },
    {
      "cell_type": "code",
      "metadata": {
        "id": "pafL7Li0jyXW"
      },
      "source": [
        ""
      ],
      "execution_count": null,
      "outputs": []
    }
  ]
}
