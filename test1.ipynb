{
  "nbformat": 4,
  "nbformat_minor": 0,
  "metadata": {
    "colab": {
      "name": "test1.ipynb",
      "provenance": [],
      "authorship_tag": "ABX9TyP1eyOKSKjbejLl6hg2xbnP",
      "include_colab_link": true
    },
    "kernelspec": {
      "name": "python3",
      "display_name": "Python 3"
    }
  },
  "cells": [
    {
      "cell_type": "markdown",
      "metadata": {
        "id": "view-in-github",
        "colab_type": "text"
      },
      "source": [
        "<a href=\"https://colab.research.google.com/github/Usnish-Mukherjee/Intrusion_Detection/blob/master/test1.ipynb\" target=\"_parent\"><img src=\"https://colab.research.google.com/assets/colab-badge.svg\" alt=\"Open In Colab\"/></a>"
      ]
    },
    {
      "cell_type": "code",
      "metadata": {
        "id": "5iW7ljkOXCok"
      },
      "source": [
        "import numpy as np\n",
        "from glob import glob\n",
        "import pandas as pd\n",
        "from sklearn.preprocessing import LabelEncoder, OneHotEncoder, MinMaxScaler"
      ],
      "execution_count": 105,
      "outputs": []
    },
    {
      "cell_type": "code",
      "metadata": {
        "id": "xVLODvzzXQQD"
      },
      "source": [
        "nd1 = np.zeros((0,79),dtype=object)\n",
        "data_set=pd.read_csv('Thursday-01-03-2018_TrafficForML_CICFlowMeter.csv')\n",
        "nd1=np.vstack((nd1,data_set))\n",
        "data_set=pd.read_csv('Wednesday-28-02-2018_TrafficForML_CICFlowMeter.csv')\n",
        "nd1=np.vstack((nd1,data_set))\n",
        "data_set=pd.read_csv('Wednesday-21-02-2018_TrafficForML_CICFlowMeter.csv')\n",
        "nd1=np.vstack((nd1,data_set))\n"
      ],
      "execution_count": 106,
      "outputs": []
    },
    {
      "cell_type": "code",
      "metadata": {
        "id": "3AKOTAwFYMwR",
        "outputId": "305a6ca2-5c9b-47c9-8e5b-4a6ec44eb5f3",
        "colab": {
          "base_uri": "https://localhost:8080/"
        }
      },
      "source": [
        "nd1.shape"
      ],
      "execution_count": 107,
      "outputs": [
        {
          "output_type": "execute_result",
          "data": {
            "text/plain": [
              "(1992746, 79)"
            ]
          },
          "metadata": {
            "tags": []
          },
          "execution_count": 107
        }
      ]
    },
    {
      "cell_type": "code",
      "metadata": {
        "id": "XLWfoPYfXUUR"
      },
      "source": [
        "Dt1=nd1[:,:-1].astype(float)"
      ],
      "execution_count": 108,
      "outputs": []
    },
    {
      "cell_type": "code",
      "metadata": {
        "id": "AmUM6CffXa3r"
      },
      "source": [
        "LNMV1=nd1[~np.isnan(Dt1).any(axis=1),-1]\n",
        "DtNMV1=Dt1[~np.isnan(Dt1).any(axis=1)]\n",
        "#Remove Inf values\n",
        "LNMIV1=LNMV1[~np.isinf(DtNMV1).any(axis=1)]\n",
        "DtNMIV1=DtNMV1[~np.isinf(DtNMV1).any(axis=1)]"
      ],
      "execution_count": 109,
      "outputs": []
    },
    {
      "cell_type": "code",
      "metadata": {
        "id": "K1cbIGvbXdIm"
      },
      "source": [
        "del(DtNMV1)\n"
      ],
      "execution_count": 110,
      "outputs": []
    },
    {
      "cell_type": "code",
      "metadata": {
        "id": "P63l9mObXgFB",
        "outputId": "cb1f80e5-4c66-4b84-cbd2-cb1b94266c7d",
        "colab": {
          "base_uri": "https://localhost:8080/"
        }
      },
      "source": [
        "DtNMIV1.shape"
      ],
      "execution_count": 111,
      "outputs": [
        {
          "output_type": "execute_result",
          "data": {
            "text/plain": [
              "(1983658, 78)"
            ]
          },
          "metadata": {
            "tags": []
          },
          "execution_count": 111
        }
      ]
    },
    {
      "cell_type": "code",
      "metadata": {
        "id": "4lqr2pcPXjMy"
      },
      "source": [
        "MCDt1=DtNMIV1[LNMIV1 !='Benign',:]"
      ],
      "execution_count": 112,
      "outputs": []
    },
    {
      "cell_type": "code",
      "metadata": {
        "id": "lzD3eKDsXlu7",
        "outputId": "298f6073-022c-43e6-cf07-c0480f25f964",
        "colab": {
          "base_uri": "https://localhost:8080/"
        }
      },
      "source": [
        "MCDt1.shape"
      ],
      "execution_count": 113,
      "outputs": [
        {
          "output_type": "execute_result",
          "data": {
            "text/plain": [
              "(848381, 78)"
            ]
          },
          "metadata": {
            "tags": []
          },
          "execution_count": 113
        }
      ]
    },
    {
      "cell_type": "code",
      "metadata": {
        "id": "5xBSEF8rXm3l"
      },
      "source": [
        "MCL1=LNMIV1[LNMIV1!='Benign']"
      ],
      "execution_count": 114,
      "outputs": []
    },
    {
      "cell_type": "code",
      "metadata": {
        "id": "BQz3qgjpXpze",
        "outputId": "f1deeb85-95fe-40bb-b918-1b8c63628d38",
        "colab": {
          "base_uri": "https://localhost:8080/"
        }
      },
      "source": [
        "LNMIV1.shape,MCL1.shape"
      ],
      "execution_count": 115,
      "outputs": [
        {
          "output_type": "execute_result",
          "data": {
            "text/plain": [
              "((1983658,), (848381,))"
            ]
          },
          "metadata": {
            "tags": []
          },
          "execution_count": 115
        }
      ]
    },
    {
      "cell_type": "code",
      "metadata": {
        "id": "Dsajvo4EX43p"
      },
      "source": [
        "np.save('NMCx1', MinMaxScaler().fit_transform(MCDt1))\n",
        "np.save('NMCy1', LabelEncoder().fit_transform(MCL1))"
      ],
      "execution_count": 116,
      "outputs": []
    },
    {
      "cell_type": "code",
      "metadata": {
        "id": "3PzVjkefYBJ3"
      },
      "source": [
        "import numpy as np\n",
        "import os\n",
        "import tensorflow as tf\n",
        "import keras\n",
        "from keras import models\n",
        "from keras import layers"
      ],
      "execution_count": 117,
      "outputs": []
    },
    {
      "cell_type": "code",
      "metadata": {
        "id": "MetjiUkOYZ4j"
      },
      "source": [
        "x=np.load('NMCx1.npy')\n",
        "y=np.load('NMCy1.npy')\n",
        "x=x.astype(np.float32)"
      ],
      "execution_count": 118,
      "outputs": []
    },
    {
      "cell_type": "code",
      "metadata": {
        "id": "kDEeIx7gYhIl"
      },
      "source": [
        "x=np.delete(x,0,1)"
      ],
      "execution_count": 119,
      "outputs": []
    },
    {
      "cell_type": "code",
      "metadata": {
        "id": "Xw7cTSx_Yj09",
        "outputId": "916676a2-5440-4f65-e588-3b8c08ebb086",
        "colab": {
          "base_uri": "https://localhost:8080/"
        }
      },
      "source": [
        "(unique, counts) = np.unique(y, return_counts=True)\n",
        "frequencies = np.asarray((unique, counts)).T\n",
        "\n",
        "print(frequencies)"
      ],
      "execution_count": 120,
      "outputs": [
        {
          "output_type": "stream",
          "text": [
            "[[     0 686012]\n",
            " [     1   1730]\n",
            " [     2 160639]]\n"
          ],
          "name": "stdout"
        }
      ]
    },
    {
      "cell_type": "code",
      "metadata": {
        "id": "1jQBHW7ZZFYT",
        "outputId": "d51c21af-6e10-42f4-8de4-5a359d460ca3",
        "colab": {
          "base_uri": "https://localhost:8080/"
        }
      },
      "source": [
        "x.shape"
      ],
      "execution_count": 121,
      "outputs": [
        {
          "output_type": "execute_result",
          "data": {
            "text/plain": [
              "(848381, 77)"
            ]
          },
          "metadata": {
            "tags": []
          },
          "execution_count": 121
        }
      ]
    },
    {
      "cell_type": "code",
      "metadata": {
        "id": "BRXrhqbHZHAG"
      },
      "source": [
        "from sklearn.model_selection import train_test_split\n",
        "xtrain, xtest, ytrain, ytest = train_test_split(x, y, test_size=0.2, random_state=123)"
      ],
      "execution_count": 122,
      "outputs": []
    },
    {
      "cell_type": "code",
      "metadata": {
        "id": "wbvJEPRJZNra"
      },
      "source": [
        "from keras.utils import to_categorical\n",
        "ztrain = to_categorical(ytrain, num_classes=None)\n",
        "ztest = to_categorical(ytest, num_classes=None)"
      ],
      "execution_count": 123,
      "outputs": []
    },
    {
      "cell_type": "code",
      "metadata": {
        "id": "zYa9VTmYZRBB",
        "outputId": "5f0359b6-0371-4603-8930-754a2bf41869",
        "colab": {
          "base_uri": "https://localhost:8080/"
        }
      },
      "source": [
        "ztrain.shape"
      ],
      "execution_count": 124,
      "outputs": [
        {
          "output_type": "execute_result",
          "data": {
            "text/plain": [
              "(678704, 3)"
            ]
          },
          "metadata": {
            "tags": []
          },
          "execution_count": 124
        }
      ]
    },
    {
      "cell_type": "code",
      "metadata": {
        "id": "S0nSWYNMZVtL",
        "outputId": "4efec6c5-9ae8-4571-92eb-51a4e391d6bd",
        "colab": {
          "base_uri": "https://localhost:8080/"
        }
      },
      "source": [
        "def create_model():\n",
        "  model = models.Sequential()\n",
        "  model.add(layers.Dense(256,input_dim=x.shape[1],activation='relu',use_bias=True))\n",
        "  model.add(layers.Dropout(0.1))\n",
        "  model.add(layers.Dense(128,activation='relu',use_bias=True))\n",
        "  model.add(layers.Dropout(0.1))\n",
        "  model.add(layers.Dense(64,activation='relu',use_bias=True))\n",
        "  model.add(layers.Dropout(0.1))\n",
        "  model.add(layers.Dense(32,activation='relu',use_bias=True))\n",
        "  model.add(layers.Dropout(0.5))\n",
        "  model.add(layers.Dense(np.unique(y).shape[0],activation='softmax',use_bias=True)) \n",
        "  return model\n",
        "\n",
        "from keras.optimizers import * \n",
        "model = create_model()\n",
        "opt = Adam(learning_rate=1e-4)\n",
        "model.compile(loss=\"categorical_crossentropy\", optimizer=opt, metrics=['categorical_accuracy'])\n",
        "model.summary()\n",
        "history=model.fit(xtrain , ztrain ,batch_size=256 , epochs=100 ,verbose=1 ,shuffle=True)\n",
        "result = model.evaluate(xtest,ztest)\n",
        "dict(zip(model.metrics_names, result))"
      ],
      "execution_count": 125,
      "outputs": [
        {
          "output_type": "stream",
          "text": [
            "Model: \"sequential_2\"\n",
            "_________________________________________________________________\n",
            "Layer (type)                 Output Shape              Param #   \n",
            "=================================================================\n",
            "dense_10 (Dense)             (None, 256)               19968     \n",
            "_________________________________________________________________\n",
            "dropout_8 (Dropout)          (None, 256)               0         \n",
            "_________________________________________________________________\n",
            "dense_11 (Dense)             (None, 128)               32896     \n",
            "_________________________________________________________________\n",
            "dropout_9 (Dropout)          (None, 128)               0         \n",
            "_________________________________________________________________\n",
            "dense_12 (Dense)             (None, 64)                8256      \n",
            "_________________________________________________________________\n",
            "dropout_10 (Dropout)         (None, 64)                0         \n",
            "_________________________________________________________________\n",
            "dense_13 (Dense)             (None, 32)                2080      \n",
            "_________________________________________________________________\n",
            "dropout_11 (Dropout)         (None, 32)                0         \n",
            "_________________________________________________________________\n",
            "dense_14 (Dense)             (None, 3)                 99        \n",
            "=================================================================\n",
            "Total params: 63,299\n",
            "Trainable params: 63,299\n",
            "Non-trainable params: 0\n",
            "_________________________________________________________________\n",
            "Epoch 1/100\n",
            "2652/2652 [==============================] - 18s 7ms/step - loss: 0.0686 - categorical_accuracy: 0.9821\n",
            "Epoch 2/100\n",
            "2652/2652 [==============================] - 17s 7ms/step - loss: 0.0035 - categorical_accuracy: 0.9994\n",
            "Epoch 3/100\n",
            "2652/2652 [==============================] - 17s 7ms/step - loss: 0.0026 - categorical_accuracy: 0.9995\n",
            "Epoch 4/100\n",
            "2652/2652 [==============================] - 17s 7ms/step - loss: 0.0020 - categorical_accuracy: 0.9995\n",
            "Epoch 5/100\n",
            "2652/2652 [==============================] - 17s 7ms/step - loss: 0.0016 - categorical_accuracy: 0.9996\n",
            "Epoch 6/100\n",
            "2652/2652 [==============================] - 18s 7ms/step - loss: 0.0014 - categorical_accuracy: 0.9996\n",
            "Epoch 7/100\n",
            "2652/2652 [==============================] - 18s 7ms/step - loss: 0.0012 - categorical_accuracy: 0.9997\n",
            "Epoch 8/100\n",
            "2652/2652 [==============================] - 17s 7ms/step - loss: 0.0011 - categorical_accuracy: 0.9997\n",
            "Epoch 9/100\n",
            "2652/2652 [==============================] - 18s 7ms/step - loss: 0.0011 - categorical_accuracy: 0.9997\n",
            "Epoch 10/100\n",
            "2652/2652 [==============================] - 18s 7ms/step - loss: 0.0010 - categorical_accuracy: 0.9997\n",
            "Epoch 11/100\n",
            "2652/2652 [==============================] - 18s 7ms/step - loss: 0.0010 - categorical_accuracy: 0.9997\n",
            "Epoch 12/100\n",
            "2652/2652 [==============================] - 18s 7ms/step - loss: 9.7055e-04 - categorical_accuracy: 0.9997\n",
            "Epoch 13/100\n",
            "2652/2652 [==============================] - 18s 7ms/step - loss: 9.2088e-04 - categorical_accuracy: 0.9997\n",
            "Epoch 14/100\n",
            "2652/2652 [==============================] - 17s 7ms/step - loss: 8.4219e-04 - categorical_accuracy: 0.9998\n",
            "Epoch 15/100\n",
            "2652/2652 [==============================] - 18s 7ms/step - loss: 7.9145e-04 - categorical_accuracy: 0.9997\n",
            "Epoch 16/100\n",
            "2652/2652 [==============================] - 17s 7ms/step - loss: 8.6707e-04 - categorical_accuracy: 0.9997\n",
            "Epoch 17/100\n",
            "2652/2652 [==============================] - 17s 7ms/step - loss: 8.1217e-04 - categorical_accuracy: 0.9997\n",
            "Epoch 18/100\n",
            "2652/2652 [==============================] - 19s 7ms/step - loss: 8.2144e-04 - categorical_accuracy: 0.9997\n",
            "Epoch 19/100\n",
            "2652/2652 [==============================] - 18s 7ms/step - loss: 7.4503e-04 - categorical_accuracy: 0.9998\n",
            "Epoch 20/100\n",
            "2652/2652 [==============================] - 17s 7ms/step - loss: 7.2237e-04 - categorical_accuracy: 0.9997\n",
            "Epoch 21/100\n",
            "2652/2652 [==============================] - 17s 7ms/step - loss: 7.4714e-04 - categorical_accuracy: 0.9998\n",
            "Epoch 22/100\n",
            "2652/2652 [==============================] - 17s 7ms/step - loss: 7.6428e-04 - categorical_accuracy: 0.9998\n",
            "Epoch 23/100\n",
            "2652/2652 [==============================] - 18s 7ms/step - loss: 7.0642e-04 - categorical_accuracy: 0.9999\n",
            "Epoch 24/100\n",
            "2652/2652 [==============================] - 18s 7ms/step - loss: 6.5360e-04 - categorical_accuracy: 0.9999\n",
            "Epoch 25/100\n",
            "2652/2652 [==============================] - 18s 7ms/step - loss: 6.6989e-04 - categorical_accuracy: 0.9999\n",
            "Epoch 26/100\n",
            "2652/2652 [==============================] - 18s 7ms/step - loss: 7.3799e-04 - categorical_accuracy: 0.9999\n",
            "Epoch 27/100\n",
            "2652/2652 [==============================] - 18s 7ms/step - loss: 6.6200e-04 - categorical_accuracy: 0.9999\n",
            "Epoch 28/100\n",
            "2652/2652 [==============================] - 18s 7ms/step - loss: 7.1110e-04 - categorical_accuracy: 0.9999\n",
            "Epoch 29/100\n",
            "2652/2652 [==============================] - 18s 7ms/step - loss: 7.2820e-04 - categorical_accuracy: 0.9999\n",
            "Epoch 30/100\n",
            "2652/2652 [==============================] - 18s 7ms/step - loss: 6.4778e-04 - categorical_accuracy: 0.9999\n",
            "Epoch 31/100\n",
            "2652/2652 [==============================] - 17s 7ms/step - loss: 5.5765e-04 - categorical_accuracy: 0.9999\n",
            "Epoch 32/100\n",
            "2652/2652 [==============================] - 18s 7ms/step - loss: 5.8734e-04 - categorical_accuracy: 0.9999\n",
            "Epoch 33/100\n",
            "2652/2652 [==============================] - 18s 7ms/step - loss: 7.9535e-04 - categorical_accuracy: 0.9999\n",
            "Epoch 34/100\n",
            "2652/2652 [==============================] - 18s 7ms/step - loss: 7.1825e-04 - categorical_accuracy: 0.9999\n",
            "Epoch 35/100\n",
            "2652/2652 [==============================] - 19s 7ms/step - loss: 6.9408e-04 - categorical_accuracy: 0.9999\n",
            "Epoch 36/100\n",
            "2652/2652 [==============================] - 19s 7ms/step - loss: 6.9535e-04 - categorical_accuracy: 0.9999\n",
            "Epoch 37/100\n",
            "2652/2652 [==============================] - 18s 7ms/step - loss: 6.4921e-04 - categorical_accuracy: 0.9999\n",
            "Epoch 38/100\n",
            "2652/2652 [==============================] - 18s 7ms/step - loss: 5.9565e-04 - categorical_accuracy: 0.9999\n",
            "Epoch 39/100\n",
            "2652/2652 [==============================] - 18s 7ms/step - loss: 6.0233e-04 - categorical_accuracy: 0.9999\n",
            "Epoch 40/100\n",
            "2652/2652 [==============================] - 18s 7ms/step - loss: 6.0835e-04 - categorical_accuracy: 0.9999\n",
            "Epoch 41/100\n",
            "2652/2652 [==============================] - 18s 7ms/step - loss: 5.8370e-04 - categorical_accuracy: 0.9999\n",
            "Epoch 42/100\n",
            "2652/2652 [==============================] - 17s 7ms/step - loss: 5.1888e-04 - categorical_accuracy: 0.9999\n",
            "Epoch 43/100\n",
            "2652/2652 [==============================] - 18s 7ms/step - loss: 5.1221e-04 - categorical_accuracy: 0.9999\n",
            "Epoch 44/100\n",
            "2652/2652 [==============================] - 17s 7ms/step - loss: 5.6771e-04 - categorical_accuracy: 0.9999\n",
            "Epoch 45/100\n",
            "2652/2652 [==============================] - 18s 7ms/step - loss: 5.2723e-04 - categorical_accuracy: 0.9999\n",
            "Epoch 46/100\n",
            "2652/2652 [==============================] - 18s 7ms/step - loss: 5.5136e-04 - categorical_accuracy: 0.9999\n",
            "Epoch 47/100\n",
            "2652/2652 [==============================] - 18s 7ms/step - loss: 6.2879e-04 - categorical_accuracy: 0.9999\n",
            "Epoch 48/100\n",
            "2652/2652 [==============================] - 20s 7ms/step - loss: 5.3050e-04 - categorical_accuracy: 0.9999\n",
            "Epoch 49/100\n",
            "2652/2652 [==============================] - 18s 7ms/step - loss: 5.7319e-04 - categorical_accuracy: 0.9999\n",
            "Epoch 50/100\n",
            "2652/2652 [==============================] - 18s 7ms/step - loss: 6.4091e-04 - categorical_accuracy: 0.9999\n",
            "Epoch 51/100\n",
            "2652/2652 [==============================] - 18s 7ms/step - loss: 5.9721e-04 - categorical_accuracy: 0.9999\n",
            "Epoch 52/100\n",
            "2652/2652 [==============================] - 18s 7ms/step - loss: 5.8295e-04 - categorical_accuracy: 0.9999\n",
            "Epoch 53/100\n",
            "2652/2652 [==============================] - 17s 7ms/step - loss: 4.8356e-04 - categorical_accuracy: 0.9999\n",
            "Epoch 54/100\n",
            "2652/2652 [==============================] - 19s 7ms/step - loss: 5.5808e-04 - categorical_accuracy: 0.9999\n",
            "Epoch 55/100\n",
            "2652/2652 [==============================] - 18s 7ms/step - loss: 6.0978e-04 - categorical_accuracy: 0.9999\n",
            "Epoch 56/100\n",
            "2652/2652 [==============================] - 18s 7ms/step - loss: 6.0061e-04 - categorical_accuracy: 0.9999\n",
            "Epoch 57/100\n",
            "2652/2652 [==============================] - 18s 7ms/step - loss: 5.6126e-04 - categorical_accuracy: 0.9999\n",
            "Epoch 58/100\n",
            "2652/2652 [==============================] - 18s 7ms/step - loss: 5.8449e-04 - categorical_accuracy: 0.9999\n",
            "Epoch 59/100\n",
            "2652/2652 [==============================] - 18s 7ms/step - loss: 5.1688e-04 - categorical_accuracy: 1.0000\n",
            "Epoch 60/100\n",
            "2652/2652 [==============================] - 18s 7ms/step - loss: 6.5346e-04 - categorical_accuracy: 0.9999\n",
            "Epoch 61/100\n",
            "2652/2652 [==============================] - 18s 7ms/step - loss: 6.1784e-04 - categorical_accuracy: 0.9999\n",
            "Epoch 62/100\n",
            "2652/2652 [==============================] - 18s 7ms/step - loss: 5.4548e-04 - categorical_accuracy: 0.9999\n",
            "Epoch 63/100\n",
            "2652/2652 [==============================] - 18s 7ms/step - loss: 5.8452e-04 - categorical_accuracy: 0.9999\n",
            "Epoch 64/100\n",
            "2652/2652 [==============================] - 18s 7ms/step - loss: 5.4621e-04 - categorical_accuracy: 1.0000\n",
            "Epoch 65/100\n",
            "2652/2652 [==============================] - 18s 7ms/step - loss: 5.3556e-04 - categorical_accuracy: 0.9999\n",
            "Epoch 66/100\n",
            "2652/2652 [==============================] - 18s 7ms/step - loss: 5.8472e-04 - categorical_accuracy: 0.9999\n",
            "Epoch 67/100\n",
            "2652/2652 [==============================] - 18s 7ms/step - loss: 5.0345e-04 - categorical_accuracy: 1.0000\n",
            "Epoch 68/100\n",
            "2652/2652 [==============================] - 18s 7ms/step - loss: 4.9255e-04 - categorical_accuracy: 1.0000\n",
            "Epoch 69/100\n",
            "2652/2652 [==============================] - 19s 7ms/step - loss: 5.7833e-04 - categorical_accuracy: 1.0000\n",
            "Epoch 70/100\n",
            "2652/2652 [==============================] - 18s 7ms/step - loss: 4.9845e-04 - categorical_accuracy: 0.9999\n",
            "Epoch 71/100\n",
            "2652/2652 [==============================] - 18s 7ms/step - loss: 5.2902e-04 - categorical_accuracy: 0.9999\n",
            "Epoch 72/100\n",
            "2652/2652 [==============================] - 19s 7ms/step - loss: 6.1999e-04 - categorical_accuracy: 0.9999\n",
            "Epoch 73/100\n",
            "2652/2652 [==============================] - 18s 7ms/step - loss: 4.9284e-04 - categorical_accuracy: 1.0000\n",
            "Epoch 74/100\n",
            "2652/2652 [==============================] - 18s 7ms/step - loss: 6.0124e-04 - categorical_accuracy: 0.9999\n",
            "Epoch 75/100\n",
            "2652/2652 [==============================] - 18s 7ms/step - loss: 6.6274e-04 - categorical_accuracy: 0.9999\n",
            "Epoch 76/100\n",
            "2652/2652 [==============================] - 18s 7ms/step - loss: 5.6212e-04 - categorical_accuracy: 0.9999\n",
            "Epoch 77/100\n",
            "2652/2652 [==============================] - 18s 7ms/step - loss: 4.8018e-04 - categorical_accuracy: 0.9999\n",
            "Epoch 78/100\n",
            "2652/2652 [==============================] - 18s 7ms/step - loss: 5.0757e-04 - categorical_accuracy: 0.9999\n",
            "Epoch 79/100\n",
            "2652/2652 [==============================] - 18s 7ms/step - loss: 4.4999e-04 - categorical_accuracy: 1.0000\n",
            "Epoch 80/100\n",
            "2652/2652 [==============================] - 18s 7ms/step - loss: 6.0596e-04 - categorical_accuracy: 0.9999\n",
            "Epoch 81/100\n",
            "2652/2652 [==============================] - 18s 7ms/step - loss: 4.8601e-04 - categorical_accuracy: 1.0000\n",
            "Epoch 82/100\n",
            "2652/2652 [==============================] - 18s 7ms/step - loss: 4.7821e-04 - categorical_accuracy: 1.0000\n",
            "Epoch 83/100\n",
            "2652/2652 [==============================] - 18s 7ms/step - loss: 6.0198e-04 - categorical_accuracy: 0.9999\n",
            "Epoch 84/100\n",
            "2652/2652 [==============================] - 18s 7ms/step - loss: 5.3874e-04 - categorical_accuracy: 0.9999\n",
            "Epoch 85/100\n",
            "2652/2652 [==============================] - 18s 7ms/step - loss: 4.7263e-04 - categorical_accuracy: 1.0000\n",
            "Epoch 86/100\n",
            "2652/2652 [==============================] - 18s 7ms/step - loss: 4.8399e-04 - categorical_accuracy: 0.9999\n",
            "Epoch 87/100\n",
            "2652/2652 [==============================] - 19s 7ms/step - loss: 5.1249e-04 - categorical_accuracy: 1.0000\n",
            "Epoch 88/100\n",
            "2652/2652 [==============================] - 18s 7ms/step - loss: 4.4784e-04 - categorical_accuracy: 1.0000\n",
            "Epoch 89/100\n",
            "2652/2652 [==============================] - 18s 7ms/step - loss: 5.0598e-04 - categorical_accuracy: 1.0000\n",
            "Epoch 90/100\n",
            "2652/2652 [==============================] - 18s 7ms/step - loss: 5.2015e-04 - categorical_accuracy: 0.9999\n",
            "Epoch 91/100\n",
            "2652/2652 [==============================] - 18s 7ms/step - loss: 4.7412e-04 - categorical_accuracy: 1.0000\n",
            "Epoch 92/100\n",
            "2652/2652 [==============================] - 18s 7ms/step - loss: 5.7260e-04 - categorical_accuracy: 1.0000\n",
            "Epoch 93/100\n",
            "2652/2652 [==============================] - 18s 7ms/step - loss: 4.9507e-04 - categorical_accuracy: 1.0000\n",
            "Epoch 94/100\n",
            "2652/2652 [==============================] - 18s 7ms/step - loss: 6.0442e-04 - categorical_accuracy: 0.9999\n",
            "Epoch 95/100\n",
            "2652/2652 [==============================] - 18s 7ms/step - loss: 5.9511e-04 - categorical_accuracy: 0.9999\n",
            "Epoch 96/100\n",
            "2652/2652 [==============================] - 18s 7ms/step - loss: 4.7160e-04 - categorical_accuracy: 0.9999\n",
            "Epoch 97/100\n",
            "2652/2652 [==============================] - 18s 7ms/step - loss: 4.7846e-04 - categorical_accuracy: 1.0000\n",
            "Epoch 98/100\n",
            "2652/2652 [==============================] - 18s 7ms/step - loss: 4.7529e-04 - categorical_accuracy: 0.9999\n",
            "Epoch 99/100\n",
            "2652/2652 [==============================] - 18s 7ms/step - loss: 4.7673e-04 - categorical_accuracy: 1.0000\n",
            "Epoch 100/100\n",
            "2652/2652 [==============================] - 19s 7ms/step - loss: 4.7554e-04 - categorical_accuracy: 1.0000\n",
            "5303/5303 [==============================] - 6s 1ms/step - loss: 5.3462e-04 - categorical_accuracy: 1.0000\n"
          ],
          "name": "stdout"
        },
        {
          "output_type": "execute_result",
          "data": {
            "text/plain": [
              "{'categorical_accuracy': 0.9999587535858154, 'loss': 0.0005346218822523952}"
            ]
          },
          "metadata": {
            "tags": []
          },
          "execution_count": 125
        }
      ]
    },
    {
      "cell_type": "code",
      "metadata": {
        "id": "a_lkWk7UZZRY"
      },
      "source": [
        "pred=model.predict(xtest)\n",
        "y_pred = np.argmax(pred, axis=-1)"
      ],
      "execution_count": 126,
      "outputs": []
    },
    {
      "cell_type": "code",
      "metadata": {
        "id": "goH7neTZZbxL",
        "outputId": "f9453a92-a5a6-446f-df92-3cbc7c470bf0",
        "colab": {
          "base_uri": "https://localhost:8080/"
        }
      },
      "source": [
        "from sklearn import metrics\n",
        "print(\"The accuracy score is\",metrics.accuracy_score(ytest, y_pred))\n",
        "print(\"The precision score is\",metrics.precision_score(ytest, y_pred,average='weighted'))\n",
        "print(\"The recall score is\",metrics.recall_score(ytest, y_pred,average='weighted'))\n",
        "print(\"The f1-score is\",metrics.f1_score(ytest, y_pred,average='weighted'))\n",
        "print('\\n')\n",
        "print(metrics.confusion_matrix(ytest, y_pred))\n",
        "print('\\n')\n",
        "print(\"=== Classification Report ===\")\n",
        "print(metrics.classification_report(ytest, y_pred))\n",
        "print('\\n')"
      ],
      "execution_count": 127,
      "outputs": [
        {
          "output_type": "stream",
          "text": [
            "The accuracy score is 0.9999587451451876\n",
            "The precision score is 0.9999587472487239\n",
            "The recall score is 0.9999587451451876\n",
            "The f1-score is 0.9999587434185853\n",
            "\n",
            "\n",
            "[[137278      0      0]\n",
            " [     0    344      0]\n",
            " [     7      0  32048]]\n",
            "\n",
            "\n",
            "=== Classification Report ===\n",
            "              precision    recall  f1-score   support\n",
            "\n",
            "           0       1.00      1.00      1.00    137278\n",
            "           1       1.00      1.00      1.00       344\n",
            "           2       1.00      1.00      1.00     32055\n",
            "\n",
            "    accuracy                           1.00    169677\n",
            "   macro avg       1.00      1.00      1.00    169677\n",
            "weighted avg       1.00      1.00      1.00    169677\n",
            "\n",
            "\n",
            "\n"
          ],
          "name": "stdout"
        }
      ]
    },
    {
      "cell_type": "code",
      "metadata": {
        "id": "siKGxi7JZegq"
      },
      "source": [
        "from sklearn.ensemble import RandomForestClassifier\n",
        "rfc = RandomForestClassifier()\n",
        "rfc_history=rfc.fit(xtrain,ytrain)\n",
        "rfc_predict = rfc.predict(xtest)"
      ],
      "execution_count": 128,
      "outputs": []
    },
    {
      "cell_type": "code",
      "metadata": {
        "id": "yffTZ0LVZhEK",
        "outputId": "552bb6b5-e561-44e9-b0e6-5c609769efa1",
        "colab": {
          "base_uri": "https://localhost:8080/"
        }
      },
      "source": [
        "from sklearn import metrics\n",
        "print(\"The accuracy score is\",metrics.accuracy_score(ytest, rfc_predict.round()))\n",
        "print(\"The precision score is\",metrics.precision_score(ytest, rfc_predict.round(),average='weighted'))\n",
        "print(\"The recall score is\",metrics.recall_score(ytest, rfc_predict.round(),average='weighted'))\n",
        "print(\"The f1-score is\",metrics.f1_score(ytest, rfc_predict.round(),average='weighted'))\n",
        "print('\\n')\n",
        "print(metrics.confusion_matrix(ytest, rfc_predict))\n",
        "print('\\n')\n",
        "print(\"=== Classification Report ===\")\n",
        "print(metrics.classification_report(ytest, rfc_predict))\n",
        "print('\\n')"
      ],
      "execution_count": 129,
      "outputs": [
        {
          "output_type": "stream",
          "text": [
            "The accuracy score is 0.9997230031176884\n",
            "The precision score is 0.9997233547119975\n",
            "The recall score is 0.9997230031176884\n",
            "The f1-score is 0.9997230742548636\n",
            "\n",
            "\n",
            "[[137233      0     45]\n",
            " [     0    344      0]\n",
            " [     2      0  32053]]\n",
            "\n",
            "\n",
            "=== Classification Report ===\n",
            "              precision    recall  f1-score   support\n",
            "\n",
            "           0       1.00      1.00      1.00    137278\n",
            "           1       1.00      1.00      1.00       344\n",
            "           2       1.00      1.00      1.00     32055\n",
            "\n",
            "    accuracy                           1.00    169677\n",
            "   macro avg       1.00      1.00      1.00    169677\n",
            "weighted avg       1.00      1.00      1.00    169677\n",
            "\n",
            "\n",
            "\n"
          ],
          "name": "stdout"
        }
      ]
    }
  ]
}
