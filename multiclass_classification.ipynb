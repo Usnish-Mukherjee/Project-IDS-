{
  "nbformat": 4,
  "nbformat_minor": 0,
  "metadata": {
    "colab": {
      "name": "multiclass_classification.ipynb",
      "provenance": [],
      "collapsed_sections": [],
      "machine_shape": "hm",
      "include_colab_link": true
    },
    "kernelspec": {
      "name": "python3",
      "display_name": "Python 3"
    },
    "accelerator": "TPU"
  },
  "cells": [
    {
      "cell_type": "markdown",
      "metadata": {
        "id": "view-in-github",
        "colab_type": "text"
      },
      "source": [
        "<a href=\"https://colab.research.google.com/github/Usnish-Mukherjee/Project-Intrusion-Detection-System/blob/Usnish-Mukherjee-patch-1/multiclass_classification.ipynb\" target=\"_parent\"><img src=\"https://colab.research.google.com/assets/colab-badge.svg\" alt=\"Open In Colab\"/></a>"
      ]
    },
    {
      "cell_type": "code",
      "metadata": {
        "id": "ZktFCN7CEpNF"
      },
      "source": [
        "import numpy as np\n",
        "from glob import glob\n",
        "import pandas as pd\n",
        "from sklearn.preprocessing import LabelEncoder, OneHotEncoder, MinMaxScaler"
      ],
      "execution_count": 1,
      "outputs": []
    },
    {
      "cell_type": "code",
      "metadata": {
        "id": "mLld9820PJfN",
        "colab": {
          "base_uri": "https://localhost:8080/"
        },
        "outputId": "3d55b1b8-f15d-4bb7-db4e-886c18566220"
      },
      "source": [
        "from google.colab import drive\r\n",
        "drive.mount('/content/drive')"
      ],
      "execution_count": 2,
      "outputs": [
        {
          "output_type": "stream",
          "text": [
            "Drive already mounted at /content/drive; to attempt to forcibly remount, call drive.mount(\"/content/drive\", force_remount=True).\n"
          ],
          "name": "stdout"
        }
      ]
    },
    {
      "cell_type": "code",
      "metadata": {
        "id": "yho4a8i2FZ5k",
        "colab": {
          "base_uri": "https://localhost:8080/"
        },
        "outputId": "164b6051-447e-47aa-cb59-f93856afaa96"
      },
      "source": [
        "nd1 = np.zeros((0,79),dtype=object)\n",
        "for x in glob('/content/drive/My Drive/Dataset/Data 1/*.csv'):\n",
        "    print(x)\n",
        "    nd1=np.vstack((nd1,pd.read_csv(x)))"
      ],
      "execution_count": 3,
      "outputs": [
        {
          "output_type": "stream",
          "text": [
            "/content/drive/My Drive/Dataset/Data 1/Wednesday-28-02-2018_TrafficForML_CICFlowMeter.csv\n",
            "/content/drive/My Drive/Dataset/Data 1/Wednesday-21-02-2018_TrafficForML_CICFlowMeter.csv\n",
            "/content/drive/My Drive/Dataset/Data 1/Friday-02-03-2018_TrafficForML_CICFlowMeter.csv\n",
            "/content/drive/My Drive/Dataset/Data 1/Friday-16-02-2018_TrafficForML_CICFlowMeter.csv\n",
            "/content/drive/My Drive/Dataset/Data 1/Friday-23-02-2018_TrafficForML_CICFlowMeter.csv\n",
            "/content/drive/My Drive/Dataset/Data 1/Thursday-01-03-2018_TrafficForML_CICFlowMeter.csv\n",
            "/content/drive/My Drive/Dataset/Data 1/Thursday-15-02-2018_TrafficForML_CICFlowMeter.csv\n",
            "/content/drive/My Drive/Dataset/Data 1/Thursday-22-02-2018_TrafficForML_CICFlowMeter.csv\n",
            "/content/drive/My Drive/Dataset/Data 1/Wednesday-14-02-2018_TrafficForML_CICFlowMeter.csv\n"
          ],
          "name": "stdout"
        }
      ]
    },
    {
      "cell_type": "code",
      "metadata": {
        "id": "Q-bSbGJoFz7s",
        "colab": {
          "base_uri": "https://localhost:8080/"
        },
        "outputId": "46ec720b-06b2-44f4-8668-892690cb16d5"
      },
      "source": [
        "nd1.shape"
      ],
      "execution_count": 4,
      "outputs": [
        {
          "output_type": "execute_result",
          "data": {
            "text/plain": [
              "(8284195, 79)"
            ]
          },
          "metadata": {
            "tags": []
          },
          "execution_count": 4
        }
      ]
    },
    {
      "cell_type": "code",
      "metadata": {
        "id": "6Y1gHCZgHLpm"
      },
      "source": [
        "Dt1=nd1[:,:-1].astype(float)"
      ],
      "execution_count": 5,
      "outputs": []
    },
    {
      "cell_type": "code",
      "metadata": {
        "id": "WI1a91ivGdzh"
      },
      "source": [
        "LNMV1=nd1[~np.isnan(Dt1).any(axis=1),-1]\n",
        "DtNMV1=Dt1[~np.isnan(Dt1).any(axis=1)]\n",
        "LNMIV1=LNMV1[~np.isinf(DtNMV1).any(axis=1)]\n",
        "DtNMIV1=DtNMV1[~np.isinf(DtNMV1).any(axis=1)]"
      ],
      "execution_count": 6,
      "outputs": []
    },
    {
      "cell_type": "code",
      "metadata": {
        "id": "8UBdlMm4HSQH"
      },
      "source": [
        "del(DtNMV1)"
      ],
      "execution_count": 7,
      "outputs": []
    },
    {
      "cell_type": "code",
      "metadata": {
        "id": "7SzXy5-mR80E"
      },
      "source": [
        "MCDt1=DtNMIV1[LNMIV1 !='Benign',:]"
      ],
      "execution_count": 8,
      "outputs": []
    },
    {
      "cell_type": "code",
      "metadata": {
        "id": "EWh-rgRDR_H8",
        "colab": {
          "base_uri": "https://localhost:8080/"
        },
        "outputId": "7dbe16de-b3fb-48b3-d826-52107da92591"
      },
      "source": [
        "MCDt1.shape"
      ],
      "execution_count": 9,
      "outputs": [
        {
          "output_type": "execute_result",
          "data": {
            "text/plain": [
              "(2170743, 78)"
            ]
          },
          "metadata": {
            "tags": []
          },
          "execution_count": 9
        }
      ]
    },
    {
      "cell_type": "code",
      "metadata": {
        "id": "NQFAW7XcSDWe"
      },
      "source": [
        "MCL1=LNMIV1[LNMIV1!='Benign']"
      ],
      "execution_count": 10,
      "outputs": []
    },
    {
      "cell_type": "code",
      "metadata": {
        "id": "vbCLaE9JSJP6",
        "colab": {
          "base_uri": "https://localhost:8080/"
        },
        "outputId": "0e76bd2d-38e6-4089-f0cf-ac1839520ce8"
      },
      "source": [
        "LNMIV1.shape,MCL1.shape"
      ],
      "execution_count": 11,
      "outputs": [
        {
          "output_type": "execute_result",
          "data": {
            "text/plain": [
              "((8247888,), (2170743,))"
            ]
          },
          "metadata": {
            "tags": []
          },
          "execution_count": 11
        }
      ]
    },
    {
      "cell_type": "code",
      "metadata": {
        "id": "IYIU3D0hHTK7"
      },
      "source": [
        "np.save('/content/drive/My Drive/Result/NMCx1', MinMaxScaler().fit_transform(MCDt1))\n",
        "np.save('/content/drive/My Drive/Result/NMCy1', LabelEncoder().fit_transform(MCL1))"
      ],
      "execution_count": 12,
      "outputs": []
    },
    {
      "cell_type": "code",
      "metadata": {
        "id": "PydDhs08uTxk"
      },
      "source": [
        "nd2 = np.zeros((0,79),dtype=object)\r\n",
        "nd2=np.vstack((nd2,pd.read_csv('/content/drive/My Drive/Dataset/Data 2/Thuesday-20-02-2018_TrafficForML_CICFlowMeter.csv')))"
      ],
      "execution_count": null,
      "outputs": []
    },
    {
      "cell_type": "code",
      "metadata": {
        "id": "IONXjBb7uYKm"
      },
      "source": [
        "Dt2=nd2[:,:-1].astype(float)"
      ],
      "execution_count": null,
      "outputs": []
    },
    {
      "cell_type": "code",
      "metadata": {
        "id": "mmfWxCnNudYd"
      },
      "source": [
        "LNMV2=nd2[~np.isnan(Dt2).any(axis=1),-1]\r\n",
        "DtNMV2=Dt2[~np.isnan(Dt2).any(axis=1)]\r\n",
        "LNMIV2=LNMV2[~np.isinf(DtNMV2).any(axis=1)]\r\n",
        "DtNMIV2=DtNMV2[~np.isinf(DtNMV2).any(axis=1)]"
      ],
      "execution_count": null,
      "outputs": []
    },
    {
      "cell_type": "code",
      "metadata": {
        "id": "VMIQ1cjZugWw"
      },
      "source": [
        "del(DtNMV2)"
      ],
      "execution_count": null,
      "outputs": []
    },
    {
      "cell_type": "code",
      "metadata": {
        "id": "7S7hMpiSujiu",
        "colab": {
          "base_uri": "https://localhost:8080/"
        },
        "outputId": "5846ad07-00e3-41be-ae88-74df9c165db0"
      },
      "source": [
        "DtNMIV2.shape"
      ],
      "execution_count": null,
      "outputs": [
        {
          "output_type": "execute_result",
          "data": {
            "text/plain": [
              "(7889295, 78)"
            ]
          },
          "metadata": {
            "tags": []
          },
          "execution_count": 6
        }
      ]
    },
    {
      "cell_type": "code",
      "metadata": {
        "id": "Use6ABvQul_g"
      },
      "source": [
        "MCDt2=DtNMIV2[LNMIV2 !='Benign',:]"
      ],
      "execution_count": null,
      "outputs": []
    },
    {
      "cell_type": "code",
      "metadata": {
        "id": "rL2pcifzuoPn",
        "colab": {
          "base_uri": "https://localhost:8080/"
        },
        "outputId": "79893ba5-d34f-4656-88a2-2e46cd3a9219"
      },
      "source": [
        "MCDt2.shape"
      ],
      "execution_count": null,
      "outputs": [
        {
          "output_type": "execute_result",
          "data": {
            "text/plain": [
              "(576191, 78)"
            ]
          },
          "metadata": {
            "tags": []
          },
          "execution_count": 8
        }
      ]
    },
    {
      "cell_type": "code",
      "metadata": {
        "id": "WmGJ_iTMQj6G"
      },
      "source": [
        "MCL2=LNMIV2[LNMIV2!='Benign']"
      ],
      "execution_count": null,
      "outputs": []
    },
    {
      "cell_type": "code",
      "metadata": {
        "id": "XOzc4v8QQtjA",
        "colab": {
          "base_uri": "https://localhost:8080/"
        },
        "outputId": "7ea573e8-ce5c-4428-bd51-329004d00f53"
      },
      "source": [
        "LNMIV2.shape,MCL2.shape"
      ],
      "execution_count": null,
      "outputs": [
        {
          "output_type": "execute_result",
          "data": {
            "text/plain": [
              "((7889295,), (576191,))"
            ]
          },
          "metadata": {
            "tags": []
          },
          "execution_count": 10
        }
      ]
    },
    {
      "cell_type": "code",
      "metadata": {
        "id": "3b0W4YO6QzU9"
      },
      "source": [
        "np.save('/content/drive/My Drive/Result/NMCx2', MinMaxScaler().fit_transform(MCDt2))\r\n",
        "np.save('/content/drive/My Drive/Result/NMCy2', LabelEncoder().fit_transform(MCL2))"
      ],
      "execution_count": null,
      "outputs": []
    },
    {
      "cell_type": "code",
      "metadata": {
        "id": "xXAKnzLqIImi"
      },
      "source": [
        "import numpy as np\n",
        "import os\n",
        "import tensorflow as tf\n",
        "import keras\n",
        "from keras import models\n",
        "from keras import layers"
      ],
      "execution_count": 3,
      "outputs": []
    },
    {
      "cell_type": "code",
      "metadata": {
        "id": "17vzZjDQIPJc"
      },
      "source": [
        "x1=np.load('/content/drive/My Drive/Result/NMCx1.npy')\n",
        "y1=np.load('/content/drive/My Drive/Result/NMCy1.npy')\n",
        "x2=np.load('/content/drive/My Drive/Result/NMCx2.npy')\n",
        "y2=np.load('/content/drive/My Drive/Result/NMCy2.npy')\n",
        "x=np.concatenate((x1,x2), axis=0)\n",
        "y=np.concatenate((y1,y2), axis=0)\n",
        "x=x.astype(np.float32)"
      ],
      "execution_count": 4,
      "outputs": []
    },
    {
      "cell_type": "code",
      "metadata": {
        "id": "TS05KKf5IaRZ"
      },
      "source": [
        "x=np.delete(x,0,1)"
      ],
      "execution_count": 5,
      "outputs": []
    },
    {
      "cell_type": "code",
      "metadata": {
        "id": "2VYdzcsqIdyd",
        "colab": {
          "base_uri": "https://localhost:8080/"
        },
        "outputId": "645e9ad4-7e41-4d94-919f-007b51cb3124"
      },
      "source": [
        "(unique, counts) = np.unique(y, return_counts=True)\n",
        "frequencies = np.asarray((unique, counts)).T\n",
        "\n",
        "print(frequencies)"
      ],
      "execution_count": 6,
      "outputs": [
        {
          "output_type": "stream",
          "text": [
            "[[     0 862382]\n",
            " [     1    611]\n",
            " [     2    230]\n",
            " [     3 686012]\n",
            " [     4   1730]\n",
            " [     5  41508]\n",
            " [     6 461912]\n",
            " [     7 139890]\n",
            " [     8  10990]\n",
            " [     9 193354]\n",
            " [    10 160639]\n",
            " [    11     87]\n",
            " [    12 187589]]\n"
          ],
          "name": "stdout"
        }
      ]
    },
    {
      "cell_type": "code",
      "metadata": {
        "id": "vwDuO_c2Ieys",
        "colab": {
          "base_uri": "https://localhost:8080/"
        },
        "outputId": "c45b77bf-b329-46ff-bd33-f22c0a4c8397"
      },
      "source": [
        "x.shape"
      ],
      "execution_count": 7,
      "outputs": [
        {
          "output_type": "execute_result",
          "data": {
            "text/plain": [
              "(2746934, 77)"
            ]
          },
          "metadata": {
            "tags": []
          },
          "execution_count": 7
        }
      ]
    },
    {
      "cell_type": "code",
      "metadata": {
        "id": "TU4H5gc5ItdB"
      },
      "source": [
        "from sklearn.model_selection import train_test_split\n",
        "xtrain, xtest, ytrain, ytest = train_test_split(x, y, test_size=0.2, random_state=123)"
      ],
      "execution_count": 8,
      "outputs": []
    },
    {
      "cell_type": "code",
      "metadata": {
        "id": "6cp-xIOWS1VV"
      },
      "source": [
        "from keras.utils import to_categorical\r\n",
        "ztrain = to_categorical(ytrain, num_classes=None)\r\n",
        "ztest = to_categorical(ytest, num_classes=None)"
      ],
      "execution_count": 9,
      "outputs": []
    },
    {
      "cell_type": "code",
      "metadata": {
        "id": "JHtcDKGrS4aY",
        "colab": {
          "base_uri": "https://localhost:8080/"
        },
        "outputId": "b19e7aa0-62ec-4ebe-84a2-b0788f9bb472"
      },
      "source": [
        "ztrain.shape"
      ],
      "execution_count": 10,
      "outputs": [
        {
          "output_type": "execute_result",
          "data": {
            "text/plain": [
              "(2197547, 13)"
            ]
          },
          "metadata": {
            "tags": []
          },
          "execution_count": 10
        }
      ]
    },
    {
      "cell_type": "markdown",
      "metadata": {
        "id": "dmoGy9Q1E4MQ"
      },
      "source": [
        "**ANN with 3 Hidden layer**"
      ]
    },
    {
      "cell_type": "markdown",
      "metadata": {
        "id": "sHyqajO-qzQO"
      },
      "source": [
        "**Ann with 4 hidden Layer**\r\n",
        "\r\n",
        "---\r\n",
        "\r\n",
        "\r\n",
        "\r\n",
        "\r\n"
      ]
    },
    {
      "cell_type": "code",
      "metadata": {
        "id": "Zk60ohdTIzYj",
        "colab": {
          "base_uri": "https://localhost:8080/"
        },
        "outputId": "6d909f05-5f3f-4854-a8db-02f7d5cc7ec6"
      },
      "source": [
        "def create_model():\n",
        "  model = models.Sequential()\n",
        "  model.add(layers.Dense(256,input_dim=x.shape[1],activation='relu',use_bias=True))\n",
        "  model.add(layers.Dropout(0.1))\n",
        "  model.add(layers.Dense(128,activation='relu',use_bias=True))\n",
        "  model.add(layers.Dropout(0.1))\n",
        "  model.add(layers.Dense(64,activation='relu',use_bias=True))\n",
        "  model.add(layers.Dropout(0.1))\n",
        "  model.add(layers.Dense(32,activation='relu',use_bias=True))\n",
        "  model.add(layers.Dropout(0.5))\n",
        "  model.add(layers.Dense(np.unique(y).shape[0],activation='softmax',use_bias=True)) \n",
        "  return model\n",
        "\n",
        "from keras.optimizers import * \n",
        "model = create_model()\n",
        "opt = Adam(learning_rate=1e-4)\n",
        "model.compile(loss=\"categorical_crossentropy\", optimizer=opt, metrics=['categorical_accuracy'])\n",
        "model.summary()\n",
        "history=model.fit(xtrain , ztrain ,batch_size=256 , epochs=100 ,verbose=1 ,shuffle=True)\n",
        "result = model.evaluate(xtest,ztest)\n",
        "dict(zip(model.metrics_names, result))"
      ],
      "execution_count": 11,
      "outputs": [
        {
          "output_type": "stream",
          "text": [
            "Model: \"sequential\"\n",
            "_________________________________________________________________\n",
            "Layer (type)                 Output Shape              Param #   \n",
            "=================================================================\n",
            "dense (Dense)                (None, 256)               19968     \n",
            "_________________________________________________________________\n",
            "dropout (Dropout)            (None, 256)               0         \n",
            "_________________________________________________________________\n",
            "dense_1 (Dense)              (None, 128)               32896     \n",
            "_________________________________________________________________\n",
            "dropout_1 (Dropout)          (None, 128)               0         \n",
            "_________________________________________________________________\n",
            "dense_2 (Dense)              (None, 64)                8256      \n",
            "_________________________________________________________________\n",
            "dropout_2 (Dropout)          (None, 64)                0         \n",
            "_________________________________________________________________\n",
            "dense_3 (Dense)              (None, 32)                2080      \n",
            "_________________________________________________________________\n",
            "dropout_3 (Dropout)          (None, 32)                0         \n",
            "_________________________________________________________________\n",
            "dense_4 (Dense)              (None, 13)                429       \n",
            "=================================================================\n",
            "Total params: 63,629\n",
            "Trainable params: 63,629\n",
            "Non-trainable params: 0\n",
            "_________________________________________________________________\n",
            "Epoch 1/100\n",
            "8585/8585 [==============================] - 41s 5ms/step - loss: 0.5883 - categorical_accuracy: 0.8089\n",
            "Epoch 2/100\n",
            "8585/8585 [==============================] - 40s 5ms/step - loss: 0.1159 - categorical_accuracy: 0.9445\n",
            "Epoch 3/100\n",
            "8585/8585 [==============================] - 40s 5ms/step - loss: 0.0997 - categorical_accuracy: 0.9502\n",
            "Epoch 4/100\n",
            "8585/8585 [==============================] - 40s 5ms/step - loss: 0.0918 - categorical_accuracy: 0.9533\n",
            "Epoch 5/100\n",
            "8585/8585 [==============================] - 40s 5ms/step - loss: 0.0881 - categorical_accuracy: 0.9551\n",
            "Epoch 6/100\n",
            "8585/8585 [==============================] - 43s 5ms/step - loss: 0.0853 - categorical_accuracy: 0.9560\n",
            "Epoch 7/100\n",
            "8585/8585 [==============================] - 40s 5ms/step - loss: 0.0839 - categorical_accuracy: 0.9566\n",
            "Epoch 8/100\n",
            "8585/8585 [==============================] - 41s 5ms/step - loss: 0.0828 - categorical_accuracy: 0.9571\n",
            "Epoch 9/100\n",
            "8585/8585 [==============================] - 41s 5ms/step - loss: 0.0818 - categorical_accuracy: 0.9577\n",
            "Epoch 10/100\n",
            "8585/8585 [==============================] - 50s 6ms/step - loss: 0.0811 - categorical_accuracy: 0.9579\n",
            "Epoch 11/100\n",
            "8585/8585 [==============================] - 40s 5ms/step - loss: 0.0804 - categorical_accuracy: 0.9584\n",
            "Epoch 12/100\n",
            "8585/8585 [==============================] - 40s 5ms/step - loss: 0.0802 - categorical_accuracy: 0.9585\n",
            "Epoch 13/100\n",
            "8585/8585 [==============================] - 44s 5ms/step - loss: 0.0797 - categorical_accuracy: 0.9589\n",
            "Epoch 14/100\n",
            "8585/8585 [==============================] - 40s 5ms/step - loss: 0.0796 - categorical_accuracy: 0.9591\n",
            "Epoch 15/100\n",
            "8585/8585 [==============================] - 40s 5ms/step - loss: 0.0789 - categorical_accuracy: 0.9595\n",
            "Epoch 16/100\n",
            "8585/8585 [==============================] - 40s 5ms/step - loss: 0.0785 - categorical_accuracy: 0.9597\n",
            "Epoch 17/100\n",
            "8585/8585 [==============================] - 40s 5ms/step - loss: 0.0777 - categorical_accuracy: 0.9597\n",
            "Epoch 18/100\n",
            "8585/8585 [==============================] - 40s 5ms/step - loss: 0.0777 - categorical_accuracy: 0.9598\n",
            "Epoch 19/100\n",
            "8585/8585 [==============================] - 40s 5ms/step - loss: 0.0771 - categorical_accuracy: 0.9601\n",
            "Epoch 20/100\n",
            "8585/8585 [==============================] - 40s 5ms/step - loss: 0.0772 - categorical_accuracy: 0.9599\n",
            "Epoch 21/100\n",
            "8585/8585 [==============================] - 43s 5ms/step - loss: 0.0768 - categorical_accuracy: 0.9604\n",
            "Epoch 22/100\n",
            "8585/8585 [==============================] - 40s 5ms/step - loss: 0.0764 - categorical_accuracy: 0.9604\n",
            "Epoch 23/100\n",
            "8585/8585 [==============================] - 40s 5ms/step - loss: 0.0763 - categorical_accuracy: 0.9607\n",
            "Epoch 24/100\n",
            "8585/8585 [==============================] - 40s 5ms/step - loss: 0.0760 - categorical_accuracy: 0.9608\n",
            "Epoch 25/100\n",
            "8585/8585 [==============================] - 39s 5ms/step - loss: 0.0759 - categorical_accuracy: 0.9609\n",
            "Epoch 26/100\n",
            "8585/8585 [==============================] - 40s 5ms/step - loss: 0.0759 - categorical_accuracy: 0.9607\n",
            "Epoch 27/100\n",
            "8585/8585 [==============================] - 40s 5ms/step - loss: 0.0750 - categorical_accuracy: 0.9614\n",
            "Epoch 28/100\n",
            "8585/8585 [==============================] - 40s 5ms/step - loss: 0.0751 - categorical_accuracy: 0.9611\n",
            "Epoch 29/100\n",
            "8585/8585 [==============================] - 43s 5ms/step - loss: 0.0748 - categorical_accuracy: 0.9617\n",
            "Epoch 30/100\n",
            "8585/8585 [==============================] - 40s 5ms/step - loss: 0.0744 - categorical_accuracy: 0.9617\n",
            "Epoch 31/100\n",
            "8585/8585 [==============================] - 40s 5ms/step - loss: 0.0737 - categorical_accuracy: 0.9625\n",
            "Epoch 32/100\n",
            "8585/8585 [==============================] - 40s 5ms/step - loss: 0.0736 - categorical_accuracy: 0.9626\n",
            "Epoch 33/100\n",
            "8585/8585 [==============================] - 41s 5ms/step - loss: 0.0736 - categorical_accuracy: 0.9627\n",
            "Epoch 34/100\n",
            "8585/8585 [==============================] - 40s 5ms/step - loss: 0.0733 - categorical_accuracy: 0.9623\n",
            "Epoch 35/100\n",
            "8585/8585 [==============================] - 40s 5ms/step - loss: 0.0727 - categorical_accuracy: 0.9629\n",
            "Epoch 36/100\n",
            "8585/8585 [==============================] - 41s 5ms/step - loss: 0.0724 - categorical_accuracy: 0.9631\n",
            "Epoch 37/100\n",
            "8585/8585 [==============================] - 41s 5ms/step - loss: 0.0723 - categorical_accuracy: 0.9631\n",
            "Epoch 38/100\n",
            "8585/8585 [==============================] - 40s 5ms/step - loss: 0.0719 - categorical_accuracy: 0.9635\n",
            "Epoch 39/100\n",
            "8585/8585 [==============================] - 40s 5ms/step - loss: 0.0720 - categorical_accuracy: 0.9631\n",
            "Epoch 40/100\n",
            "8585/8585 [==============================] - 40s 5ms/step - loss: 0.0719 - categorical_accuracy: 0.9632\n",
            "Epoch 41/100\n",
            "8585/8585 [==============================] - 40s 5ms/step - loss: 0.0716 - categorical_accuracy: 0.9634\n",
            "Epoch 42/100\n",
            "8585/8585 [==============================] - 40s 5ms/step - loss: 0.0715 - categorical_accuracy: 0.9633\n",
            "Epoch 43/100\n",
            "8585/8585 [==============================] - 40s 5ms/step - loss: 0.0712 - categorical_accuracy: 0.9634\n",
            "Epoch 44/100\n",
            "8585/8585 [==============================] - 43s 5ms/step - loss: 0.0711 - categorical_accuracy: 0.9633\n",
            "Epoch 45/100\n",
            "8585/8585 [==============================] - 40s 5ms/step - loss: 0.0712 - categorical_accuracy: 0.9634\n",
            "Epoch 46/100\n",
            "8585/8585 [==============================] - 40s 5ms/step - loss: 0.0707 - categorical_accuracy: 0.9635\n",
            "Epoch 47/100\n",
            "8585/8585 [==============================] - 40s 5ms/step - loss: 0.0708 - categorical_accuracy: 0.9636\n",
            "Epoch 48/100\n",
            "8585/8585 [==============================] - 40s 5ms/step - loss: 0.0707 - categorical_accuracy: 0.9633\n",
            "Epoch 49/100\n",
            "8585/8585 [==============================] - 40s 5ms/step - loss: 0.0705 - categorical_accuracy: 0.9636\n",
            "Epoch 50/100\n",
            "8585/8585 [==============================] - 40s 5ms/step - loss: 0.0707 - categorical_accuracy: 0.9637\n",
            "Epoch 51/100\n",
            "8585/8585 [==============================] - 41s 5ms/step - loss: 0.0703 - categorical_accuracy: 0.9638\n",
            "Epoch 52/100\n",
            "8585/8585 [==============================] - 42s 5ms/step - loss: 0.0704 - categorical_accuracy: 0.9639\n",
            "Epoch 53/100\n",
            "8585/8585 [==============================] - 40s 5ms/step - loss: 0.0703 - categorical_accuracy: 0.9636\n",
            "Epoch 54/100\n",
            "8585/8585 [==============================] - 41s 5ms/step - loss: 0.0701 - categorical_accuracy: 0.9639\n",
            "Epoch 55/100\n",
            "8585/8585 [==============================] - 41s 5ms/step - loss: 0.0702 - categorical_accuracy: 0.9640\n",
            "Epoch 56/100\n",
            "8585/8585 [==============================] - 40s 5ms/step - loss: 0.0700 - categorical_accuracy: 0.9637\n",
            "Epoch 57/100\n",
            "8585/8585 [==============================] - 41s 5ms/step - loss: 0.0701 - categorical_accuracy: 0.9639\n",
            "Epoch 58/100\n",
            "8585/8585 [==============================] - 41s 5ms/step - loss: 0.0698 - categorical_accuracy: 0.9639\n",
            "Epoch 59/100\n",
            "8585/8585 [==============================] - 41s 5ms/step - loss: 0.0698 - categorical_accuracy: 0.9637\n",
            "Epoch 60/100\n",
            "8585/8585 [==============================] - 43s 5ms/step - loss: 0.0696 - categorical_accuracy: 0.9640\n",
            "Epoch 61/100\n",
            "8585/8585 [==============================] - 41s 5ms/step - loss: 0.0698 - categorical_accuracy: 0.9636\n",
            "Epoch 62/100\n",
            "8585/8585 [==============================] - 41s 5ms/step - loss: 0.0698 - categorical_accuracy: 0.9639\n",
            "Epoch 63/100\n",
            "8585/8585 [==============================] - 40s 5ms/step - loss: 0.0699 - categorical_accuracy: 0.9641\n",
            "Epoch 64/100\n",
            "8585/8585 [==============================] - 41s 5ms/step - loss: 0.0692 - categorical_accuracy: 0.9640\n",
            "Epoch 65/100\n",
            "8585/8585 [==============================] - 40s 5ms/step - loss: 0.0691 - categorical_accuracy: 0.9642\n",
            "Epoch 66/100\n",
            "8585/8585 [==============================] - 41s 5ms/step - loss: 0.0697 - categorical_accuracy: 0.9640\n",
            "Epoch 67/100\n",
            "8585/8585 [==============================] - 42s 5ms/step - loss: 0.0689 - categorical_accuracy: 0.9643\n",
            "Epoch 68/100\n",
            "8585/8585 [==============================] - 40s 5ms/step - loss: 0.0693 - categorical_accuracy: 0.9642\n",
            "Epoch 69/100\n",
            "8585/8585 [==============================] - 40s 5ms/step - loss: 0.0689 - categorical_accuracy: 0.9642\n",
            "Epoch 70/100\n",
            "8585/8585 [==============================] - 40s 5ms/step - loss: 0.0697 - categorical_accuracy: 0.9641\n",
            "Epoch 71/100\n",
            "8585/8585 [==============================] - 40s 5ms/step - loss: 0.0692 - categorical_accuracy: 0.9639\n",
            "Epoch 72/100\n",
            "8585/8585 [==============================] - 40s 5ms/step - loss: 0.0693 - categorical_accuracy: 0.9640\n",
            "Epoch 73/100\n",
            "8585/8585 [==============================] - 40s 5ms/step - loss: 0.0691 - categorical_accuracy: 0.9643\n",
            "Epoch 74/100\n",
            "8585/8585 [==============================] - 41s 5ms/step - loss: 0.0690 - categorical_accuracy: 0.9642\n",
            "Epoch 75/100\n",
            "8585/8585 [==============================] - 42s 5ms/step - loss: 0.0689 - categorical_accuracy: 0.9642\n",
            "Epoch 76/100\n",
            "8585/8585 [==============================] - 40s 5ms/step - loss: 0.0688 - categorical_accuracy: 0.9646\n",
            "Epoch 77/100\n",
            "8585/8585 [==============================] - 40s 5ms/step - loss: 0.0689 - categorical_accuracy: 0.9643\n",
            "Epoch 78/100\n",
            "8585/8585 [==============================] - 41s 5ms/step - loss: 0.0689 - categorical_accuracy: 0.9644\n",
            "Epoch 79/100\n",
            "8585/8585 [==============================] - 40s 5ms/step - loss: 0.0691 - categorical_accuracy: 0.9642\n",
            "Epoch 80/100\n",
            "8585/8585 [==============================] - 40s 5ms/step - loss: 0.0696 - categorical_accuracy: 0.9642\n",
            "Epoch 81/100\n",
            "8585/8585 [==============================] - 41s 5ms/step - loss: 0.0690 - categorical_accuracy: 0.9642\n",
            "Epoch 82/100\n",
            "8585/8585 [==============================] - 40s 5ms/step - loss: 0.0686 - categorical_accuracy: 0.9643\n",
            "Epoch 83/100\n",
            "8585/8585 [==============================] - 43s 5ms/step - loss: 0.0691 - categorical_accuracy: 0.9644\n",
            "Epoch 84/100\n",
            "8585/8585 [==============================] - 41s 5ms/step - loss: 0.0686 - categorical_accuracy: 0.9645\n",
            "Epoch 85/100\n",
            "8585/8585 [==============================] - 42s 5ms/step - loss: 0.0689 - categorical_accuracy: 0.9643\n",
            "Epoch 86/100\n",
            "8585/8585 [==============================] - 42s 5ms/step - loss: 0.0688 - categorical_accuracy: 0.9643\n",
            "Epoch 87/100\n",
            "8585/8585 [==============================] - 42s 5ms/step - loss: 0.0685 - categorical_accuracy: 0.9645\n",
            "Epoch 88/100\n",
            "8585/8585 [==============================] - 42s 5ms/step - loss: 0.0686 - categorical_accuracy: 0.9646\n",
            "Epoch 89/100\n",
            "8585/8585 [==============================] - 42s 5ms/step - loss: 0.0690 - categorical_accuracy: 0.9642\n",
            "Epoch 90/100\n",
            "8585/8585 [==============================] - 44s 5ms/step - loss: 0.0689 - categorical_accuracy: 0.9644\n",
            "Epoch 91/100\n",
            "8585/8585 [==============================] - 41s 5ms/step - loss: 0.0684 - categorical_accuracy: 0.9645\n",
            "Epoch 92/100\n",
            "8585/8585 [==============================] - 42s 5ms/step - loss: 0.0686 - categorical_accuracy: 0.9644\n",
            "Epoch 93/100\n",
            "8585/8585 [==============================] - 41s 5ms/step - loss: 0.0689 - categorical_accuracy: 0.9642\n",
            "Epoch 94/100\n",
            "8585/8585 [==============================] - 42s 5ms/step - loss: 0.0682 - categorical_accuracy: 0.9646\n",
            "Epoch 95/100\n",
            "8585/8585 [==============================] - 40s 5ms/step - loss: 0.0685 - categorical_accuracy: 0.9644\n",
            "Epoch 96/100\n",
            "8585/8585 [==============================] - 41s 5ms/step - loss: 0.0687 - categorical_accuracy: 0.9645\n",
            "Epoch 97/100\n",
            "8585/8585 [==============================] - 40s 5ms/step - loss: 0.0683 - categorical_accuracy: 0.9643\n",
            "Epoch 98/100\n",
            "8585/8585 [==============================] - 42s 5ms/step - loss: 0.0686 - categorical_accuracy: 0.9645\n",
            "Epoch 99/100\n",
            "8585/8585 [==============================] - 40s 5ms/step - loss: 0.0688 - categorical_accuracy: 0.9643\n",
            "Epoch 100/100\n",
            "8585/8585 [==============================] - 41s 5ms/step - loss: 0.0686 - categorical_accuracy: 0.9643\n",
            "17169/17169 [==============================] - 15s 868us/step - loss: 0.0631 - categorical_accuracy: 0.9669\n"
          ],
          "name": "stdout"
        },
        {
          "output_type": "execute_result",
          "data": {
            "text/plain": [
              "{'categorical_accuracy': 0.9669030904769897, 'loss': 0.0630636066198349}"
            ]
          },
          "metadata": {
            "tags": []
          },
          "execution_count": 11
        }
      ]
    },
    {
      "cell_type": "code",
      "metadata": {
        "id": "N8xriabXJBWI"
      },
      "source": [
        "pred=model.predict(xtest)\r\n",
        "y_pred = np.argmax(pred, axis=-1)"
      ],
      "execution_count": 12,
      "outputs": []
    },
    {
      "cell_type": "code",
      "metadata": {
        "id": "HjhuTGksJE7B",
        "colab": {
          "base_uri": "https://localhost:8080/"
        },
        "outputId": "c6a8082f-12bb-4ccf-9400-01083a2ca160"
      },
      "source": [
        "from sklearn import metrics\n",
        "print(\"The accuracy score is\",metrics.accuracy_score(ytest, y_pred))\n",
        "print(\"The precision score is\",metrics.precision_score(ytest, y_pred,average='weighted'))\n",
        "print(\"The recall score is\",metrics.recall_score(ytest, y_pred,average='weighted'))\n",
        "print(\"The f1-score is\",metrics.f1_score(ytest, y_pred,average='weighted'))\n",
        "print('\\n')\n",
        "print(metrics.confusion_matrix(ytest, y_pred))\n",
        "print('\\n')\n",
        "print(\"=== Classification Report ===\")\n",
        "print(metrics.classification_report(ytest, y_pred))\n",
        "print('\\n')"
      ],
      "execution_count": 13,
      "outputs": [
        {
          "output_type": "stream",
          "text": [
            "The accuracy score is 0.9669031120139355\n"
          ],
          "name": "stdout"
        },
        {
          "output_type": "stream",
          "text": [
            "/usr/local/lib/python3.7/dist-packages/sklearn/metrics/_classification.py:1272: UndefinedMetricWarning: Precision is ill-defined and being set to 0.0 in labels with no predicted samples. Use `zero_division` parameter to control this behavior.\n",
            "  _warn_prf(average, modifier, msg_start, len(result))\n"
          ],
          "name": "stderr"
        },
        {
          "output_type": "stream",
          "text": [
            "The precision score is 0.9675765736042781\n",
            "The recall score is 0.9669031120139355\n",
            "The f1-score is 0.965461683730291\n",
            "\n",
            "\n",
            "[[172546      0      0      0      0      0      0      0      0      0\n",
            "      28      0      0]\n",
            " [     7     78      0      0      0      0      0      0      0      0\n",
            "      38      0      0]\n",
            " [    10      2     18      0      0      0      0      0      0      0\n",
            "      12      0      0]\n",
            " [     0      0      0 137533      0      0      0      0      0      0\n",
            "       0      0      0]\n",
            " [     0      0      0      0    348      0      0      0      0      0\n",
            "       0      0      0]\n",
            " [     0      0      0      0      0   8359      4      0      0      0\n",
            "       0      0      0]\n",
            " [     0      0      0      0      0      1  92294      0      0      0\n",
            "       0      0      0]\n",
            " [     0      0      0      0      0      0      0  14498      0  13415\n",
            "       0      0      0]\n",
            " [     0      0      0      0      0      0      0      0   2206      0\n",
            "      26      0      0]\n",
            " [     0      0      0      0      0      0      0   4532      0  33984\n",
            "       0      0      0]\n",
            " [    68      2      0      7      0      1      2      0      1      0\n",
            "   31969      0      0]\n",
            " [     0      7      0      0      0      0      0      0      0      0\n",
            "      18      0      0]\n",
            " [     0      0      0      0      0      0      1      0      0      1\n",
            "       0      0  37371]]\n",
            "\n",
            "\n",
            "=== Classification Report ===\n"
          ],
          "name": "stdout"
        },
        {
          "output_type": "stream",
          "text": [
            "/usr/local/lib/python3.7/dist-packages/sklearn/metrics/_classification.py:1272: UndefinedMetricWarning: Precision and F-score are ill-defined and being set to 0.0 in labels with no predicted samples. Use `zero_division` parameter to control this behavior.\n",
            "  _warn_prf(average, modifier, msg_start, len(result))\n"
          ],
          "name": "stderr"
        },
        {
          "output_type": "stream",
          "text": [
            "              precision    recall  f1-score   support\n",
            "\n",
            "           0       1.00      1.00      1.00    172574\n",
            "           1       0.88      0.63      0.74       123\n",
            "           2       1.00      0.43      0.60        42\n",
            "           3       1.00      1.00      1.00    137533\n",
            "           4       1.00      1.00      1.00       348\n",
            "           5       1.00      1.00      1.00      8363\n",
            "           6       1.00      1.00      1.00     92295\n",
            "           7       0.76      0.52      0.62     27913\n",
            "           8       1.00      0.99      0.99      2232\n",
            "           9       0.72      0.88      0.79     38516\n",
            "          10       1.00      1.00      1.00     32050\n",
            "          11       0.00      0.00      0.00        25\n",
            "          12       1.00      1.00      1.00     37373\n",
            "\n",
            "    accuracy                           0.97    549387\n",
            "   macro avg       0.87      0.80      0.83    549387\n",
            "weighted avg       0.97      0.97      0.97    549387\n",
            "\n",
            "\n",
            "\n"
          ],
          "name": "stdout"
        }
      ]
    },
    {
      "cell_type": "code",
      "metadata": {
        "id": "03sVB4oFJKhA"
      },
      "source": [
        "from sklearn.ensemble import RandomForestClassifier\n",
        "rfc = RandomForestClassifier()\n",
        "rfc_history=rfc.fit(xtrain,ytrain)\n",
        "rfc_predict = rfc.predict(xtest)"
      ],
      "execution_count": 14,
      "outputs": []
    },
    {
      "cell_type": "code",
      "metadata": {
        "id": "M7_Q4fCpJOkQ",
        "colab": {
          "base_uri": "https://localhost:8080/"
        },
        "outputId": "49652b37-e55d-4698-92ae-3a91ca3fa02a"
      },
      "source": [
        "from sklearn import metrics\n",
        "print(\"The accuracy score is\",metrics.accuracy_score(ytest, rfc_predict.round()))\n",
        "print(\"The precision score is\",metrics.precision_score(ytest, rfc_predict.round(),average='weighted'))\n",
        "print(\"The recall score is\",metrics.recall_score(ytest, rfc_predict.round(),average='weighted'))\n",
        "print(\"The f1-score is\",metrics.f1_score(ytest, rfc_predict.round(),average='weighted'))\n",
        "print('\\n')\n",
        "print(metrics.confusion_matrix(ytest, rfc_predict))\n",
        "print('\\n')\n",
        "print(\"=== Classification Report ===\")\n",
        "print(metrics.classification_report(ytest, rfc_predict))\n",
        "print('\\n')"
      ],
      "execution_count": 15,
      "outputs": [
        {
          "output_type": "stream",
          "text": [
            "The accuracy score is 0.9666974282245484\n",
            "The precision score is 0.9673678870728198\n",
            "The recall score is 0.9666974282245484\n",
            "The f1-score is 0.9652818159305442\n",
            "\n",
            "\n",
            "[[172566      0      0      0      0      0      0      0      0      0\n",
            "       8      0      0]\n",
            " [     6     81      0      0      0      0      0      0      0      0\n",
            "      35      1      0]\n",
            " [     7      0     29      0      0      0      0      0      0      0\n",
            "       4      2      0]\n",
            " [     0      0      0 137532      0      0      0      0      0      0\n",
            "       1      0      0]\n",
            " [     0      0      0      0    348      0      0      0      0      0\n",
            "       0      0      0]\n",
            " [     0      0      0      0      0   8362      1      0      0      0\n",
            "       0      0      0]\n",
            " [     0      0      0      0      0      0  92295      0      0      0\n",
            "       0      0      0]\n",
            " [     0      0      0      0      0      0      0  14446      0  13467\n",
            "       0      0      0]\n",
            " [     0      0      0      0      0      0      0      0   2196      0\n",
            "      36      0      0]\n",
            " [     0      0      0      0      0      0      0   4624      0  33892\n",
            "       0      0      0]\n",
            " [    53      0      4     33      0      1      1      0      0      0\n",
            "   31958      0      0]\n",
            " [     0      0      0      0      0      0      0      0      0      0\n",
            "      11     14      0]\n",
            " [     0      0      0      0      0      0      0      0      0      1\n",
            "       0      0  37372]]\n",
            "\n",
            "\n",
            "=== Classification Report ===\n",
            "              precision    recall  f1-score   support\n",
            "\n",
            "           0       1.00      1.00      1.00    172574\n",
            "           1       1.00      0.66      0.79       123\n",
            "           2       0.88      0.69      0.77        42\n",
            "           3       1.00      1.00      1.00    137533\n",
            "           4       1.00      1.00      1.00       348\n",
            "           5       1.00      1.00      1.00      8363\n",
            "           6       1.00      1.00      1.00     92295\n",
            "           7       0.76      0.52      0.61     27913\n",
            "           8       1.00      0.98      0.99      2232\n",
            "           9       0.72      0.88      0.79     38516\n",
            "          10       1.00      1.00      1.00     32050\n",
            "          11       0.82      0.56      0.67        25\n",
            "          12       1.00      1.00      1.00     37373\n",
            "\n",
            "    accuracy                           0.97    549387\n",
            "   macro avg       0.94      0.87      0.89    549387\n",
            "weighted avg       0.97      0.97      0.97    549387\n",
            "\n",
            "\n",
            "\n"
          ],
          "name": "stdout"
        }
      ]
    },
    {
      "cell_type": "code",
      "metadata": {
        "id": "pafL7Li0jyXW"
      },
      "source": [
        ""
      ],
      "execution_count": null,
      "outputs": []
    }
  ]
}